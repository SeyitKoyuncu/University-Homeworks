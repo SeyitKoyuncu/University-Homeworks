{
  "cells": [
    {
      "cell_type": "markdown",
      "metadata": {
        "id": "o9Xx0621S0ko"
      },
      "source": [
        "# Import The libaries"
      ]
    },
    {
      "cell_type": "code",
      "execution_count": 257,
      "metadata": {
        "id": "kN7fd5_DS5Mu"
      },
      "outputs": [],
      "source": [
        "import numpy as np\n",
        "import pandas as pd\n",
        "import matplotlib.pyplot as plt\n",
        "import seaborn as sns"
      ]
    },
    {
      "cell_type": "markdown",
      "metadata": {
        "id": "3ip3ch6JS8b1"
      },
      "source": [
        "# Read DataSet"
      ]
    },
    {
      "cell_type": "code",
      "execution_count": 258,
      "metadata": {
        "id": "jd-9AFVNS9vR"
      },
      "outputs": [],
      "source": [
        "df = pd.DataFrame(pd.read_csv(\"file1.csv\"))"
      ]
    },
    {
      "cell_type": "code",
      "execution_count": 259,
      "metadata": {
        "colab": {
          "base_uri": "https://localhost:8080/"
        },
        "id": "1xQZ3R7VTGnX",
        "outputId": "846bbe34-156a-465b-9444-6f7c2ceecfae"
      },
      "outputs": [
        {
          "data": {
            "text/plain": [
              "(Index(['Unnamed: 0', 'Q11_1', 'Q11_2', 'Q11_3', 'Q11_4', 'Q11_5', 'Q11_6',\n",
              "        'Q11_7', 'Q11_8', 'Q11_9', 'Q11_10', 'Q11_11', 'Q11_12', 'Q11_13',\n",
              "        'Q11_Dont_Know', 'Q12_1', 'Q12_2', 'Q12_3', 'Q12_4', 'Q12_5', 'Q12_6',\n",
              "        'Q12_7', 'Q12_8', 'Q12_9', 'Q12_10', 'Q12_11', 'Q12_12', 'Q12_13',\n",
              "        'Q12_14', 'Q12_Dont_Know', 'Q13_1', 'Q13_2', 'Q13_3', 'Q13_4', 'Q13_5',\n",
              "        'Q13_6', 'Q13_7', 'Q13_8', 'Q13_9', 'Q13_10', 'Q13_11', 'Q13_12',\n",
              "        'Q13_13', 'Q13_14', 'Q13_15', 'Q13_16', 'Q13_Dont_Know', 'Q14', 'Q15',\n",
              "        'Q17', 'Q18_1', 'Q18_2', 'Q18_3', 'Q18_4', 'Q18_5', 'Q18_6', 'Q18_7',\n",
              "        'Q18_8', 'Q18_9', 'Q18_10', 'Q18_11', 'Q18_12', 'Q18_13', 'Q18_14',\n",
              "        'Q18_15', 'Q18_16', 'Q18_17', 'Q18_18', 'Q18_19', 'Q18_20', 'Q18_21',\n",
              "        'Q18_22', 'Q18_23', 'Q20', 'Q21', 'Q16'],\n",
              "       dtype='object'),\n",
              " 76)"
            ]
          },
          "execution_count": 259,
          "metadata": {},
          "output_type": "execute_result"
        }
      ],
      "source": [
        "df.columns, len(df.columns)"
      ]
    },
    {
      "cell_type": "code",
      "execution_count": 260,
      "metadata": {
        "colab": {
          "base_uri": "https://localhost:8080/",
          "height": 392
        },
        "id": "dTyDgk96WQ8z",
        "outputId": "6c634032-8220-41a9-a62e-927dad571410"
      },
      "outputs": [
        {
          "data": {
            "text/html": [
              "<div>\n",
              "<style scoped>\n",
              "    .dataframe tbody tr th:only-of-type {\n",
              "        vertical-align: middle;\n",
              "    }\n",
              "\n",
              "    .dataframe tbody tr th {\n",
              "        vertical-align: top;\n",
              "    }\n",
              "\n",
              "    .dataframe thead th {\n",
              "        text-align: right;\n",
              "    }\n",
              "</style>\n",
              "<table border=\"1\" class=\"dataframe\">\n",
              "  <thead>\n",
              "    <tr style=\"text-align: right;\">\n",
              "      <th></th>\n",
              "      <th>Unnamed: 0</th>\n",
              "      <th>Q11_1</th>\n",
              "      <th>Q11_2</th>\n",
              "      <th>Q11_3</th>\n",
              "      <th>Q11_4</th>\n",
              "      <th>Q11_5</th>\n",
              "      <th>Q11_6</th>\n",
              "      <th>Q11_7</th>\n",
              "      <th>Q11_8</th>\n",
              "      <th>Q11_9</th>\n",
              "      <th>...</th>\n",
              "      <th>Q18_17</th>\n",
              "      <th>Q18_18</th>\n",
              "      <th>Q18_19</th>\n",
              "      <th>Q18_20</th>\n",
              "      <th>Q18_21</th>\n",
              "      <th>Q18_22</th>\n",
              "      <th>Q18_23</th>\n",
              "      <th>Q20</th>\n",
              "      <th>Q21</th>\n",
              "      <th>Q16</th>\n",
              "    </tr>\n",
              "  </thead>\n",
              "  <tbody>\n",
              "    <tr>\n",
              "      <th>0</th>\n",
              "      <td>0</td>\n",
              "      <td>0</td>\n",
              "      <td>0</td>\n",
              "      <td>0</td>\n",
              "      <td>1</td>\n",
              "      <td>1</td>\n",
              "      <td>0</td>\n",
              "      <td>0</td>\n",
              "      <td>1</td>\n",
              "      <td>0</td>\n",
              "      <td>...</td>\n",
              "      <td>5</td>\n",
              "      <td>5</td>\n",
              "      <td>5</td>\n",
              "      <td>5</td>\n",
              "      <td>5</td>\n",
              "      <td>5</td>\n",
              "      <td>5</td>\n",
              "      <td>3</td>\n",
              "      <td>3</td>\n",
              "      <td>A</td>\n",
              "    </tr>\n",
              "    <tr>\n",
              "      <th>1</th>\n",
              "      <td>1</td>\n",
              "      <td>1</td>\n",
              "      <td>0</td>\n",
              "      <td>0</td>\n",
              "      <td>1</td>\n",
              "      <td>0</td>\n",
              "      <td>0</td>\n",
              "      <td>1</td>\n",
              "      <td>0</td>\n",
              "      <td>0</td>\n",
              "      <td>...</td>\n",
              "      <td>4</td>\n",
              "      <td>2</td>\n",
              "      <td>4</td>\n",
              "      <td>2</td>\n",
              "      <td>2</td>\n",
              "      <td>2</td>\n",
              "      <td>2</td>\n",
              "      <td>3</td>\n",
              "      <td>3</td>\n",
              "      <td>D</td>\n",
              "    </tr>\n",
              "    <tr>\n",
              "      <th>2</th>\n",
              "      <td>2</td>\n",
              "      <td>1</td>\n",
              "      <td>1</td>\n",
              "      <td>0</td>\n",
              "      <td>1</td>\n",
              "      <td>0</td>\n",
              "      <td>0</td>\n",
              "      <td>1</td>\n",
              "      <td>1</td>\n",
              "      <td>0</td>\n",
              "      <td>...</td>\n",
              "      <td>4</td>\n",
              "      <td>4</td>\n",
              "      <td>?</td>\n",
              "      <td>?</td>\n",
              "      <td>4</td>\n",
              "      <td>2</td>\n",
              "      <td>4</td>\n",
              "      <td>4</td>\n",
              "      <td>1</td>\n",
              "      <td>A</td>\n",
              "    </tr>\n",
              "    <tr>\n",
              "      <th>3</th>\n",
              "      <td>3</td>\n",
              "      <td>0</td>\n",
              "      <td>0</td>\n",
              "      <td>0</td>\n",
              "      <td>0</td>\n",
              "      <td>0</td>\n",
              "      <td>0</td>\n",
              "      <td>0</td>\n",
              "      <td>0</td>\n",
              "      <td>0</td>\n",
              "      <td>...</td>\n",
              "      <td>?</td>\n",
              "      <td>?</td>\n",
              "      <td>?</td>\n",
              "      <td>?</td>\n",
              "      <td>?</td>\n",
              "      <td>?</td>\n",
              "      <td>?</td>\n",
              "      <td>3</td>\n",
              "      <td>3</td>\n",
              "      <td>C</td>\n",
              "    </tr>\n",
              "    <tr>\n",
              "      <th>4</th>\n",
              "      <td>4</td>\n",
              "      <td>1</td>\n",
              "      <td>1</td>\n",
              "      <td>0</td>\n",
              "      <td>1</td>\n",
              "      <td>0</td>\n",
              "      <td>0</td>\n",
              "      <td>1</td>\n",
              "      <td>1</td>\n",
              "      <td>0</td>\n",
              "      <td>...</td>\n",
              "      <td>?</td>\n",
              "      <td>?</td>\n",
              "      <td>1</td>\n",
              "      <td>1</td>\n",
              "      <td>?</td>\n",
              "      <td>?</td>\n",
              "      <td>?</td>\n",
              "      <td>3</td>\n",
              "      <td>3</td>\n",
              "      <td>D</td>\n",
              "    </tr>\n",
              "    <tr>\n",
              "      <th>5</th>\n",
              "      <td>5</td>\n",
              "      <td>0</td>\n",
              "      <td>1</td>\n",
              "      <td>0</td>\n",
              "      <td>0</td>\n",
              "      <td>0</td>\n",
              "      <td>0</td>\n",
              "      <td>0</td>\n",
              "      <td>0</td>\n",
              "      <td>0</td>\n",
              "      <td>...</td>\n",
              "      <td>4</td>\n",
              "      <td>4</td>\n",
              "      <td>4</td>\n",
              "      <td>4</td>\n",
              "      <td>4</td>\n",
              "      <td>4</td>\n",
              "      <td>4</td>\n",
              "      <td>3</td>\n",
              "      <td>3</td>\n",
              "      <td>B</td>\n",
              "    </tr>\n",
              "    <tr>\n",
              "      <th>6</th>\n",
              "      <td>6</td>\n",
              "      <td>1</td>\n",
              "      <td>0</td>\n",
              "      <td>0</td>\n",
              "      <td>1</td>\n",
              "      <td>1</td>\n",
              "      <td>0</td>\n",
              "      <td>1</td>\n",
              "      <td>1</td>\n",
              "      <td>0</td>\n",
              "      <td>...</td>\n",
              "      <td>5</td>\n",
              "      <td>1</td>\n",
              "      <td>5</td>\n",
              "      <td>3</td>\n",
              "      <td>5</td>\n",
              "      <td>3</td>\n",
              "      <td>3</td>\n",
              "      <td>3</td>\n",
              "      <td>1</td>\n",
              "      <td>A</td>\n",
              "    </tr>\n",
              "    <tr>\n",
              "      <th>7</th>\n",
              "      <td>7</td>\n",
              "      <td>1</td>\n",
              "      <td>0</td>\n",
              "      <td>1</td>\n",
              "      <td>0</td>\n",
              "      <td>1</td>\n",
              "      <td>1</td>\n",
              "      <td>1</td>\n",
              "      <td>0</td>\n",
              "      <td>0</td>\n",
              "      <td>...</td>\n",
              "      <td>3</td>\n",
              "      <td>2</td>\n",
              "      <td>5</td>\n",
              "      <td>5</td>\n",
              "      <td>5</td>\n",
              "      <td>5</td>\n",
              "      <td>5</td>\n",
              "      <td>5</td>\n",
              "      <td>1</td>\n",
              "      <td>A</td>\n",
              "    </tr>\n",
              "    <tr>\n",
              "      <th>8</th>\n",
              "      <td>8</td>\n",
              "      <td>1</td>\n",
              "      <td>1</td>\n",
              "      <td>0</td>\n",
              "      <td>0</td>\n",
              "      <td>0</td>\n",
              "      <td>0</td>\n",
              "      <td>1</td>\n",
              "      <td>1</td>\n",
              "      <td>0</td>\n",
              "      <td>...</td>\n",
              "      <td>2</td>\n",
              "      <td>2</td>\n",
              "      <td>2</td>\n",
              "      <td>2</td>\n",
              "      <td>2</td>\n",
              "      <td>2</td>\n",
              "      <td>3</td>\n",
              "      <td>1</td>\n",
              "      <td>2</td>\n",
              "      <td>A</td>\n",
              "    </tr>\n",
              "    <tr>\n",
              "      <th>9</th>\n",
              "      <td>9</td>\n",
              "      <td>1</td>\n",
              "      <td>0</td>\n",
              "      <td>0</td>\n",
              "      <td>0</td>\n",
              "      <td>0</td>\n",
              "      <td>0</td>\n",
              "      <td>0</td>\n",
              "      <td>0</td>\n",
              "      <td>0</td>\n",
              "      <td>...</td>\n",
              "      <td>4</td>\n",
              "      <td>1</td>\n",
              "      <td>4</td>\n",
              "      <td>1</td>\n",
              "      <td>4</td>\n",
              "      <td>1</td>\n",
              "      <td>1</td>\n",
              "      <td>4</td>\n",
              "      <td>4</td>\n",
              "      <td>A</td>\n",
              "    </tr>\n",
              "  </tbody>\n",
              "</table>\n",
              "<p>10 rows × 76 columns</p>\n",
              "</div>"
            ],
            "text/plain": [
              "   Unnamed: 0  Q11_1  Q11_2  Q11_3  Q11_4  Q11_5  Q11_6  Q11_7  Q11_8  Q11_9  \\\n",
              "0           0      0      0      0      1      1      0      0      1      0   \n",
              "1           1      1      0      0      1      0      0      1      0      0   \n",
              "2           2      1      1      0      1      0      0      1      1      0   \n",
              "3           3      0      0      0      0      0      0      0      0      0   \n",
              "4           4      1      1      0      1      0      0      1      1      0   \n",
              "5           5      0      1      0      0      0      0      0      0      0   \n",
              "6           6      1      0      0      1      1      0      1      1      0   \n",
              "7           7      1      0      1      0      1      1      1      0      0   \n",
              "8           8      1      1      0      0      0      0      1      1      0   \n",
              "9           9      1      0      0      0      0      0      0      0      0   \n",
              "\n",
              "   ...  Q18_17  Q18_18  Q18_19  Q18_20  Q18_21  Q18_22  Q18_23  Q20  Q21  Q16  \n",
              "0  ...       5       5       5       5       5       5       5    3    3    A  \n",
              "1  ...       4       2       4       2       2       2       2    3    3    D  \n",
              "2  ...       4       4       ?       ?       4       2       4    4    1    A  \n",
              "3  ...       ?       ?       ?       ?       ?       ?       ?    3    3    C  \n",
              "4  ...       ?       ?       1       1       ?       ?       ?    3    3    D  \n",
              "5  ...       4       4       4       4       4       4       4    3    3    B  \n",
              "6  ...       5       1       5       3       5       3       3    3    1    A  \n",
              "7  ...       3       2       5       5       5       5       5    5    1    A  \n",
              "8  ...       2       2       2       2       2       2       3    1    2    A  \n",
              "9  ...       4       1       4       1       4       1       1    4    4    A  \n",
              "\n",
              "[10 rows x 76 columns]"
            ]
          },
          "execution_count": 260,
          "metadata": {},
          "output_type": "execute_result"
        }
      ],
      "source": [
        "df.head(10)"
      ]
    },
    {
      "cell_type": "code",
      "execution_count": 261,
      "metadata": {
        "colab": {
          "base_uri": "https://localhost:8080/"
        },
        "id": "0ZqJwVspagIP",
        "outputId": "41092043-41f0-49fb-e53a-41f631ed8694"
      },
      "outputs": [
        {
          "data": {
            "text/plain": [
              "<bound method NDFrame.describe of       Unnamed: 0  Q11_1  Q11_2  Q11_3  Q11_4  Q11_5  Q11_6  Q11_7  Q11_8  \\\n",
              "0              0      0      0      0      1      1      0      0      1   \n",
              "1              1      1      0      0      1      0      0      1      0   \n",
              "2              2      1      1      0      1      0      0      1      1   \n",
              "3              3      0      0      0      0      0      0      0      0   \n",
              "4              4      1      1      0      1      0      0      1      1   \n",
              "...          ...    ...    ...    ...    ...    ...    ...    ...    ...   \n",
              "6103        6103      0      1      0      0      0      0      1      1   \n",
              "6104        6104      0      1      0      1      0      0      0      1   \n",
              "6105        6105      1      0      1      0      0      0      0      0   \n",
              "6106        6106      0      0      1      0      0      0      0      1   \n",
              "6107        6107      1      0      0      1      0      0      0      1   \n",
              "\n",
              "      Q11_9  ...  Q18_17  Q18_18  Q18_19  Q18_20  Q18_21  Q18_22  Q18_23  Q20  \\\n",
              "0         0  ...       5       5       5       5       5       5       5    3   \n",
              "1         0  ...       4       2       4       2       2       2       2    3   \n",
              "2         0  ...       4       4       ?       ?       4       2       4    4   \n",
              "3         0  ...       ?       ?       ?       ?       ?       ?       ?    3   \n",
              "4         0  ...       ?       ?       1       1       ?       ?       ?    3   \n",
              "...     ...  ...     ...     ...     ...     ...     ...     ...     ...  ...   \n",
              "6103      1  ...       2       2       3       3       2       1       1    1   \n",
              "6104      0  ...       ?       ?       ?       ?       ?       ?       ?    3   \n",
              "6105      0  ...       4       1       5       4       5       4       5    5   \n",
              "6106      0  ...       1       3       4       5       3       2       3    2   \n",
              "6107      0  ...       3       3       3       3       3       3       3    3   \n",
              "\n",
              "      Q21  Q16  \n",
              "0       3    A  \n",
              "1       3    D  \n",
              "2       1    A  \n",
              "3       3    C  \n",
              "4       3    D  \n",
              "...   ...  ...  \n",
              "6103    3    B  \n",
              "6104    3    A  \n",
              "6105    2    A  \n",
              "6106    3    A  \n",
              "6107    3    D  \n",
              "\n",
              "[6108 rows x 76 columns]>"
            ]
          },
          "execution_count": 261,
          "metadata": {},
          "output_type": "execute_result"
        }
      ],
      "source": [
        "df.describe"
      ]
    },
    {
      "cell_type": "markdown",
      "metadata": {
        "id": "VMuVgQS_WP__"
      },
      "source": []
    },
    {
      "cell_type": "markdown",
      "metadata": {
        "id": "lrBig6ByWP__"
      },
      "source": [
        "### Check the target column values"
      ]
    },
    {
      "cell_type": "code",
      "execution_count": 262,
      "metadata": {
        "colab": {
          "base_uri": "https://localhost:8080/",
          "height": 519
        },
        "id": "U_bPh_XfWP__",
        "outputId": "b0564c3e-f500-41e0-c709-f21593a2c22b"
      },
      "outputs": [
        {
          "name": "stdout",
          "output_type": "stream",
          "text": [
            "['A' 'D' 'C' 'B']\n"
          ]
        },
        {
          "data": {
            "image/png": "[encoded data removed]",
            "text/plain": [
              "<Figure size 432x288 with 1 Axes>"
            ]
          },
          "metadata": {
            "needs_background": "light"
          },
          "output_type": "display_data"
        },
        {
          "name": "stdout",
          "output_type": "stream",
          "text": [
            "Lenght of A's 2883\n",
            "Lenght of B's 1526\n",
            "Lenght of C's 892\n",
            "Lenght of D's 807\n"
          ]
        }
      ],
      "source": [
        "print(df['Q16'].unique())\n",
        "class_distribution = {'Class A': len(df[df['Q16'] == 'A'].value_counts()), 'Class B': len(df[df['Q16'] == 'B'].value_counts()), 'Class C': len(df[df['Q16'] == 'C'].value_counts()), 'Class D': len(df[df['Q16'] == 'D'].value_counts())}\n",
        "\n",
        "sns.barplot(x=list(class_distribution.keys()), y=list(class_distribution.values()))\n",
        "plt.show()\n",
        "print(f\"Lenght of A's {len(df[df['Q16'] == 'A'].value_counts())}\")\n",
        "print(f\"Lenght of B's {len(df[df['Q16'] == 'B'].value_counts())}\")\n",
        "print(f\"Lenght of C's {len(df[df['Q16'] == 'C'].value_counts())}\")\n",
        "print(f\"Lenght of D's {len(df[df['Q16'] == 'D'].value_counts())}\")"
      ]
    },
    {
      "cell_type": "markdown",
      "metadata": {
        "id": "PL_UL5IdWQAA"
      },
      "source": [
        "## Convert String Targets To The Countable Data"
      ]
    },
    {
      "cell_type": "code",
      "execution_count": 263,
      "metadata": {
        "colab": {
          "base_uri": "https://localhost:8080/"
        },
        "id": "b-NPN1doWQAA",
        "outputId": "60dbf6df-10a8-454e-a677-c62ea1888a89"
      },
      "outputs": [
        {
          "name": "stdout",
          "output_type": "stream",
          "text": [
            "['A' 'D' 'C' 'B']\n"
          ]
        },
        {
          "name": "stderr",
          "output_type": "stream",
          "text": [
            "C:\\Users\\AMD\\AppData\\Local\\Temp\\ipykernel_20744\\3392180124.py:3: SettingWithCopyWarning: \n",
            "A value is trying to be set on a copy of a slice from a DataFrame\n",
            "\n",
            "See the caveats in the documentation: https://pandas.pydata.org/pandas-docs/stable/user_guide/indexing.html#returning-a-view-versus-a-copy\n",
            "  if(df['Q16'][i] == 'A'): df['Q16'][i] = 0\n",
            "C:\\Users\\AMD\\AppData\\Local\\Temp\\ipykernel_20744\\3392180124.py:6: SettingWithCopyWarning: \n",
            "A value is trying to be set on a copy of a slice from a DataFrame\n",
            "\n",
            "See the caveats in the documentation: https://pandas.pydata.org/pandas-docs/stable/user_guide/indexing.html#returning-a-view-versus-a-copy\n",
            "  elif(df['Q16'][i] == 'D'): df['Q16'][i] = 3\n",
            "C:\\Users\\AMD\\AppData\\Local\\Temp\\ipykernel_20744\\3392180124.py:5: SettingWithCopyWarning: \n",
            "A value is trying to be set on a copy of a slice from a DataFrame\n",
            "\n",
            "See the caveats in the documentation: https://pandas.pydata.org/pandas-docs/stable/user_guide/indexing.html#returning-a-view-versus-a-copy\n",
            "  elif(df['Q16'][i] == 'C'): df['Q16'][i] = 2\n",
            "C:\\Users\\AMD\\AppData\\Local\\Temp\\ipykernel_20744\\3392180124.py:4: SettingWithCopyWarning: \n",
            "A value is trying to be set on a copy of a slice from a DataFrame\n",
            "\n",
            "See the caveats in the documentation: https://pandas.pydata.org/pandas-docs/stable/user_guide/indexing.html#returning-a-view-versus-a-copy\n",
            "  elif(df['Q16'][i] == 'B'): df['Q16'][i] = 1\n"
          ]
        },
        {
          "name": "stdout",
          "output_type": "stream",
          "text": [
            "[0 3 2 1]\n"
          ]
        }
      ],
      "source": [
        "print(df['Q16'].unique())\n",
        "for i in range(len(df['Q16'])):\n",
        "    if(df['Q16'][i] == 'A'): df['Q16'][i] = 0\n",
        "    elif(df['Q16'][i] == 'B'): df['Q16'][i] = 1\n",
        "    elif(df['Q16'][i] == 'C'): df['Q16'][i] = 2\n",
        "    elif(df['Q16'][i] == 'D'): df['Q16'][i] = 3\n",
        "\n",
        "print(df['Q16'].unique())"
      ]
    },
    {
      "cell_type": "code",
      "execution_count": 264,
      "metadata": {
        "colab": {
          "base_uri": "https://localhost:8080/"
        },
        "id": "Lol9VrQiWQAB",
        "outputId": "137c5963-a0ed-473d-d2ea-d3e9fb7096ad"
      },
      "outputs": [
        {
          "name": "stdout",
          "output_type": "stream",
          "text": [
            "Lenght of 0's 2883\n",
            "Lenght of 1's 1526\n",
            "Lenght of 2's 892\n",
            "Lenght of 3's 807\n"
          ]
        }
      ],
      "source": [
        "def PrintTheTargetColumnsRange(df):\n",
        "    print(f\"Lenght of 0's {len(df[df['Q16'] == 0])}\")\n",
        "    print(f\"Lenght of 1's {len(df[df['Q16'] == 1])}\")\n",
        "    print(f\"Lenght of 2's {len(df[df['Q16'] == 2])}\")\n",
        "    print(f\"Lenght of 3's {len(df[df['Q16'] == 3])}\")\n",
        "\n",
        "PrintTheTargetColumnsRange(df)"
      ]
    },
    {
      "cell_type": "markdown",
      "metadata": {
        "id": "KUf9LT6ndQib"
      },
      "source": [
        "### Check the DataTypes of all columns"
      ]
    },
    {
      "cell_type": "code",
      "execution_count": 265,
      "metadata": {
        "colab": {
          "base_uri": "https://localhost:8080/"
        },
        "id": "DBBTGps-dV9M",
        "outputId": "4e006fab-1b32-4f2f-f2e2-a18f9b3c0b22"
      },
      "outputs": [
        {
          "data": {
            "text/plain": [
              "Unnamed: 0     int64\n",
              "Q11_1          int64\n",
              "Q11_2          int64\n",
              "Q11_3          int64\n",
              "Q11_4          int64\n",
              "               ...  \n",
              "Q18_22        object\n",
              "Q18_23        object\n",
              "Q20            int64\n",
              "Q21            int64\n",
              "Q16           object\n",
              "Length: 76, dtype: object"
            ]
          },
          "execution_count": 265,
          "metadata": {},
          "output_type": "execute_result"
        }
      ],
      "source": [
        "df.dtypes"
      ]
    },
    {
      "cell_type": "markdown",
      "metadata": {
        "id": "ujrYjBlUWQAC"
      },
      "source": [
        "## Check The Uniqes of Columns"
      ]
    },
    {
      "cell_type": "code",
      "execution_count": 266,
      "metadata": {
        "colab": {
          "base_uri": "https://localhost:8080/"
        },
        "id": "jXZwRWKhWQAC",
        "outputId": "bebfe07e-63a2-4772-96d6-48523bb40c5f"
      },
      "outputs": [
        {
          "name": "stdout",
          "output_type": "stream",
          "text": [
            "Q11_1 = [0 1]\n",
            "Q11_2 = [0 1]\n",
            "Q11_3 = [0 1]\n",
            "Q11_4 = [1 0]\n",
            "Q11_5 = [1 0]\n",
            "Q11_6 = [0 1]\n",
            "Q11_7 = [0 1]\n",
            "Q11_8 = [1 0]\n",
            "Q11_9 = [0 1]\n",
            "Q11_10 = [0 1]\n",
            "Q11_11 = [1 0]\n",
            "Q11_12 = [0 1]\n",
            "Q11_13 = [0 1]\n",
            "Q11_Dont_Know = [0 1]\n",
            "Q12_1 = [0 1]\n",
            "Q12_2 = [0 1]\n",
            "Q12_3 = [1 0]\n",
            "Q12_4 = [1 0]\n",
            "Q12_5 = [0 1]\n",
            "Q12_6 = [0 1]\n",
            "Q12_7 = [0 1]\n",
            "Q12_8 = [1 0]\n",
            "Q12_9 = [0 1]\n",
            "Q12_10 = [0 1]\n",
            "Q12_11 = [1 0]\n",
            "Q12_12 = [0 1]\n",
            "Q12_13 = [0 1]\n",
            "Q12_14 = [0 1]\n",
            "Q12_Dont_Know = [0 1]\n",
            "Q13_1 = [0 1]\n",
            "Q13_2 = [0 1]\n",
            "Q13_3 = [1 0]\n",
            "Q13_4 = [0 1]\n",
            "Q13_5 = [1 0]\n",
            "Q13_6 = [0 1]\n",
            "Q13_7 = [0 1]\n",
            "Q13_8 = [0 1]\n",
            "Q13_9 = [1 0]\n",
            "Q13_10 = [0 1]\n",
            "Q13_11 = [0 1]\n",
            "Q13_12 = [0 1]\n",
            "Q13_13 = [1 0]\n",
            "Q13_14 = [1 0]\n",
            "Q13_15 = [0 1]\n",
            "Q13_16 = [0 1]\n",
            "Q13_Dont_Know = [0 1]\n",
            "Q14 = ['1' '3' '?' '2' '4' '5']\n",
            "Q15 = ['2' '1' '?']\n",
            "Q17 = ['3' '1' '?' '2' '4' '5']\n",
            "Q18_1 = ['5' '4' '?' '2' '3' '1']\n",
            "Q18_2 = ['5' '3' '?' '4' '1' '2']\n",
            "Q18_3 = ['5' '2' '4' '?' '3' '1']\n",
            "Q18_4 = ['5' '4' '?' '3' '2' '1']\n",
            "Q18_5 = ['5' '3' '4' '?' '2' '1']\n",
            "Q18_6 = ['5' '2' '4' '?' '3' '1']\n",
            "Q18_7 = ['5' '2' '4' '?' '1' '3']\n",
            "Q18_8 = ['5' '3' '4' '?' '2' '1']\n",
            "Q18_9 = ['5' '3' '4' '?' '2' '1']\n",
            "Q18_10 = ['5' '3' '4' '?' '2' '1']\n",
            "Q18_11 = ['5' '2' '?' '4' '1' '3']\n",
            "Q18_12 = ['5' '1' '4' '?' '3' '2']\n",
            "Q18_13 = ['5' '2' '?' '4' '3' '1']\n",
            "Q18_14 = ['5' '4' '?' '3' '2' '1']\n",
            "Q18_15 = ['5' '2' '?' '4' '3' '1']\n",
            "Q18_16 = ['5' '2' '?' '4' '1' '3']\n",
            "Q18_17 = ['5' '4' '?' '3' '2' '1']\n",
            "Q18_18 = ['5' '2' '4' '?' '1' '3']\n",
            "Q18_19 = ['5' '4' '?' '1' '2' '3']\n",
            "Q18_20 = ['5' '2' '?' '1' '4' '3']\n",
            "Q18_21 = ['5' '2' '4' '?' '3' '1']\n",
            "Q18_22 = ['5' '2' '?' '4' '3' '1']\n",
            "Q18_23 = ['5' '2' '4' '?' '3' '1']\n",
            "Q20 = [3 4 5 1 2]\n",
            "Q21 = [3 1 2 4 5]\n",
            "Q16 = [0 3 2 1]\n"
          ]
        }
      ],
      "source": [
        "for column in df.columns:\n",
        "    if column != 'Unnamed: 0':\n",
        "        print(f\"{column} = {df[column].unique()}\")"
      ]
    },
    {
      "cell_type": "markdown",
      "metadata": {
        "id": "fbw4uU1EXYml"
      },
      "source": [
        "# Handling NULL Values"
      ]
    },
    {
      "cell_type": "code",
      "execution_count": 267,
      "metadata": {
        "id": "mJitLH0mXhDH"
      },
      "outputs": [],
      "source": [
        "null_df = df.isnull().sum()"
      ]
    },
    {
      "cell_type": "code",
      "execution_count": 268,
      "metadata": {
        "colab": {
          "base_uri": "https://localhost:8080/"
        },
        "id": "G1ex53PmX3n4",
        "outputId": "b331bf89-fac1-4917-af8b-53840408e9d4"
      },
      "outputs": [
        {
          "data": {
            "text/plain": [
              "Unnamed: 0    0\n",
              "Q11_1         0\n",
              "Q11_2         0\n",
              "Q11_3         0\n",
              "Q11_4         0\n",
              "             ..\n",
              "Q18_22        0\n",
              "Q18_23        0\n",
              "Q20           0\n",
              "Q21           0\n",
              "Q16           0\n",
              "Length: 76, dtype: int64"
            ]
          },
          "execution_count": 268,
          "metadata": {},
          "output_type": "execute_result"
        }
      ],
      "source": [
        "null_df"
      ]
    },
    {
      "cell_type": "code",
      "execution_count": 269,
      "metadata": {
        "colab": {
          "base_uri": "https://localhost:8080/"
        },
        "id": "P331kpJEdZSS",
        "outputId": "0a7989d9-321c-4d19-9459-02bb3de7bdce"
      },
      "outputs": [
        {
          "data": {
            "text/plain": [
              "Unnamed: 0       0\n",
              "Q11_1            0\n",
              "Q11_2            0\n",
              "Q11_3            0\n",
              "Q11_4            0\n",
              "Q11_5            0\n",
              "Q11_6            0\n",
              "Q11_7            0\n",
              "Q11_8            0\n",
              "Q11_9            0\n",
              "Q11_10           0\n",
              "Q11_11           0\n",
              "Q11_12           0\n",
              "Q11_13           0\n",
              "Q11_Dont_Know    0\n",
              "Q12_1            0\n",
              "Q12_2            0\n",
              "Q12_3            0\n",
              "Q12_4            0\n",
              "Q12_5            0\n",
              "Q12_6            0\n",
              "Q12_7            0\n",
              "Q12_8            0\n",
              "Q12_9            0\n",
              "Q12_10           0\n",
              "Q12_11           0\n",
              "Q12_12           0\n",
              "Q12_13           0\n",
              "Q12_14           0\n",
              "Q12_Dont_Know    0\n",
              "Q13_1            0\n",
              "Q13_2            0\n",
              "Q13_3            0\n",
              "Q13_4            0\n",
              "Q13_5            0\n",
              "dtype: int64"
            ]
          },
          "execution_count": 269,
          "metadata": {},
          "output_type": "execute_result"
        }
      ],
      "source": [
        "question_mark_cells = df.applymap(lambda x: x == \"?\")\n",
        "question_mark_counts = question_mark_cells.sum(axis = 0)\n",
        "question_mark_counts.head(35)"
      ]
    },
    {
      "cell_type": "code",
      "execution_count": 270,
      "metadata": {
        "colab": {
          "base_uri": "https://localhost:8080/"
        },
        "id": "EqMVev5jdkOk",
        "outputId": "5c22f6cf-f6df-493a-d5ee-7b34b37b7545"
      },
      "outputs": [
        {
          "data": {
            "text/plain": [
              "Q13_7               0\n",
              "Q13_8               0\n",
              "Q13_9               0\n",
              "Q13_10              0\n",
              "Q13_11              0\n",
              "Q13_12              0\n",
              "Q13_13              0\n",
              "Q13_14              0\n",
              "Q13_15              0\n",
              "Q13_16              0\n",
              "Q13_Dont_Know       0\n",
              "Q14               422\n",
              "Q15                92\n",
              "Q17               742\n",
              "Q18_1             559\n",
              "Q18_2             889\n",
              "Q18_3            1361\n",
              "Q18_4             801\n",
              "Q18_5            1588\n",
              "Q18_6            1219\n",
              "Q18_7             947\n",
              "Q18_8             712\n",
              "Q18_9            1055\n",
              "Q18_10           1421\n",
              "Q18_11            918\n",
              "Q18_12           1126\n",
              "Q18_13            738\n",
              "Q18_14            787\n",
              "Q18_15           1361\n",
              "Q18_16           1460\n",
              "Q18_17           1216\n",
              "Q18_18           1027\n",
              "Q18_19           1721\n",
              "Q18_20           1098\n",
              "Q18_21           1669\n",
              "Q18_22           1700\n",
              "Q18_23           1451\n",
              "Q20                 0\n",
              "Q21                 0\n",
              "Q16                 0\n",
              "dtype: int64"
            ]
          },
          "execution_count": 270,
          "metadata": {},
          "output_type": "execute_result"
        }
      ],
      "source": [
        "question_mark_counts.tail(40)"
      ]
    },
    {
      "cell_type": "markdown",
      "metadata": {
        "id": "_DXFws5BeCMB"
      },
      "source": [
        "### Method For Filling '?' variabels"
      ]
    },
    {
      "cell_type": "code",
      "execution_count": 271,
      "metadata": {
        "id": "VWhvr4BZeLC2"
      },
      "outputs": [],
      "source": [
        "def FillingQuestionWithMode(df):\n",
        "    result = \"\"\n",
        "    questionMarkSet = []\n",
        "    for column in question_mark_cells:\n",
        "        if(isinstance(question_mark_counts[column], np.int64) and question_mark_counts[column] > 0):\n",
        "            questionMarkSet.append(column)\n",
        "\n",
        "    for column in questionMarkSet:\n",
        "        mode_value = df[column].mode().iloc[0]  # Get the first mode in case of multiple modes\n",
        "        if(mode_value == '?'):\n",
        "            df[column] = df[column].replace('?', round(pd.to_numeric(df[column], errors='coerce').mean()))\n",
        "            result = result + f\"This {column} mode is '?' so filling with average of column {round(pd.to_numeric(df[column], errors='coerce').mean())}.\\n\"\n",
        "        else:\n",
        "            df[column] = df[column].replace('?', mode_value)\n",
        "    return df, result"
      ]
    },
    {
      "cell_type": "code",
      "execution_count": 272,
      "metadata": {
        "colab": {
          "base_uri": "https://localhost:8080/"
        },
        "id": "BAZrp5VsKLBI",
        "outputId": "72cda099-546b-48fa-eeea-93b3da7a4428"
      },
      "outputs": [
        {
          "name": "stdout",
          "output_type": "stream",
          "text": [
            "This Q18_19 mode is '?' so filling with average of column 3.\n",
            "This Q18_22 mode is '?' so filling with average of column 2.\n",
            "\n"
          ]
        }
      ],
      "source": [
        "questionToMode_df = df.copy()\n",
        "questionToMode_df, result = FillingQuestionWithMode(questionToMode_df)\n",
        "print(result)"
      ]
    },
    {
      "cell_type": "code",
      "execution_count": 273,
      "metadata": {
        "colab": {
          "base_uri": "https://localhost:8080/"
        },
        "id": "jGNxnnElfUM0",
        "outputId": "32fb10fb-32fd-43f3-c6a7-b9419a12f04a"
      },
      "outputs": [
        {
          "data": {
            "text/plain": [
              "Q12_12           0\n",
              "Q12_13           0\n",
              "Q12_14           0\n",
              "Q12_Dont_Know    0\n",
              "Q13_1            0\n",
              "Q13_2            0\n",
              "Q13_3            0\n",
              "Q13_4            0\n",
              "Q13_5            0\n",
              "Q13_6            0\n",
              "Q13_7            0\n",
              "Q13_8            0\n",
              "Q13_9            0\n",
              "Q13_10           0\n",
              "Q13_11           0\n",
              "Q13_12           0\n",
              "Q13_13           0\n",
              "Q13_14           0\n",
              "Q13_15           0\n",
              "Q13_16           0\n",
              "Q13_Dont_Know    0\n",
              "Q14              0\n",
              "Q15              0\n",
              "Q17              0\n",
              "Q18_1            0\n",
              "Q18_2            0\n",
              "Q18_3            0\n",
              "Q18_4            0\n",
              "Q18_5            0\n",
              "Q18_6            0\n",
              "Q18_7            0\n",
              "Q18_8            0\n",
              "Q18_9            0\n",
              "Q18_10           0\n",
              "Q18_11           0\n",
              "Q18_12           0\n",
              "Q18_13           0\n",
              "Q18_14           0\n",
              "Q18_15           0\n",
              "Q18_16           0\n",
              "Q18_17           0\n",
              "Q18_18           0\n",
              "Q18_19           0\n",
              "Q18_20           0\n",
              "Q18_21           0\n",
              "Q18_22           0\n",
              "Q18_23           0\n",
              "Q20              0\n",
              "Q21              0\n",
              "Q16              0\n",
              "dtype: int64"
            ]
          },
          "execution_count": 273,
          "metadata": {},
          "output_type": "execute_result"
        }
      ],
      "source": [
        "question_mark_cells = questionToMode_df.applymap(lambda x: x == \"?\")\n",
        "question_mark_cells.sum().tail(50)"
      ]
    },
    {
      "cell_type": "code",
      "execution_count": 274,
      "metadata": {
        "colab": {
          "base_uri": "https://localhost:8080/"
        },
        "id": "fuB3hJflKLBJ",
        "outputId": "ebe74636-8e5d-4a65-b959-ab5bc6dd4bbe"
      },
      "outputs": [
        {
          "data": {
            "text/plain": [
              "Unnamed: 0       0\n",
              "Q11_1            0\n",
              "Q11_2            0\n",
              "Q11_3            0\n",
              "Q11_4            0\n",
              "Q11_5            0\n",
              "Q11_6            0\n",
              "Q11_7            0\n",
              "Q11_8            0\n",
              "Q11_9            0\n",
              "Q11_10           0\n",
              "Q11_11           0\n",
              "Q11_12           0\n",
              "Q11_13           0\n",
              "Q11_Dont_Know    0\n",
              "Q12_1            0\n",
              "Q12_2            0\n",
              "Q12_3            0\n",
              "Q12_4            0\n",
              "Q12_5            0\n",
              "Q12_6            0\n",
              "Q12_7            0\n",
              "Q12_8            0\n",
              "Q12_9            0\n",
              "Q12_10           0\n",
              "dtype: int64"
            ]
          },
          "execution_count": 274,
          "metadata": {},
          "output_type": "execute_result"
        }
      ],
      "source": [
        "question_mark_cells.sum().head(25)"
      ]
    },
    {
      "cell_type": "markdown",
      "metadata": {
        "id": "p0k1QJwwd0n5"
      },
      "source": [
        "### Change Data Types to NumpyInt64"
      ]
    },
    {
      "cell_type": "code",
      "execution_count": 275,
      "metadata": {
        "id": "ooUXDDnVd3ea"
      },
      "outputs": [],
      "source": [
        "for column in questionToMode_df:\n",
        "  try:\n",
        "    questionToMode_df[column] = questionToMode_df[column].astype('int64')\n",
        "  except:\n",
        "    continue"
      ]
    },
    {
      "cell_type": "code",
      "execution_count": 276,
      "metadata": {
        "colab": {
          "base_uri": "https://localhost:8080/"
        },
        "id": "E7gfW0z1WQAF",
        "outputId": "65ba5bbe-b307-4d25-e8bb-23bc7515aec4"
      },
      "outputs": [
        {
          "data": {
            "text/plain": [
              "Unnamed: 0       int64\n",
              "Q11_1            int64\n",
              "Q11_2            int64\n",
              "Q11_3            int64\n",
              "Q11_4            int64\n",
              "Q11_5            int64\n",
              "Q11_6            int64\n",
              "Q11_7            int64\n",
              "Q11_8            int64\n",
              "Q11_9            int64\n",
              "Q11_10           int64\n",
              "Q11_11           int64\n",
              "Q11_12           int64\n",
              "Q11_13           int64\n",
              "Q11_Dont_Know    int64\n",
              "Q12_1            int64\n",
              "Q12_2            int64\n",
              "Q12_3            int64\n",
              "Q12_4            int64\n",
              "Q12_5            int64\n",
              "Q12_6            int64\n",
              "Q12_7            int64\n",
              "Q12_8            int64\n",
              "Q12_9            int64\n",
              "Q12_10           int64\n",
              "Q12_11           int64\n",
              "Q12_12           int64\n",
              "Q12_13           int64\n",
              "Q12_14           int64\n",
              "Q12_Dont_Know    int64\n",
              "Q13_1            int64\n",
              "Q13_2            int64\n",
              "Q13_3            int64\n",
              "Q13_4            int64\n",
              "Q13_5            int64\n",
              "Q13_6            int64\n",
              "Q13_7            int64\n",
              "Q13_8            int64\n",
              "Q13_9            int64\n",
              "Q13_10           int64\n",
              "Q13_11           int64\n",
              "Q13_12           int64\n",
              "Q13_13           int64\n",
              "Q13_14           int64\n",
              "Q13_15           int64\n",
              "Q13_16           int64\n",
              "Q13_Dont_Know    int64\n",
              "Q14              int64\n",
              "Q15              int64\n",
              "Q17              int64\n",
              "dtype: object"
            ]
          },
          "execution_count": 276,
          "metadata": {},
          "output_type": "execute_result"
        }
      ],
      "source": [
        "questionToMode_df.dtypes.head(50)"
      ]
    },
    {
      "cell_type": "code",
      "execution_count": 277,
      "metadata": {
        "colab": {
          "base_uri": "https://localhost:8080/"
        },
        "id": "TH11bDMhWQAF",
        "outputId": "b79b60bb-66d9-4e4b-8639-758e6b745e8f"
      },
      "outputs": [
        {
          "data": {
            "text/plain": [
              "Q18_2     int64\n",
              "Q18_3     int64\n",
              "Q18_4     int64\n",
              "Q18_5     int64\n",
              "Q18_6     int64\n",
              "Q18_7     int64\n",
              "Q18_8     int64\n",
              "Q18_9     int64\n",
              "Q18_10    int64\n",
              "Q18_11    int64\n",
              "Q18_12    int64\n",
              "Q18_13    int64\n",
              "Q18_14    int64\n",
              "Q18_15    int64\n",
              "Q18_16    int64\n",
              "Q18_17    int64\n",
              "Q18_18    int64\n",
              "Q18_19    int64\n",
              "Q18_20    int64\n",
              "Q18_21    int64\n",
              "Q18_22    int64\n",
              "Q18_23    int64\n",
              "Q20       int64\n",
              "Q21       int64\n",
              "Q16       int64\n",
              "dtype: object"
            ]
          },
          "execution_count": 277,
          "metadata": {},
          "output_type": "execute_result"
        }
      ],
      "source": [
        "questionToMode_df.dtypes.tail(25)"
      ]
    },
    {
      "cell_type": "markdown",
      "metadata": {
        "id": "lIud2itKK-oW"
      },
      "source": [
        "### Check Missing Values"
      ]
    },
    {
      "cell_type": "code",
      "execution_count": 278,
      "metadata": {
        "colab": {
          "base_uri": "https://localhost:8080/"
        },
        "id": "-Iste_2gKVqa",
        "outputId": "cf1fb506-98cc-4afb-866c-f53a2f38ee46"
      },
      "outputs": [
        {
          "data": {
            "text/plain": [
              "Unnamed: 0    0\n",
              "Q11_1         0\n",
              "Q11_2         0\n",
              "Q11_3         0\n",
              "Q11_4         0\n",
              "             ..\n",
              "Q18_22        0\n",
              "Q18_23        0\n",
              "Q20           0\n",
              "Q21           0\n",
              "Q16           0\n",
              "Length: 76, dtype: int64"
            ]
          },
          "execution_count": 278,
          "metadata": {},
          "output_type": "execute_result"
        }
      ],
      "source": [
        "questionToMode_df.isnull().sum()"
      ]
    },
    {
      "cell_type": "markdown",
      "metadata": {
        "id": "jLcyT_iCLwHF"
      },
      "source": [
        "### Describtion of Dataset After Handling Null Values"
      ]
    },
    {
      "cell_type": "code",
      "execution_count": 279,
      "metadata": {
        "colab": {
          "base_uri": "https://localhost:8080/",
          "height": 329
        },
        "id": "votWtuR5LZGz",
        "outputId": "485537a8-dbca-4251-fea2-58408e5dad69"
      },
      "outputs": [
        {
          "data": {
            "text/html": [
              "<div>\n",
              "<style scoped>\n",
              "    .dataframe tbody tr th:only-of-type {\n",
              "        vertical-align: middle;\n",
              "    }\n",
              "\n",
              "    .dataframe tbody tr th {\n",
              "        vertical-align: top;\n",
              "    }\n",
              "\n",
              "    .dataframe thead th {\n",
              "        text-align: right;\n",
              "    }\n",
              "</style>\n",
              "<table border=\"1\" class=\"dataframe\">\n",
              "  <thead>\n",
              "    <tr style=\"text-align: right;\">\n",
              "      <th></th>\n",
              "      <th>Unnamed: 0</th>\n",
              "      <th>Q11_1</th>\n",
              "      <th>Q11_2</th>\n",
              "      <th>Q11_3</th>\n",
              "      <th>Q11_4</th>\n",
              "      <th>Q11_5</th>\n",
              "      <th>Q11_6</th>\n",
              "      <th>Q11_7</th>\n",
              "      <th>Q11_8</th>\n",
              "      <th>Q11_9</th>\n",
              "      <th>...</th>\n",
              "      <th>Q18_17</th>\n",
              "      <th>Q18_18</th>\n",
              "      <th>Q18_19</th>\n",
              "      <th>Q18_20</th>\n",
              "      <th>Q18_21</th>\n",
              "      <th>Q18_22</th>\n",
              "      <th>Q18_23</th>\n",
              "      <th>Q20</th>\n",
              "      <th>Q21</th>\n",
              "      <th>Q16</th>\n",
              "    </tr>\n",
              "  </thead>\n",
              "  <tbody>\n",
              "    <tr>\n",
              "      <th>count</th>\n",
              "      <td>6108.000000</td>\n",
              "      <td>6108.000000</td>\n",
              "      <td>6108.000000</td>\n",
              "      <td>6108.000000</td>\n",
              "      <td>6108.000000</td>\n",
              "      <td>6108.000000</td>\n",
              "      <td>6108.000000</td>\n",
              "      <td>6108.000000</td>\n",
              "      <td>6108.000000</td>\n",
              "      <td>6108.000000</td>\n",
              "      <td>...</td>\n",
              "      <td>6108.000000</td>\n",
              "      <td>6108.000000</td>\n",
              "      <td>6108.000000</td>\n",
              "      <td>6108.000000</td>\n",
              "      <td>6108.000000</td>\n",
              "      <td>6108.000000</td>\n",
              "      <td>6108.000000</td>\n",
              "      <td>6108.000000</td>\n",
              "      <td>6108.000000</td>\n",
              "      <td>6108.000000</td>\n",
              "    </tr>\n",
              "    <tr>\n",
              "      <th>mean</th>\n",
              "      <td>3053.500000</td>\n",
              "      <td>0.479044</td>\n",
              "      <td>0.295678</td>\n",
              "      <td>0.178782</td>\n",
              "      <td>0.584152</td>\n",
              "      <td>0.280779</td>\n",
              "      <td>0.089555</td>\n",
              "      <td>0.379993</td>\n",
              "      <td>0.302227</td>\n",
              "      <td>0.076130</td>\n",
              "      <td>...</td>\n",
              "      <td>3.034217</td>\n",
              "      <td>2.200557</td>\n",
              "      <td>3.046005</td>\n",
              "      <td>2.274067</td>\n",
              "      <td>2.863785</td>\n",
              "      <td>2.350196</td>\n",
              "      <td>2.612803</td>\n",
              "      <td>2.870825</td>\n",
              "      <td>2.596758</td>\n",
              "      <td>0.938278</td>\n",
              "    </tr>\n",
              "    <tr>\n",
              "      <th>std</th>\n",
              "      <td>1763.372054</td>\n",
              "      <td>0.499602</td>\n",
              "      <td>0.456384</td>\n",
              "      <td>0.383201</td>\n",
              "      <td>0.492908</td>\n",
              "      <td>0.449417</td>\n",
              "      <td>0.285566</td>\n",
              "      <td>0.485425</td>\n",
              "      <td>0.459261</td>\n",
              "      <td>0.265227</td>\n",
              "      <td>...</td>\n",
              "      <td>1.013568</td>\n",
              "      <td>0.940799</td>\n",
              "      <td>0.969493</td>\n",
              "      <td>1.031295</td>\n",
              "      <td>0.929183</td>\n",
              "      <td>0.928942</td>\n",
              "      <td>0.952385</td>\n",
              "      <td>0.811442</td>\n",
              "      <td>0.834790</td>\n",
              "      <td>1.069068</td>\n",
              "    </tr>\n",
              "    <tr>\n",
              "      <th>min</th>\n",
              "      <td>0.000000</td>\n",
              "      <td>0.000000</td>\n",
              "      <td>0.000000</td>\n",
              "      <td>0.000000</td>\n",
              "      <td>0.000000</td>\n",
              "      <td>0.000000</td>\n",
              "      <td>0.000000</td>\n",
              "      <td>0.000000</td>\n",
              "      <td>0.000000</td>\n",
              "      <td>0.000000</td>\n",
              "      <td>...</td>\n",
              "      <td>1.000000</td>\n",
              "      <td>1.000000</td>\n",
              "      <td>1.000000</td>\n",
              "      <td>1.000000</td>\n",
              "      <td>1.000000</td>\n",
              "      <td>1.000000</td>\n",
              "      <td>1.000000</td>\n",
              "      <td>1.000000</td>\n",
              "      <td>1.000000</td>\n",
              "      <td>0.000000</td>\n",
              "    </tr>\n",
              "    <tr>\n",
              "      <th>25%</th>\n",
              "      <td>1526.750000</td>\n",
              "      <td>0.000000</td>\n",
              "      <td>0.000000</td>\n",
              "      <td>0.000000</td>\n",
              "      <td>0.000000</td>\n",
              "      <td>0.000000</td>\n",
              "      <td>0.000000</td>\n",
              "      <td>0.000000</td>\n",
              "      <td>0.000000</td>\n",
              "      <td>0.000000</td>\n",
              "      <td>...</td>\n",
              "      <td>2.000000</td>\n",
              "      <td>2.000000</td>\n",
              "      <td>3.000000</td>\n",
              "      <td>2.000000</td>\n",
              "      <td>2.000000</td>\n",
              "      <td>2.000000</td>\n",
              "      <td>2.000000</td>\n",
              "      <td>3.000000</td>\n",
              "      <td>2.000000</td>\n",
              "      <td>0.000000</td>\n",
              "    </tr>\n",
              "    <tr>\n",
              "      <th>50%</th>\n",
              "      <td>3053.500000</td>\n",
              "      <td>0.000000</td>\n",
              "      <td>0.000000</td>\n",
              "      <td>0.000000</td>\n",
              "      <td>1.000000</td>\n",
              "      <td>0.000000</td>\n",
              "      <td>0.000000</td>\n",
              "      <td>0.000000</td>\n",
              "      <td>0.000000</td>\n",
              "      <td>0.000000</td>\n",
              "      <td>...</td>\n",
              "      <td>3.000000</td>\n",
              "      <td>2.000000</td>\n",
              "      <td>3.000000</td>\n",
              "      <td>2.000000</td>\n",
              "      <td>3.000000</td>\n",
              "      <td>2.000000</td>\n",
              "      <td>3.000000</td>\n",
              "      <td>3.000000</td>\n",
              "      <td>3.000000</td>\n",
              "      <td>1.000000</td>\n",
              "    </tr>\n",
              "    <tr>\n",
              "      <th>75%</th>\n",
              "      <td>4580.250000</td>\n",
              "      <td>1.000000</td>\n",
              "      <td>1.000000</td>\n",
              "      <td>0.000000</td>\n",
              "      <td>1.000000</td>\n",
              "      <td>1.000000</td>\n",
              "      <td>0.000000</td>\n",
              "      <td>1.000000</td>\n",
              "      <td>1.000000</td>\n",
              "      <td>0.000000</td>\n",
              "      <td>...</td>\n",
              "      <td>4.000000</td>\n",
              "      <td>3.000000</td>\n",
              "      <td>4.000000</td>\n",
              "      <td>3.000000</td>\n",
              "      <td>3.000000</td>\n",
              "      <td>3.000000</td>\n",
              "      <td>3.000000</td>\n",
              "      <td>3.000000</td>\n",
              "      <td>3.000000</td>\n",
              "      <td>2.000000</td>\n",
              "    </tr>\n",
              "    <tr>\n",
              "      <th>max</th>\n",
              "      <td>6107.000000</td>\n",
              "      <td>1.000000</td>\n",
              "      <td>1.000000</td>\n",
              "      <td>1.000000</td>\n",
              "      <td>1.000000</td>\n",
              "      <td>1.000000</td>\n",
              "      <td>1.000000</td>\n",
              "      <td>1.000000</td>\n",
              "      <td>1.000000</td>\n",
              "      <td>1.000000</td>\n",
              "      <td>...</td>\n",
              "      <td>5.000000</td>\n",
              "      <td>5.000000</td>\n",
              "      <td>5.000000</td>\n",
              "      <td>5.000000</td>\n",
              "      <td>5.000000</td>\n",
              "      <td>5.000000</td>\n",
              "      <td>5.000000</td>\n",
              "      <td>5.000000</td>\n",
              "      <td>5.000000</td>\n",
              "      <td>3.000000</td>\n",
              "    </tr>\n",
              "  </tbody>\n",
              "</table>\n",
              "<p>8 rows × 76 columns</p>\n",
              "</div>"
            ],
            "text/plain": [
              "        Unnamed: 0        Q11_1        Q11_2        Q11_3        Q11_4  \\\n",
              "count  6108.000000  6108.000000  6108.000000  6108.000000  6108.000000   \n",
              "mean   3053.500000     0.479044     0.295678     0.178782     0.584152   \n",
              "std    1763.372054     0.499602     0.456384     0.383201     0.492908   \n",
              "min       0.000000     0.000000     0.000000     0.000000     0.000000   \n",
              "25%    1526.750000     0.000000     0.000000     0.000000     0.000000   \n",
              "50%    3053.500000     0.000000     0.000000     0.000000     1.000000   \n",
              "75%    4580.250000     1.000000     1.000000     0.000000     1.000000   \n",
              "max    6107.000000     1.000000     1.000000     1.000000     1.000000   \n",
              "\n",
              "             Q11_5        Q11_6        Q11_7        Q11_8        Q11_9  ...  \\\n",
              "count  6108.000000  6108.000000  6108.000000  6108.000000  6108.000000  ...   \n",
              "mean      0.280779     0.089555     0.379993     0.302227     0.076130  ...   \n",
              "std       0.449417     0.285566     0.485425     0.459261     0.265227  ...   \n",
              "min       0.000000     0.000000     0.000000     0.000000     0.000000  ...   \n",
              "25%       0.000000     0.000000     0.000000     0.000000     0.000000  ...   \n",
              "50%       0.000000     0.000000     0.000000     0.000000     0.000000  ...   \n",
              "75%       1.000000     0.000000     1.000000     1.000000     0.000000  ...   \n",
              "max       1.000000     1.000000     1.000000     1.000000     1.000000  ...   \n",
              "\n",
              "            Q18_17       Q18_18       Q18_19       Q18_20       Q18_21  \\\n",
              "count  6108.000000  6108.000000  6108.000000  6108.000000  6108.000000   \n",
              "mean      3.034217     2.200557     3.046005     2.274067     2.863785   \n",
              "std       1.013568     0.940799     0.969493     1.031295     0.929183   \n",
              "min       1.000000     1.000000     1.000000     1.000000     1.000000   \n",
              "25%       2.000000     2.000000     3.000000     2.000000     2.000000   \n",
              "50%       3.000000     2.000000     3.000000     2.000000     3.000000   \n",
              "75%       4.000000     3.000000     4.000000     3.000000     3.000000   \n",
              "max       5.000000     5.000000     5.000000     5.000000     5.000000   \n",
              "\n",
              "            Q18_22       Q18_23          Q20          Q21          Q16  \n",
              "count  6108.000000  6108.000000  6108.000000  6108.000000  6108.000000  \n",
              "mean      2.350196     2.612803     2.870825     2.596758     0.938278  \n",
              "std       0.928942     0.952385     0.811442     0.834790     1.069068  \n",
              "min       1.000000     1.000000     1.000000     1.000000     0.000000  \n",
              "25%       2.000000     2.000000     3.000000     2.000000     0.000000  \n",
              "50%       2.000000     3.000000     3.000000     3.000000     1.000000  \n",
              "75%       3.000000     3.000000     3.000000     3.000000     2.000000  \n",
              "max       5.000000     5.000000     5.000000     5.000000     3.000000  \n",
              "\n",
              "[8 rows x 76 columns]"
            ]
          },
          "execution_count": 279,
          "metadata": {},
          "output_type": "execute_result"
        }
      ],
      "source": [
        "questionToMode_df.describe()"
      ]
    },
    {
      "cell_type": "markdown",
      "metadata": {
        "id": "1jNYqpObQWZR"
      },
      "source": [
        "### Showing Outliers\n"
      ]
    },
    {
      "cell_type": "code",
      "execution_count": 280,
      "metadata": {
        "colab": {
          "base_uri": "https://localhost:8080/",
          "height": 472
        },
        "id": "WZGJjlIVQjb7",
        "outputId": "ba40936a-f173-466e-a1e8-3713d89521cf"
      },
      "outputs": [
        {
          "data": {
            "image/png": "[encoded data removed]",
            "text/plain": [
              "<Figure size 432x288 with 1 Axes>"
            ]
          },
          "metadata": {
            "needs_background": "light"
          },
          "output_type": "display_data"
        }
      ],
      "source": [
        "import seaborn as sns\n",
        "import matplotlib.pyplot as plt\n",
        "\n",
        "colName = 'Q21'\n",
        "\n",
        "# Box plot çizimi\n",
        "sns.boxplot(x=questionToMode_df[colName])\n",
        "plt.title(f'Box Plot of {colName}')\n",
        "plt.show()"
      ]
    },
    {
      "cell_type": "markdown",
      "metadata": {
        "id": "pI79FRwS4T37"
      },
      "source": [
        "## Visualization"
      ]
    },
    {
      "cell_type": "code",
      "execution_count": 281,
      "metadata": {
        "id": "hXO0EuKf4WrH"
      },
      "outputs": [],
      "source": [
        "import matplotlib.pyplot as plt\n",
        "import seaborn as sns\n",
        "\n",
        "def Visualize(columnName):\n",
        "  plt.figure(figsize=(8, 4))\n",
        "  sns.countplot(x=columnName, data=questionToMode_df)\n",
        "  plt.title('Features')\n",
        "  plt.show()\n"
      ]
    },
    {
      "cell_type": "code",
      "execution_count": 282,
      "metadata": {
        "colab": {
          "base_uri": "https://localhost:8080/",
          "height": 803
        },
        "id": "IqPSOdZ_4cOo",
        "outputId": "83177182-bd2e-4d08-9315-a70fa4813251"
      },
      "outputs": [
        {
          "data": {
            "image/png": "[encoded data removed]",
            "text/plain": [
              "<Figure size 576x288 with 1 Axes>"
            ]
          },
          "metadata": {
            "needs_background": "light"
          },
          "output_type": "display_data"
        },
        {
          "data": {
            "image/png": "[encoded data removed]",
            "text/plain": [
              "<Figure size 576x288 with 1 Axes>"
            ]
          },
          "metadata": {
            "needs_background": "light"
          },
          "output_type": "display_data"
        }
      ],
      "source": [
        "import numpy as np\n",
        "for i in range(1,3):\n",
        "  feature_names=questionToMode_df.columns\n",
        "  selected_feature = np.random.choice(feature_names)\n",
        "  Visualize(selected_feature)"
      ]
    },
    {
      "cell_type": "code",
      "execution_count": 283,
      "metadata": {
        "id": "-cgFVwbtTEGO"
      },
      "outputs": [],
      "source": [
        "import numpy as np\n",
        "import matplotlib.pyplot as plt\n",
        "import seaborn as sns\n",
        "\n",
        "def VisualizeSubset(dataframe, step):\n",
        "    feature_names = dataframe.columns\n",
        "    num_subsets = len(feature_names) // step\n",
        "\n",
        "    fig, axes = plt.subplots(num_subsets, 1, figsize=(step, num_subsets * num_subsets))\n",
        "\n",
        "\n",
        "    for i in range(num_subsets):\n",
        "        selected_features = feature_names[i * step: (i + 1) * step]\n",
        "        sns.countplot(data=dataframe[selected_features], ax=axes[i])\n",
        "        axes[i].set_title(f'Subset {i + 1}')\n",
        "\n",
        "    plt.show()"
      ]
    },
    {
      "cell_type": "code",
      "execution_count": null,
      "metadata": {
        "colab": {
          "base_uri": "https://localhost:8080/",
          "height": 1000
        },
        "id": "yhGkmW6aTI4S",
        "outputId": "ee23b562-9650-4706-fad4-b54c6feca28c"
      },
      "outputs": [
        {
          "data": {
            "image/png": "[encoded data removed]",
            "text/plain": [
              "<Figure size 1500x2500 with 5 Axes>"
            ]
          },
          "metadata": {},
          "output_type": "display_data"
        }
      ],
      "source": [
        "VisualizeSubset(questionToMode_df,15)"
      ]
    },
    {
      "cell_type": "code",
      "execution_count": 446,
      "metadata": {},
      "outputs": [
        {
          "data": {
            "image/png": "[encoded data removed]",
            "text/plain": [
              "<Figure size 900x360 with 1 Axes>"
            ]
          },
          "metadata": {
            "needs_background": "light"
          },
          "output_type": "display_data"
        },
        {
          "data": {
            "image/png": "[encoded data removed]",
            "text/plain": [
              "<Figure size 900x360 with 1 Axes>"
            ]
          },
          "metadata": {
            "needs_background": "light"
          },
          "output_type": "display_data"
        },
        {
          "data": {
            "image/png": "[encoded data removed]",
            "text/plain": [
              "<Figure size 900x360 with 1 Axes>"
            ]
          },
          "metadata": {
            "needs_background": "light"
          },
          "output_type": "display_data"
        },
        {
          "data": {
            "image/png": "[encoded data removed]",
            "text/plain": [
              "<Figure size 900x360 with 1 Axes>"
            ]
          },
          "metadata": {
            "needs_background": "light"
          },
          "output_type": "display_data"
        },
        {
          "data": {
            "image/png": "[encoded data removed]",
            "text/plain": [
              "<Figure size 900x360 with 1 Axes>"
            ]
          },
          "metadata": {
            "needs_background": "light"
          },
          "output_type": "display_data"
        }
      ],
      "source": [
        "aspect_ratio = 2.5\n",
        "sns.catplot(questionToMode_df.iloc[:, 0:15],aspect=aspect_ratio)\n",
        "plt.show()\n",
        "sns.catplot(questionToMode_df.iloc[:, 15:30],aspect=aspect_ratio)\n",
        "plt.show()\n",
        "sns.catplot(questionToMode_df.iloc[:, 30:45],aspect=aspect_ratio)\n",
        "plt.show()\n",
        "sns.catplot(questionToMode_df.iloc[:, 45:60],aspect=aspect_ratio)\n",
        "plt.show()\n",
        "sns.catplot(questionToMode_df.iloc[:, 60:75],aspect=aspect_ratio)\n",
        "plt.show()"
      ]
    },
    {
      "cell_type": "markdown",
      "metadata": {
        "id": "MJwlLVaXMJgU"
      },
      "source": [
        "## Normalization"
      ]
    },
    {
      "cell_type": "markdown",
      "metadata": {
        "id": "MmgEjjpXPHWu"
      },
      "source": [
        "### MinMaxScaler scaling the data to a specific range (usually [0, 1]) ensures that all features are kept on the same scale."
      ]
    },
    {
      "cell_type": "code",
      "execution_count": 284,
      "metadata": {
        "id": "M091jEdaMN5R"
      },
      "outputs": [],
      "source": [
        "from sklearn.preprocessing import MinMaxScaler\n",
        "def MinMaxScaling(df):\n",
        "    scaledDataFrame_minmax=df.copy()\n",
        "    scaledForm = scaledDataFrame_minmax.iloc[:, scaledDataFrame_minmax.columns.get_loc('Q15'):-1]\n",
        "    scaler = MinMaxScaler()\n",
        "    scaledDataFrame_minmax.iloc[:, scaledDataFrame_minmax.columns.get_loc('Q15'):-1] = scaler.fit_transform(scaledForm)\n",
        "    X_minmax, y_minmax = scaledDataFrame_minmax.iloc[:, :-1], scaledDataFrame_minmax.iloc[:, -1:]\n",
        "    return ({\"X\": X_minmax,\n",
        "            \"y\": y_minmax,\n",
        "            \"df\": scaledDataFrame_minmax})"
      ]
    },
    {
      "cell_type": "code",
      "execution_count": 285,
      "metadata": {
        "colab": {
          "base_uri": "https://localhost:8080/"
        },
        "id": "obq3cMhoN2Q2",
        "outputId": "49db400f-e22a-46e9-b281-18b8ba4e6fb7"
      },
      "outputs": [
        {
          "data": {
            "text/plain": [
              "<bound method NDFrame.describe of       Unnamed: 0  Q11_1  Q11_2  Q11_3  Q11_4  Q11_5  Q11_6  Q11_7  Q11_8  \\\n",
              "0              0      0      0      0      1      1      0      0      1   \n",
              "1              1      1      0      0      1      0      0      1      0   \n",
              "2              2      1      1      0      1      0      0      1      1   \n",
              "3              3      0      0      0      0      0      0      0      0   \n",
              "4              4      1      1      0      1      0      0      1      1   \n",
              "...          ...    ...    ...    ...    ...    ...    ...    ...    ...   \n",
              "6103        6103      0      1      0      0      0      0      1      1   \n",
              "6104        6104      0      1      0      1      0      0      0      1   \n",
              "6105        6105      1      0      1      0      0      0      0      0   \n",
              "6106        6106      0      0      1      0      0      0      0      1   \n",
              "6107        6107      1      0      0      1      0      0      0      1   \n",
              "\n",
              "      Q11_9  ...  Q18_17  Q18_18  Q18_19  Q18_20  Q18_21  Q18_22  Q18_23  \\\n",
              "0         0  ...    1.00    1.00    1.00    1.00    1.00    1.00    1.00   \n",
              "1         0  ...    0.75    0.25    0.75    0.25    0.25    0.25    0.25   \n",
              "2         0  ...    0.75    0.75    0.50    0.25    0.75    0.25    0.75   \n",
              "3         0  ...    0.50    0.25    0.50    0.25    0.50    0.25    0.50   \n",
              "4         0  ...    0.50    0.25    0.00    0.00    0.50    0.25    0.50   \n",
              "...     ...  ...     ...     ...     ...     ...     ...     ...     ...   \n",
              "6103      1  ...    0.25    0.25    0.50    0.50    0.25    0.00    0.00   \n",
              "6104      0  ...    0.50    0.25    0.50    0.25    0.50    0.25    0.50   \n",
              "6105      0  ...    0.75    0.00    1.00    0.75    1.00    0.75    1.00   \n",
              "6106      0  ...    0.00    0.50    0.75    1.00    0.50    0.25    0.50   \n",
              "6107      0  ...    0.50    0.50    0.50    0.50    0.50    0.50    0.50   \n",
              "\n",
              "       Q20   Q21  Q16  \n",
              "0     0.50  0.50    0  \n",
              "1     0.50  0.50    3  \n",
              "2     0.75  0.00    0  \n",
              "3     0.50  0.50    2  \n",
              "4     0.50  0.50    3  \n",
              "...    ...   ...  ...  \n",
              "6103  0.00  0.50    1  \n",
              "6104  0.50  0.50    0  \n",
              "6105  1.00  0.25    0  \n",
              "6106  0.25  0.50    0  \n",
              "6107  0.50  0.50    3  \n",
              "\n",
              "[6108 rows x 76 columns]>"
            ]
          },
          "execution_count": 285,
          "metadata": {},
          "output_type": "execute_result"
        }
      ],
      "source": [
        "min_max_scaled_items = MinMaxScaling(questionToMode_df)\n",
        "min_max_scaled_items['df'].describe"
      ]
    },
    {
      "cell_type": "markdown",
      "metadata": {
        "id": "0pmxtl2qPPKL"
      },
      "source": [
        "### StandartScaler transforming the data into a standard normal distribution makes the features comparable with each other"
      ]
    },
    {
      "cell_type": "code",
      "execution_count": 286,
      "metadata": {
        "id": "S2tvHTTwN9yT"
      },
      "outputs": [],
      "source": [
        "from sklearn.preprocessing import StandardScaler\n",
        "def StandardScaling(df):\n",
        "    scaledDataFrame_stc=df.copy()\n",
        "    scaledForm = scaledDataFrame_stc.iloc[:, scaledDataFrame_stc.columns.get_loc('Q15'):-1]\n",
        "    scaler = StandardScaler()\n",
        "    scaledDataFrame_stc.iloc[:, scaledDataFrame_stc.columns.get_loc('Q15'):-1] = scaler.fit_transform(scaledForm)\n",
        "    X_stc, y_stc = scaledDataFrame_stc.iloc[:, :-1], scaledDataFrame_stc.iloc[:, -1:]\n",
        "    return ({\"X\": X_stc,\n",
        "            \"y\": y_stc,\n",
        "            \"df\": scaledDataFrame_stc})"
      ]
    },
    {
      "cell_type": "code",
      "execution_count": 287,
      "metadata": {
        "colab": {
          "base_uri": "https://localhost:8080/"
        },
        "id": "Q3POFrQ9OSp3",
        "outputId": "fdf216d3-7b02-45f8-ed97-f4c3ca0c4c94"
      },
      "outputs": [
        {
          "data": {
            "text/plain": [
              "<bound method NDFrame.describe of       Unnamed: 0  Q11_1  Q11_2  Q11_3  Q11_4  Q11_5  Q11_6  Q11_7  Q11_8  \\\n",
              "0              0      0      0      0      1      1      0      0      1   \n",
              "1              1      1      0      0      1      0      0      1      0   \n",
              "2              2      1      1      0      1      0      0      1      1   \n",
              "3              3      0      0      0      0      0      0      0      0   \n",
              "4              4      1      1      0      1      0      0      1      1   \n",
              "...          ...    ...    ...    ...    ...    ...    ...    ...    ...   \n",
              "6103        6103      0      1      0      0      0      0      1      1   \n",
              "6104        6104      0      1      0      1      0      0      0      1   \n",
              "6105        6105      1      0      1      0      0      0      0      0   \n",
              "6106        6106      0      0      1      0      0      0      0      1   \n",
              "6107        6107      1      0      0      1      0      0      0      1   \n",
              "\n",
              "      Q11_9  ...    Q18_17    Q18_18    Q18_19    Q18_20    Q18_21    Q18_22  \\\n",
              "0         0  ...  1.939626  2.975847  2.015646  2.643431  2.299213  2.852731   \n",
              "1         0  ...  0.952932 -0.213194  0.984095 -0.265772 -0.929694 -0.377015   \n",
              "2         0  ...  0.952932  1.912833 -0.047457 -0.265772  1.222911 -0.377015   \n",
              "3         0  ... -0.033762 -0.213194 -0.047457 -0.265772  0.146608 -0.377015   \n",
              "4         0  ... -0.033762 -0.213194 -2.110559 -1.235507  0.146608 -0.377015   \n",
              "...     ...  ...       ...       ...       ...       ...       ...       ...   \n",
              "6103      1  ... -1.020456 -0.213194 -0.047457  0.703962 -0.929694 -1.453597   \n",
              "6104      0  ... -0.033762 -0.213194 -0.047457 -0.265772  0.146608 -0.377015   \n",
              "6105      0  ...  0.952932 -1.276208  2.015646  1.673697  2.299213  1.776149   \n",
              "6106      0  ... -2.007150  0.849819  0.984095  2.643431  0.146608 -0.377015   \n",
              "6107      0  ... -0.033762  0.849819 -0.047457  0.703962  0.146608  0.699567   \n",
              "\n",
              "        Q18_23       Q20       Q21  Q16  \n",
              "0     2.506751  0.159205  0.483085    0  \n",
              "1    -0.643493  0.159205  0.483085    3  \n",
              "2     1.456670  1.391680 -1.912922    0  \n",
              "3     0.406588  0.159205  0.483085    2  \n",
              "4     0.406588  0.159205  0.483085    3  \n",
              "...        ...       ...       ...  ...  \n",
              "6103 -1.693574 -2.305745  0.483085    1  \n",
              "6104  0.406588  0.159205  0.483085    0  \n",
              "6105  2.506751  2.624155 -0.714919    0  \n",
              "6106  0.406588 -1.073270  0.483085    0  \n",
              "6107  0.406588  0.159205  0.483085    3  \n",
              "\n",
              "[6108 rows x 76 columns]>"
            ]
          },
          "execution_count": 287,
          "metadata": {},
          "output_type": "execute_result"
        }
      ],
      "source": [
        "stc_scaled_items = StandardScaling(questionToMode_df)\n",
        "stc_scaled_items['df'].describe"
      ]
    },
    {
      "cell_type": "markdown",
      "metadata": {
        "id": "zuMeSnqWO5hX"
      },
      "source": [
        "### RobustScaler resistant to outlier values, this is a scaling method. Scaling is done using the median and IQR"
      ]
    },
    {
      "cell_type": "code",
      "execution_count": 288,
      "metadata": {
        "id": "Cu4DnaEGOl0R"
      },
      "outputs": [],
      "source": [
        "from sklearn.preprocessing import RobustScaler\n",
        "\n",
        "def StandardScaling(df):\n",
        "    scaledDataFrame_robust=df.copy()\n",
        "    scaledForm = scaledDataFrame_robust.iloc[scaledDataFrame_robust.columns.get_loc('Q15'):, :-1]\n",
        "    scaler = RobustScaler()\n",
        "    scaledDataFrame_robust.iloc[scaledDataFrame_robust.columns.get_loc('Q15'):, :-1]  = scaler.fit_transform(scaledForm)\n",
        "    X_robust, y_robust = scaledDataFrame_robust.iloc[:, :-1], scaledDataFrame_robust.iloc[:, -1:]\n",
        "    return ({\"X\": X_robust,\n",
        "            \"y\": y_robust,\n",
        "            \"df\": scaledDataFrame_robust})"
      ]
    },
    {
      "cell_type": "code",
      "execution_count": 289,
      "metadata": {
        "colab": {
          "base_uri": "https://localhost:8080/"
        },
        "id": "qPxswWw4OuIK",
        "outputId": "28eeae6c-3501-436e-b7c6-d8a95c372d38"
      },
      "outputs": [
        {
          "data": {
            "text/plain": [
              "<bound method NDFrame.describe of       Unnamed: 0  Q11_1  Q11_2  Q11_3  Q11_4  Q11_5  Q11_6  Q11_7  Q11_8  \\\n",
              "0        0.00000    0.0    0.0    0.0    1.0    1.0    0.0    0.0    1.0   \n",
              "1        1.00000    1.0    0.0    0.0    1.0    0.0    0.0    1.0    0.0   \n",
              "2        2.00000    1.0    1.0    0.0    1.0    0.0    0.0    1.0    1.0   \n",
              "3        3.00000    0.0    0.0    0.0    0.0    0.0    0.0    0.0    0.0   \n",
              "4        4.00000    1.0    1.0    0.0    1.0    0.0    0.0    1.0    1.0   \n",
              "...          ...    ...    ...    ...    ...    ...    ...    ...    ...   \n",
              "6103     0.99868    0.0    1.0    0.0   -1.0    0.0    0.0    1.0    1.0   \n",
              "6104     0.99901    0.0    1.0    0.0    0.0    0.0    0.0    0.0    1.0   \n",
              "6105     0.99934    1.0    0.0    1.0   -1.0    0.0    0.0    0.0    0.0   \n",
              "6106     0.99967    0.0    0.0    1.0   -1.0    0.0    0.0    0.0    1.0   \n",
              "6107     1.00000    1.0    0.0    0.0    0.0    0.0    0.0    0.0    1.0   \n",
              "\n",
              "      Q11_9  ...  Q18_17  Q18_18  Q18_19  Q18_20  Q18_21  Q18_22  Q18_23  Q20  \\\n",
              "0       0.0  ...     5.0     5.0     5.0     5.0     5.0     5.0     5.0  3.0   \n",
              "1       0.0  ...     4.0     2.0     4.0     2.0     2.0     2.0     2.0  3.0   \n",
              "2       0.0  ...     4.0     4.0     3.0     2.0     4.0     2.0     4.0  4.0   \n",
              "3       0.0  ...     3.0     2.0     3.0     2.0     3.0     2.0     3.0  3.0   \n",
              "4       0.0  ...     3.0     2.0     1.0     1.0     3.0     2.0     3.0  3.0   \n",
              "...     ...  ...     ...     ...     ...     ...     ...     ...     ...  ...   \n",
              "6103    1.0  ...    -0.5     0.0     0.0     1.0    -1.0    -1.0    -2.0 -2.0   \n",
              "6104    0.0  ...     0.0     0.0     0.0     0.0     0.0     0.0     0.0  0.0   \n",
              "6105    0.0  ...     0.5    -1.0     2.0     2.0     2.0     2.0     2.0  2.0   \n",
              "6106    0.0  ...    -1.0     1.0     1.0     3.0     0.0     0.0     0.0 -1.0   \n",
              "6107    0.0  ...     0.0     1.0     0.0     1.0     0.0     1.0     0.0  0.0   \n",
              "\n",
              "      Q21  Q16  \n",
              "0     3.0    0  \n",
              "1     3.0    3  \n",
              "2     1.0    0  \n",
              "3     3.0    2  \n",
              "4     3.0    3  \n",
              "...   ...  ...  \n",
              "6103  0.0    1  \n",
              "6104  0.0    0  \n",
              "6105 -1.0    0  \n",
              "6106  0.0    0  \n",
              "6107  0.0    3  \n",
              "\n",
              "[6108 rows x 76 columns]>"
            ]
          },
          "execution_count": 289,
          "metadata": {},
          "output_type": "execute_result"
        }
      ],
      "source": [
        "robust_scaled_items = StandardScaling(questionToMode_df)\n",
        "robust_scaled_items['df'].describe"
      ]
    },
    {
      "cell_type": "markdown",
      "metadata": {
        "id": "-OapTP6NWQAO"
      },
      "source": [
        "### Save Results To The Txt For Later Using"
      ]
    },
    {
      "cell_type": "code",
      "execution_count": 290,
      "metadata": {
        "id": "TSlVncZ-WQAO"
      },
      "outputs": [],
      "source": [
        "def SaveResults(result, txt_name):\n",
        "    with open(txt_name, 'a') as file:\n",
        "        file.write(str(result) + '\\n')"
      ]
    },
    {
      "cell_type": "markdown",
      "metadata": {
        "id": "HAT1tRqFVQAy"
      },
      "source": [
        "### Roc Curve / AOC / F1 / Recall / Precision / MCC"
      ]
    },
    {
      "cell_type": "code",
      "execution_count": 354,
      "metadata": {
        "id": "wAkklF6oVbs5"
      },
      "outputs": [],
      "source": [
        "from sklearn.metrics import roc_curve, auc, roc_auc_score, f1_score, recall_score, precision_score, matthews_corrcoef\n",
        "from sklearn.preprocessing import label_binarize\n",
        "from sklearn.model_selection import train_test_split\n",
        "from sklearn.metrics import classification_report\n",
        "\n",
        "\n",
        "def DrawRocCurve(y_true, y_predict_proba):\n",
        "    y_true_binary = label_binarize(y_true, classes=[0, 1])\n",
        "\n",
        "    # Compute ROC curve and ROC area for each class\n",
        "    fpr, tpr, _ = roc_curve(y_true_binary, y_predict_proba)\n",
        "    roc_auc = auc(fpr, tpr)\n",
        "\n",
        "    # Plot ROC curve\n",
        "    plt.figure(figsize=(8, 6))\n",
        "    plt.plot(fpr, tpr, color='darkorange', lw=2, label=f'ROC curve (AUC = {roc_auc:.2f})')\n",
        "    plt.plot([0, 1], [0, 1], color='navy', lw=2, linestyle='--')\n",
        "    plt.xlim([0.0, 1.0])\n",
        "    plt.ylim([0.0, 1.05])\n",
        "    plt.xlabel('False Positive Rate')\n",
        "    plt.ylabel('True Positive Rate')\n",
        "    plt.title('Receiver Operating Characteristic (ROC) Curve')\n",
        "    plt.legend(loc='lower right')\n",
        "    plt.show()\n",
        "\n",
        "def DrawRocCurveMultiClass(y_true, y_predict_proba):\n",
        "  y_true = label_binarize(y_true, classes=np.unique(y_true))\n",
        "\n",
        "  fpr = dict()\n",
        "  tpr = dict()\n",
        "  roc_auc = dict()\n",
        "\n",
        "  n_classes = y_true.shape[1]\n",
        "\n",
        "  for i in range(n_classes):\n",
        "      fpr[i], tpr[i], _ = roc_curve(y_true[:, i], y_predict_proba[:, i])\n",
        "      roc_auc[i] = auc(fpr[i], tpr[i])\n",
        "\n",
        "  # Compute micro-average ROC curve and ROC area\n",
        "  fpr[\"micro\"], tpr[\"micro\"], _ = roc_curve(y_true.ravel(), y_predict_proba.ravel())\n",
        "  roc_auc[\"micro\"] = auc(fpr[\"micro\"], tpr[\"micro\"])\n",
        "\n",
        "  # Plot ROC curve\n",
        "  plt.figure(figsize=(8, 6))\n",
        "\n",
        "  colors = ['b', 'g', 'r', 'c', 'm', 'y', 'k']  # You might need to adjust this based on the number of classes\n",
        "\n",
        "  for i, color in zip(range(n_classes), colors):\n",
        "      plt.plot(fpr[i], tpr[i], color=color, lw=2, label=f'Class {i} (AUC = {roc_auc[i]:.2f})')\n",
        "\n",
        "  plt.plot(fpr[\"micro\"], tpr[\"micro\"], color='deeppink', linestyle='--', lw=2, label='Micro-average (AUC = {0:0.2f})'.format(roc_auc[\"micro\"]))\n",
        "\n",
        "  plt.plot([0, 1], [0, 1], 'k--', lw=2)\n",
        "  plt.xlim([0.0, 1.0])\n",
        "  plt.ylim([0.0, 1.05])\n",
        "  plt.xlabel('False Positive Rate')\n",
        "  plt.ylabel('True Positive Rate')\n",
        "  plt.title('Receiver Operating Characteristic (ROC) Curve')\n",
        "  plt.legend(loc='lower right')\n",
        "\n",
        "\n",
        "def FindNecessaryMetrics(y_true, y_predicted, y_predict_proba):\n",
        "    f1, recall, precision, mcc, auc_score = 0, 0, 0, 0, 0\n",
        "\n",
        "    # F1 Score\n",
        "    f1 = f1_score(y_true, y_predicted, average=\"weighted\")\n",
        "\n",
        "    # Recall\n",
        "    recall = recall_score(y_true, y_predicted, average=\"weighted\")\n",
        "\n",
        "    # Precision\n",
        "    precision = precision_score(y_true, y_predicted, average=\"weighted\")\n",
        "\n",
        "    # Matthews Correlation Coefficient (MCC)\n",
        "    mcc = matthews_corrcoef(y_true, y_predicted)\n",
        "\n",
        "    # AUC\n",
        "    auc_score = roc_auc_score(y_true,y_predict_proba)\n",
        "\n",
        "    return f1, recall, precision, mcc, auc_score\n",
        "\n",
        "def FindNecessaryMetricsMultiClass(y_true, y_predicted, y_predict_proba):\n",
        "    f1, recall, precision, mcc, auc_score = 0, 0, 0, 0, 0\n",
        "\n",
        "    # F1 Score\n",
        "    f1 = f1_score(y_true, y_predicted, average=\"weighted\")\n",
        "\n",
        "    # Recall\n",
        "    recall = recall_score(y_true, y_predicted, average=\"weighted\")\n",
        "\n",
        "    # Precision\n",
        "    precision = precision_score(y_true, y_predicted, average=\"weighted\")\n",
        "\n",
        "    # Matthews Correlation Coefficient (MCC)\n",
        "    mcc = matthews_corrcoef(y_true, y_predicted)\n",
        "\n",
        "    return f1, recall, precision, mcc"
      ]
    },
    {
      "cell_type": "markdown",
      "metadata": {
        "id": "DOSnO-SeWQAP"
      },
      "source": [
        "## Feature Selection"
      ]
    },
    {
      "cell_type": "markdown",
      "metadata": {
        "id": "AbecGY6Ahl3L"
      },
      "source": [
        "### DataFrame To X and y and Vice Versa"
      ]
    },
    {
      "cell_type": "code",
      "execution_count": 292,
      "metadata": {
        "id": "jZcga6Owhl3L"
      },
      "outputs": [],
      "source": [
        "def DFToXAndY(df):\n",
        "    X, y = df.iloc[:, :-1], df.iloc[:, -1:]\n",
        "    return X, y"
      ]
    },
    {
      "cell_type": "markdown",
      "metadata": {
        "id": "Q7UFFAd5WQAP"
      },
      "source": [
        "### Train-Test Split Method"
      ]
    },
    {
      "cell_type": "code",
      "execution_count": 293,
      "metadata": {
        "id": "JEpzyzK0WQAP"
      },
      "outputs": [],
      "source": [
        "from sklearn.model_selection import train_test_split\n",
        "def train_test_split_modified(df, test_size_input = 0.25, randdom_state_input = 0 ):\n",
        "    X, y = df.iloc[:, :-1], df.iloc[:, -1:]\n",
        "    x_train, x_test, y_train, y_test = train_test_split(X, y, test_size = test_size_input, random_state = randdom_state_input)\n",
        "    return x_train, x_test, y_train, y_test"
      ]
    },
    {
      "cell_type": "markdown",
      "metadata": {},
      "source": [
        "### Checking Features Importances With RandomForest"
      ]
    },
    {
      "cell_type": "code",
      "execution_count": 445,
      "metadata": {},
      "outputs": [
        {
          "data": {
            "image/png": "[encoded data removed]",
            "text/plain": [
              "<Figure size 720x864 with 1 Axes>"
            ]
          },
          "metadata": {
            "needs_background": "light"
          },
          "output_type": "display_data"
        }
      ],
      "source": [
        "import matplotlib.pyplot as plt\n",
        "from sklearn.ensemble import RandomForestClassifier\n",
        "from sklearn.datasets import make_classification\n",
        "\n",
        "X, y =  questionToMode_df.iloc[:, :-1], questionToMode_df.iloc[:, -1:]\n",
        "\n",
        "rf_model = RandomForestClassifier(n_estimators=100, random_state=42)\n",
        "rf_model.fit(X, y)\n",
        "\n",
        "feature_importances = rf_model.feature_importances_\n",
        "\n",
        "feature_names = [f'Feature {i}' for i in range(1, len(feature_importances) + 1)]\n",
        "\n",
        "sorted_idx = feature_importances.argsort()\n",
        "\n",
        "plt.figure(figsize=(10, 12))\n",
        "plt.barh(range(len(sorted_idx)), feature_importances[sorted_idx], align=\"center\")\n",
        "plt.yticks(range(len(sorted_idx)), [feature_names[i] for i in sorted_idx])\n",
        "plt.xlabel(\"Feature Importance\")\n",
        "plt.title(\"Random Forest Feature Importance\")\n",
        "plt.show()"
      ]
    },
    {
      "cell_type": "markdown",
      "metadata": {
        "id": "_w4sHas7WQAP"
      },
      "source": [
        "### RFE Feature Elimination Method"
      ]
    },
    {
      "cell_type": "code",
      "execution_count": 294,
      "metadata": {
        "id": "VIs1L6oPWQAP"
      },
      "outputs": [],
      "source": [
        "from sklearn.feature_selection import RFE\n",
        "from sklearn import tree\n",
        "from sklearn.ensemble import RandomForestClassifier\n",
        "\n",
        "def RFEFeatureElimination(df, X, y, n_features_to_select, step = 1):\n",
        "    rfe_df = df.copy()\n",
        "    dropped_columns = []\n",
        "    estimator = tree.DecisionTreeClassifier()\n",
        "    selector = RFE(estimator = estimator, n_features_to_select = n_features_to_select, step = 1)\n",
        "    selector = selector.fit(X, y)\n",
        "\n",
        "    for i, value in enumerate(selector.support_, start=1):\n",
        "        #print(len(selector.support_))\n",
        "        #print(selector.ranking_)\n",
        "        if(value == False) and rfe_df.columns[i] != 'Q16':\n",
        "            dropped_columns.append(rfe_df.columns[i])\n",
        "\n",
        "    rfe_df = rfe_df.drop(dropped_columns, axis = 1)\n",
        "    return rfe_df"
      ]
    },
    {
      "cell_type": "markdown",
      "metadata": {
        "id": "km2gVQIRhl3M"
      },
      "source": [
        "### Chi Squared Feature Elimination Method"
      ]
    },
    {
      "cell_type": "code",
      "execution_count": 295,
      "metadata": {
        "id": "UjejAARehl3M"
      },
      "outputs": [],
      "source": [
        "from sklearn.feature_selection import SelectKBest, chi2\n",
        "\n",
        "def ChiSquareFeatureElimination(X, y, n_features_to_select, df= None):\n",
        "    X_chi2 = SelectKBest(chi2, k = n_features_to_select).fit_transform(X, y)\n",
        "    X_chi2_df = pd.DataFrame(X_chi2, columns=[f\"feature_{i}\" for i in range(n_features_to_select)])\n",
        "    return pd.concat([X_chi2_df, y.reset_index(drop=True)], axis=1)"
      ]
    },
    {
      "cell_type": "markdown",
      "metadata": {
        "id": "UOy50YBVhl3M"
      },
      "source": [
        "### Mutual Information Feature Elimination Method"
      ]
    },
    {
      "cell_type": "code",
      "execution_count": 296,
      "metadata": {
        "id": "MQ6k2_QBhl3M"
      },
      "outputs": [],
      "source": [
        "from sklearn.feature_selection import mutual_info_classif\n",
        "\n",
        "def MutualInformationFeatureElimination(X, y, n_features_to_select, df= None):\n",
        "    X_mutual_info = SelectKBest(mutual_info_classif, k = n_features_to_select).fit_transform(X, y)\n",
        "    X_mutual_info_df = pd.DataFrame(X_mutual_info, columns=[f\"feature_{i}\" for i in range(n_features_to_select)])\n",
        "    return pd.concat([X_mutual_info_df, y.reset_index(drop=True)], axis=1)"
      ]
    },
    {
      "cell_type": "markdown",
      "metadata": {
        "id": "3AJHcLa8hl3M"
      },
      "source": [
        "### Lasso Feature Elimination Method"
      ]
    },
    {
      "cell_type": "code",
      "execution_count": 297,
      "metadata": {
        "id": "DU75m1luhl3M"
      },
      "outputs": [],
      "source": [
        "from sklearn.svm import LinearSVC\n",
        "from sklearn.feature_selection import SelectFromModel\n",
        "\n",
        "\n",
        "def LassoFeatureElimination(X, y, n_features_to_select, df= None):\n",
        "    lsvc = LinearSVC(C=0.01, penalty=\"l1\", dual=False).fit(X, y)\n",
        "    model = SelectFromModel(lsvc, prefit=True, max_features=n_features_to_select)\n",
        "    X_l1 = model.transform(X)\n",
        "    X_l1_df = X_l1_df = pd.DataFrame(X_l1, columns=[f\"feature_{i}\" for i in range(X_l1.shape[1])])\n",
        "    return pd.concat([X_l1_df, y.reset_index(drop=True)], axis=1)\n"
      ]
    },
    {
      "cell_type": "markdown",
      "metadata": {
        "id": "U14zVlzswqBU"
      },
      "source": [
        "# ML and DL Algorithms"
      ]
    },
    {
      "cell_type": "markdown",
      "metadata": {
        "id": "dW0jDJ0hWQAP"
      },
      "source": [
        "### KNN Classification Algorithm Method"
      ]
    },
    {
      "cell_type": "code",
      "execution_count": 384,
      "metadata": {
        "id": "6m4dNXtRWQAP"
      },
      "outputs": [],
      "source": [
        "from sklearn.neighbors import KNeighborsClassifier\n",
        "from sklearn.metrics import accuracy_score\n",
        "from sklearn.metrics import confusion_matrix\n",
        "\n",
        "def KNN(x_train, x_test, y_train, y_test):\n",
        "    knn_params = {\"cosine\", \"euclidean\", \"manhattan\", \"nan_euclidean\"}\n",
        "    best_accuracy_knn = 0\n",
        "    best_metric = \"\"\n",
        "    best_neighbor_count = 0\n",
        "    max_neighbour = 10\n",
        "    for i in range(1,max_neighbour):\n",
        "        for param in knn_params:\n",
        "            knn = KNeighborsClassifier(n_neighbors=i, metric = param, weights = \"distance\")\n",
        "            clf = knn.fit(x_train, y_train)\n",
        "            y_predict_proba = clf.predict_proba(x_test)[:, 1]\n",
        "            y_pred = knn.predict(x_test)\n",
        "            if accuracy_score(y_test, y_pred) < 1 and best_accuracy_knn < accuracy_score(y_test, y_pred) :\n",
        "                best_accuracy_knn, best_neighbor_count, best_metric = accuracy_score(y_test, y_pred), i, param\n",
        "\n",
        "    print(f\"Best accuracy is = {best_accuracy_knn}, with {best_neighbor_count} n_neighbors, {best_metric} metrics and fetaure len = {len(x_train.columns)}\")\n",
        "    #knn = KNeighborsClassifier(n_neighbors=best_neighbor_count, metric = best_metric, weights = \"distance\")\n",
        "    #knn.fit(x_train, y_train)\n",
        "    #y_pred = knn.predict(x_test)\n",
        "    #print(confusion_matrix(y_test,y_pred))\n",
        "    if(len(y_test['Q16'].unique()) > 2):\n",
        "        f1, recall, precision, mcc = FindNecessaryMetricsMultiClass(y_test, y_pred, y_predict_proba)\n",
        "        auc_score = 0\n",
        "    else:\n",
        "        f1, recall, precision, mcc, auc_score = FindNecessaryMetrics(y_test, y_pred, y_predict_proba)\n",
        "    return {\"Accuracy\": best_accuracy_knn,\n",
        "            \"F1\": f1, \"Recall\": recall, \"Precision\": precision, \"Mcc\": mcc, \"Auc_score\": auc_score,\n",
        "            \"y_true\": y_test, \"y_predict_proba\": y_predict_proba,\n",
        "            \"Model_Name\": \"KNN\",\n",
        "            \"HyperParameters\": f\"n_neighbor:{best_neighbor_count}, metric:{best_metric}, n_feature:{len(x_train.columns)}\"}"
      ]
    },
    {
      "cell_type": "markdown",
      "metadata": {
        "id": "dmojFRPSWQAQ"
      },
      "source": [
        "### Random Forest Classifier Method"
      ]
    },
    {
      "cell_type": "code",
      "execution_count": 358,
      "metadata": {
        "id": "lsz1N09sWQAQ"
      },
      "outputs": [],
      "source": [
        "from sklearn.ensemble import RandomForestClassifier\n",
        "from sklearn.datasets import make_classification\n",
        "from sklearn.utils.class_weight import compute_class_weight\n",
        "\n",
        "def RandomForest(x_train, x_test, y_train, y_test):\n",
        "    criterions = {\"gini\", \"entropy\"}\n",
        "    best_accuracy = 0\n",
        "    best_criterion = \"\"\n",
        "    best_depth = 0,\n",
        "    for criterion_changer in criterions:\n",
        "        for max_depth_changer in [None,5,10,15,20,25,30,35,40,45,50]:\n",
        "            RandomForestClf = RandomForestClassifier(criterion= criterion_changer, max_depth=max_depth_changer, random_state=1)\n",
        "            clf = RandomForestClf.fit(x_train, y_train)\n",
        "            y_predict_proba = clf.predict_proba(x_test)[:, 1]\n",
        "            y_pred = RandomForestClf.predict(x_test)\n",
        "            accuracy = accuracy_score(y_test, y_pred)\n",
        "\n",
        "            if(accuracy > best_accuracy):\n",
        "                best_accuracy, best_criterion, best_depth = accuracy, criterion_changer, max_depth_changer\n",
        "    print(f\"Best accuracy is = {best_accuracy}, with criterion = {best_criterion} max_depth = {best_depth} metrics and fetaure len = {len(x_train.columns)}\")\n",
        "    if(len(y_test['Q16'].unique()) > 2):\n",
        "        f1, recall, precision, mcc = FindNecessaryMetricsMultiClass(y_test, y_pred, y_predict_proba)\n",
        "        auc_score = 0\n",
        "    else:\n",
        "        f1, recall, precision, mcc, auc_score = FindNecessaryMetrics(y_test, y_pred, y_predict_proba)\n",
        "    return {\"Accuracy\": best_accuracy,\n",
        "            \"F1\": f1, \"Recall\": recall, \"Precision\": precision, \"Mcc\": mcc, \"Auc_score\": auc_score,\n",
        "            \"y_true\": y_test, \"y_predict_proba\": y_predict_proba,\n",
        "            \"Model_Name\": \"RandomForest\",\n",
        "            \"HyperParameters\": f\"best_criterion: {best_criterion}, max_depth:{best_depth} fetaure len = {len(x_train.columns)}\"}"
      ]
    },
    {
      "cell_type": "markdown",
      "metadata": {
        "id": "a3VNmUUzNVvF"
      },
      "source": [
        "### Gradient Boosting Classifier Method"
      ]
    },
    {
      "cell_type": "code",
      "execution_count": 395,
      "metadata": {
        "id": "F_M3nwA5NVvF"
      },
      "outputs": [],
      "source": [
        "from sklearn.ensemble import GradientBoostingClassifier\n",
        "def GradientBoosting(x_train, x_test, y_train, y_test):\n",
        "    best_accuracy = 0\n",
        "    best_n_estimators = \"\"\n",
        "    best_depth = 0\n",
        "    for n_estimators in [100,125,150,175,200]:\n",
        "        gradient_boosting = GradientBoostingClassifier(n_estimators=n_estimators, loss = 'deviance', learning_rate=0.1, criterion = 'squared_error', max_depth=1, random_state=0)\n",
        "        clf = gradient_boosting.fit(x_train, y_train)\n",
        "        y_predict_proba = clf.predict_proba(x_test)[:, 1]\n",
        "        y_pred = gradient_boosting.predict(x_test)\n",
        "        accuracy = accuracy_score(y_test, y_pred)\n",
        "        if(accuracy > best_accuracy):\n",
        "            best_accuracy, best_n_estimators = accuracy, n_estimators\n",
        "    print(f\"Best accuracy is = {best_accuracy}, with best_n_estimators = {best_n_estimators} learning_rate = 0.1 criterion = squared_error best_depth = 1 metrics and fetaure len = {len(x_train.columns)}\")\n",
        "    if(len(y_test['Q16'].unique()) > 2):\n",
        "        f1, recall, precision, mcc = FindNecessaryMetricsMultiClass(y_test, y_pred, y_predict_proba)\n",
        "        auc_score = 0\n",
        "    else:\n",
        "        f1, recall, precision, mcc, auc_score = FindNecessaryMetrics(y_test, y_pred, y_predict_proba)\n",
        "    return {\"Accuracy\": best_accuracy,\n",
        "            \"F1\": f1, \"Recall\": recall, \"Precision\": precision, \"Mcc\": mcc, \"Auc_score\": auc_score,\n",
        "            \"y_true\": y_test, \"y_predict_proba\": y_predict_proba,\n",
        "            \"Model_Name\": \"GradientBoosting\",\n",
        "            \"HyperParameters\": f\"best_n_estimators: {best_n_estimators}, loss:deviance, learning_rate = 0.1, depth = 1  criterion = squared_error\"}"
      ]
    },
    {
      "cell_type": "markdown",
      "metadata": {
        "id": "FrYMHVg6NVvF"
      },
      "source": [
        "### Stochastic Gradient Descent"
      ]
    },
    {
      "cell_type": "code",
      "execution_count": 379,
      "metadata": {
        "id": "bv6ClgANNVvF"
      },
      "outputs": [],
      "source": [
        "from sklearn.linear_model import SGDClassifier\n",
        "def StockGradientDescent(x_train, x_test, y_train, y_test):\n",
        "    best_accuracy = 0\n",
        "    best_penalty = ''\n",
        "    for penalty in ['l2', 'l1', 'elasticnet']:\n",
        "        model = SGDClassifier(loss=\"log\", penalty=penalty, max_iter=1000)\n",
        "        clf = model.fit(x_train, y_train)\n",
        "        y_predict_proba = clf.predict_proba(x_test)[:, 1]\n",
        "        y_pred = model.predict(x_test)\n",
        "        accuracy = accuracy_score(y_test, y_pred)\n",
        "        if(accuracy > best_accuracy):\n",
        "            best_accuracy, best_penalty = accuracy, penalty\n",
        "    print(f\"Best accuracy is = {best_accuracy}, with max_iter = 1000 best_penalty = {best_penalty} loss = squared_error  metrics and fetaure len = {len(x_train.columns)}\")\n",
        "    if(len(y_test['Q16'].unique()) > 2):\n",
        "        f1, recall, precision, mcc = FindNecessaryMetricsMultiClass(y_test, y_pred, y_predict_proba)\n",
        "        auc_score = 0\n",
        "    else:\n",
        "        f1, recall, precision, mcc, auc_score = FindNecessaryMetrics(y_test, y_pred, y_predict_proba)\n",
        "    return {\"Accuracy\": best_accuracy,\n",
        "            \"F1\": f1, \"Recall\": recall, \"Precision\": precision, \"Mcc\": mcc, \"Auc_score\": auc_score,\n",
        "            \"y_true\": y_test, \"y_predict_proba\": y_predict_proba,\n",
        "            \"Model_Name\": \"StockGradientDescent\",\n",
        "            \"HyperParameters\": f\"best_max_iter: 1000, loss:squared_error, best_penalty = {best_penalty}\"}"
      ]
    },
    {
      "cell_type": "markdown",
      "metadata": {
        "id": "8z6tObWSW01F"
      },
      "source": [
        "### SVM\n"
      ]
    },
    {
      "cell_type": "code",
      "execution_count": 377,
      "metadata": {
        "id": "x4MqbpAaW3tO"
      },
      "outputs": [],
      "source": [
        "from sklearn import svm\n",
        "\n",
        "def NonlinearSVM(x_train, x_test, y_train, y_test):\n",
        "    best_accuracy = 0\n",
        "    functionsForSVM={\"rbf\",\"sigmoid\"}\n",
        "    best_function=\"\"\n",
        "\n",
        "    for function in functionsForSVM:\n",
        "        model = svm.SVC(kernel=function, probability=True)\n",
        "        clf = model.fit(x_train, y_train)\n",
        "        y_predict_proba = clf.predict_proba(x_test)[:, 1]\n",
        "        y_pred = model.predict(x_test)\n",
        "        accuracy = accuracy_score(y_test, y_pred)\n",
        "        if(accuracy > best_accuracy):\n",
        "            best_accuracy=accuracy\n",
        "            best_function=function\n",
        "    print(f\"Best accuracy is = {best_accuracy}, with function = {best_function}\")\n",
        "    if(len(y_test['Q16'].unique()) > 2):\n",
        "        f1, recall, precision, mcc = FindNecessaryMetricsMultiClass(y_test, y_pred, y_predict_proba)\n",
        "        auc_score = 0\n",
        "    else:\n",
        "        f1, recall, precision, mcc, auc_score = FindNecessaryMetrics(y_test, y_pred, y_predict_proba)\n",
        "    return  {\"Accuracy\": best_accuracy,\n",
        "            \"F1\": f1, \"Recall\": recall, \"Precision\": precision, \"Mcc\": mcc, \"Auc_score\": auc_score,\n",
        "            \"y_true\": y_test, \"y_predict_proba\": y_predict_proba,\n",
        "            \"Model_Name\": \"SVM\",\n",
        "            \"HyperParameters\": f\"best_function: {best_function}\"}"
      ]
    },
    {
      "cell_type": "markdown",
      "metadata": {
        "id": "o1oit3UQa5ZO"
      },
      "source": [
        "### Naive Bayes"
      ]
    },
    {
      "cell_type": "code",
      "execution_count": 388,
      "metadata": {
        "id": "wwnAkECVa8e2"
      },
      "outputs": [],
      "source": [
        "from sklearn.naive_bayes import MultinomialNB\n",
        "\n",
        "def MultinomialNaiveBayes(x_train, x_test, y_train, y_test):\n",
        "    best_accuracy = 0\n",
        "    best_alpha = 0\n",
        "    alphas = [0.2, 0.3, 0.5]\n",
        "\n",
        "    for alpha in alphas:\n",
        "        model = MultinomialNB(alpha=alpha)\n",
        "        clf = model.fit(x_train, y_train)\n",
        "        y_predict_proba = clf.predict_proba(x_test)[:, 1]\n",
        "        y_pred = model.predict(x_test)\n",
        "        accuracy = accuracy_score(y_test, y_pred)\n",
        "\n",
        "        if accuracy > best_accuracy:\n",
        "            best_accuracy = accuracy\n",
        "            best_alpha = alpha\n",
        "\n",
        "    print(f\"Best accuracy is = {best_accuracy}, with alpha = {best_alpha}\")\n",
        "    if(len(y_test['Q16'].unique()) > 2):\n",
        "        f1, recall, precision, mcc = FindNecessaryMetricsMultiClass(y_test, y_pred, y_predict_proba)\n",
        "        auc_score = 0\n",
        "    else:\n",
        "        f1, recall, precision, mcc, auc_score = FindNecessaryMetrics(y_test, y_pred, y_predict_proba)\n",
        "    return {\n",
        "        \"Accuracy\": best_accuracy,\n",
        "        \"F1\": f1, \"Recall\": recall, \"Precision\": precision, \"Mcc\": mcc, \"Auc_score\": auc_score,\n",
        "        \"y_true\": y_test, \"y_predict_proba\": y_predict_proba,\n",
        "        \"Model_Name\": \"Multinomial Naive Bayes\",\n",
        "        \"HyperParameters\": f\"best_alpha: {best_alpha}\"\n",
        "    }"
      ]
    },
    {
      "cell_type": "markdown",
      "metadata": {
        "id": "Y2AAIT6PhU8Z"
      },
      "source": [
        "### Decision Tree"
      ]
    },
    {
      "cell_type": "code",
      "execution_count": 367,
      "metadata": {
        "id": "e9rSv7J9hdYY"
      },
      "outputs": [],
      "source": [
        "from sklearn.tree import DecisionTreeClassifier\n",
        "\n",
        "\n",
        "def DecisionTree(x_train, x_test, y_train, y_test):\n",
        "    dephts= [5,10,12,17]\n",
        "    best_accuracy=0\n",
        "    best_max_depth=0\n",
        "\n",
        "    for depth in dephts:\n",
        "        model = DecisionTreeClassifier(random_state=42,max_depth=depth)\n",
        "        clf = model.fit(x_train, y_train)\n",
        "        y_predict_proba = clf.predict_proba(x_test)[:, 1]\n",
        "        y_pred = model.predict(x_test)\n",
        "        y_pred = model.predict(x_test)\n",
        "        accuracy = accuracy_score(y_test, y_pred)\n",
        "        if accuracy > best_accuracy:\n",
        "            best_accuracy, best_max_depth = accuracy, depth\n",
        "    print(f\"Best accuracy is = {best_accuracy}, with max_depth = {best_max_depth}\")\n",
        "    if(len(y_test['Q16'].unique()) > 2):\n",
        "        f1, recall, precision, mcc = FindNecessaryMetricsMultiClass(y_test, y_pred, y_predict_proba)\n",
        "        auc_score = 0\n",
        "    else:\n",
        "        f1, recall, precision, mcc, auc_score = FindNecessaryMetrics(y_test, y_pred, y_predict_proba)\n",
        "    return {\n",
        "        \"Accuracy\": best_accuracy,\n",
        "        \"F1\": f1, \"Recall\": recall, \"Precision\": precision, \"Mcc\": mcc, \"Auc_score\": auc_score,\n",
        "        \"y_true\": y_test, \"y_predict_proba\": y_predict_proba,\n",
        "        \"Model_Name\": \"Decision Tree\",\n",
        "        \"HyperParameters\": f\"best_max_depth: {best_max_depth}\"\n",
        "    }"
      ]
    },
    {
      "cell_type": "markdown",
      "metadata": {
        "id": "WFmpkQDOk2qq"
      },
      "source": [
        "### Ada Boost"
      ]
    },
    {
      "cell_type": "code",
      "execution_count": 391,
      "metadata": {
        "id": "juPL62dik5r9"
      },
      "outputs": [],
      "source": [
        "from sklearn.ensemble import AdaBoostClassifier\n",
        "from sklearn.tree import DecisionTreeClassifier\n",
        "\n",
        "\n",
        "def AdaBoost(x_train, x_test, y_train, y_test):\n",
        "  depths=[1,3,5]\n",
        "  best_max_depth=0\n",
        "  best_accuracy=0\n",
        "  best_n_estimators=0\n",
        "  for depth in depths:\n",
        "    weak_learner = DecisionTreeClassifier(max_depth=depth)\n",
        "    adaboost_model = AdaBoostClassifier(base_estimator=weak_learner, n_estimators=5, random_state=42)\n",
        "    clf = adaboost_model.fit(x_train, y_train)\n",
        "    y_predict_proba = clf.predict_proba(x_test)[:, 1]\n",
        "    y_pred = adaboost_model.predict(x_test)\n",
        "    accuracy = accuracy_score(y_test, y_pred)\n",
        "\n",
        "    if accuracy > best_accuracy:\n",
        "            best_accuracy = accuracy\n",
        "            best_max_depth = depth\n",
        "  print(f\"Best accuracy is = {best_accuracy}, with max_depth = {best_max_depth}\")\n",
        "  if(len(y_test['Q16'].unique()) > 2):\n",
        "      f1, recall, precision, mcc = FindNecessaryMetricsMultiClass(y_test, y_pred, y_predict_proba)\n",
        "      auc_score = 0\n",
        "  else:\n",
        "      f1, recall, precision, mcc, auc_score = FindNecessaryMetrics(y_test, y_pred, y_predict_proba)\n",
        "  return {\n",
        "        \"Accuracy\": best_accuracy,\n",
        "        \"F1\": f1, \"Recall\": recall, \"Precision\": precision, \"Mcc\": mcc, \"Auc_score\": auc_score,\n",
        "        \"y_true\": y_test, \"y_predict_proba\": y_predict_proba,\n",
        "        \"Model_Name\": \"Ada Boost\",\n",
        "        \"HyperParameters\": f\"best_max_depth: {best_max_depth}\"\n",
        "    }"
      ]
    },
    {
      "cell_type": "markdown",
      "metadata": {},
      "source": [
        "### Logistic Regression"
      ]
    },
    {
      "cell_type": "code",
      "execution_count": 439,
      "metadata": {},
      "outputs": [],
      "source": [
        "from sklearn.linear_model import LogisticRegression\n",
        "\n",
        "def LogisticRegressionClassifier(x_train, x_test, y_train, y_test):\n",
        "\n",
        "    logistic_model = LogisticRegression(random_state=42)\n",
        "    clf = logistic_model.fit(x_train, y_train)\n",
        "    y_predict_proba = clf.predict_proba(x_test)[:, 1]\n",
        "    y_pred = logistic_model.predict(x_test)\n",
        "    accuracy = accuracy_score(y_test, y_pred)\n",
        "\n",
        "    print(f\"Accuracy with Logistic Regression: {accuracy}\")\n",
        "    if(len(y_test['Q16'].unique()) > 2):\n",
        "        f1, recall, precision, mcc = FindNecessaryMetricsMultiClass(y_test, y_pred, y_predict_proba)\n",
        "        auc_score = 0\n",
        "    else:\n",
        "        f1, recall, precision, mcc, auc_score = FindNecessaryMetrics(y_test, y_pred, y_predict_proba)\n",
        "    return {\n",
        "        \"Accuracy\": accuracy,\n",
        "        \"F1\": f1, \"Recall\": recall, \"Precision\": precision, \"Mcc\": mcc, \"Auc_score\": auc_score,\n",
        "        \"y_true\": y_test, \"y_predict_proba\": y_predict_proba,\n",
        "        \"Model_Name\": \"LogisticRegression\",\n",
        "        \"HyperParameters\": f\"Not Trying HyperParameters\"\n",
        "    }"
      ]
    },
    {
      "cell_type": "markdown",
      "metadata": {
        "id": "Ahif18dsnkO8"
      },
      "source": [
        "## TensorFlow"
      ]
    },
    {
      "cell_type": "code",
      "execution_count": null,
      "metadata": {
        "colab": {
          "base_uri": "https://localhost:8080/",
          "height": 390
        },
        "id": "e1EcIkWNnm16",
        "outputId": "4f63e576-7bba-453a-ab2d-2e522322a833"
      },
      "outputs": [],
      "source": [
        "import tensorflow as tf\n",
        "from tensorflow.keras import layers, models\n",
        "from sklearn.model_selection import train_test_split\n",
        "from sklearn.preprocessing import LabelEncoder\n",
        "from tensorflow.keras.models import Sequential\n",
        "from tensorflow.keras.layers import Dense\n",
        "from tensorflow.keras.optimizers import Adam\n",
        "from imblearn.over_sampling import SMOTE\n",
        "from sklearn.preprocessing import LabelEncoder,  RobustScaler\n",
        "from tensorflow.keras.regularizers import l2\n",
        "from tensorflow.keras.layers import Dropout\n",
        "from imblearn.over_sampling import SMOTE, SMOTEN\n",
        "\n",
        "df_tr=questionToMode_df.copy()\n",
        "#for label\n",
        "df_tr = pd.get_dummies(df_tr, columns=['Q16'], prefix='Q16')\n",
        "\n",
        "#for features\n",
        "label_encoder = LabelEncoder()\n",
        "categorical_columns = df_tr.columns[:-4]\n",
        "for col in categorical_columns:\n",
        "    df_tr[col] = label_encoder.fit_transform(df_tr[col])\n",
        "\n",
        "X = df_tr.drop(['Q16_0', 'Q16_1', 'Q16_2', 'Q16_3'], axis=1)\n",
        "y = df_tr[['Q16_0', 'Q16_1', 'Q16_2', 'Q16_3']]\n",
        "\n",
        "X_array, y_array = X, y.values\n",
        "smote = SMOTEN(random_state=42)\n",
        "X_resampled, y_resampled = smote.fit_resample(X_array, y_array)\n",
        "\n",
        "\n",
        "from sklearn.feature_selection import RFE\n",
        "from sklearn.ensemble import RandomForestClassifier\n",
        "classifier = RandomForestClassifier()\n",
        "rfe = RFE(classifier, n_features_to_select=60)\n",
        "X_rfe = rfe.fit_transform(X_resampled, y_resampled)\n",
        "print(X_rfe.shape)\n",
        "\n",
        "#train-test-split\n",
        "X_train, X_test, y_train, y_test = train_test_split(X_rfe, y_resampled, test_size=0.2, random_state=42)\n",
        "\n",
        "\n",
        "scaler = RobustScaler()\n",
        "X_train_scaled = scaler.fit_transform(X_train)\n",
        "X_test_scaled = scaler.transform(X_test)\n",
        "\n",
        "\n",
        "#model\n",
        "model = Sequential()\n",
        "model.add(Dense(256, input_dim=X_train_scaled.shape[1], activation='relu'))\n",
        "model.add(Dropout(0.5))\n",
        "model.add(Dense(128, activation='sigmoid'))\n",
        "model.add(Dropout(0.5))\n",
        "model.add(Dense(64, activation='sigmoid'))\n",
        "model.add(Dense(32, activation='relu'))\n",
        "model.add(Dense(4, activation='softmax'))\n",
        "\n",
        "\n",
        "\n",
        "\n",
        "model.compile(loss='categorical_crossentropy',\n",
        "              optimizer=Adam(learning_rate=0.0005),\n",
        "              metrics=['accuracy'])\n",
        "\n",
        "\n",
        "model_result = model.fit(X_train_scaled, y_train, epochs=2000,validation_data=(X_test_scaled, y_test))\n",
        "history = model_result.history\n",
        "\n",
        "\n",
        "best_accuracy = max(history['val_accuracy'])\n",
        "\n",
        "print(f'Best: {best_accuracy}')"
      ]
    },
    {
      "cell_type": "markdown",
      "metadata": {
        "id": "xrksmOBhWQAQ"
      },
      "source": [
        "### PyTorch Classifier"
      ]
    },
    {
      "cell_type": "code",
      "execution_count": 306,
      "metadata": {
        "colab": {
          "base_uri": "https://localhost:8080/"
        },
        "id": "Oaio8HLwWQAQ",
        "outputId": "867eb1b7-b3d6-4d0b-90ee-bbcab1a43b71"
      },
      "outputs": [
        {
          "name": "stdout",
          "output_type": "stream",
          "text": [
            "2.1.2+cpu\n"
          ]
        }
      ],
      "source": [
        "# Check Torch version\n",
        "import torch\n",
        "print(torch.__version__)"
      ]
    },
    {
      "cell_type": "code",
      "execution_count": 56,
      "metadata": {
        "id": "FJwRyYW6WQAQ"
      },
      "outputs": [],
      "source": [
        "def ConvertNumpyToTorch(x_train, x_test, y_train, y_test):\n",
        "    x_train, x_test = torch.from_numpy(x_train.values), torch.from_numpy(x_test.values)\n",
        "    y_train, y_test = torch.from_numpy(y_train.values), torch.from_numpy(y_test.values)\n",
        "    return x_train, x_test, y_train, y_test"
      ]
    },
    {
      "cell_type": "code",
      "execution_count": 307,
      "metadata": {
        "id": "6SwY4KihWQAQ"
      },
      "outputs": [],
      "source": [
        "from torch import nn\n",
        "from torch.nn.functional import one_hot\n",
        "\n",
        "def accuracy_fn(y_true, y_pred):\n",
        "    correct = torch.eq(y_true, y_pred).sum().item()\n",
        "    acc = (correct / len(y_pred)) * 100\n",
        "    return acc\n",
        "\n",
        "class PyTorchClassifier(nn.Module):\n",
        "    def __init__(self, input_layers, hidden_layers, output_layers):\n",
        "        super().__init__()\n",
        "        self.layer_1 = nn.Linear(in_features=input_layers, out_features=256).to(dtype=torch.float64)\n",
        "        self.relu = nn.ReLU()\n",
        "\n",
        "        self.layer_2= nn.Linear(in_features=256, out_features=128).to(dtype=torch.float64)\n",
        "        self.relu2 = nn.ReLU()\n",
        "\n",
        "        self.layer_6 = nn.Linear(in_features=128, out_features=32).to(dtype=torch.float64)\n",
        "        self.relu6 = nn.ReLU()\n",
        "\n",
        "        self.layer_7 = nn.Linear(in_features=32, out_features=4).to(dtype=torch.float64)\n",
        "        self.softmax = nn.Softmax(dim=1)\n",
        "\n",
        "    def forward(self, x):\n",
        "        x = self.relu(self.layer_1(x).to(dtype=torch.float64)).to(dtype=torch.float64)\n",
        "        x = self.relu2(self.layer_2(x).to(dtype=torch.float64)).to(dtype=torch.float64)\n",
        "        x = self.relu6(self.layer_6(x).to(dtype=torch.float64)).to(dtype=torch.float64)\n",
        "        x = self.layer_7(x).to(dtype=torch.float64)\n",
        "        x = x = self.softmax(x)\n",
        "        return x\n",
        "\n",
        "results_pytorch = []\n",
        "def PyTorch_TrainTest_Step(model: torch.nn.Module,\n",
        "                       x_train, x_test, y_train, y_test,\n",
        "                       loss_fn,\n",
        "                       accuracy_fn,\n",
        "                       optimizer: torch.optim.Optimizer,\n",
        "                       feature_elimination_name,\n",
        "                       scaler_name,\n",
        "                       epochs = 200):\n",
        "\n",
        "    best_accuracy, best_loss, best_epoch = 0, 0, 0\n",
        "    for epoch in range(epochs):\n",
        "        model.train()\n",
        "        y_pred = model(x_train.to(dtype=torch.float64))\n",
        "        loss = loss_fn(y_pred, y_train.squeeze().to(torch.long))\n",
        "\n",
        "        #acc = accuracy_fn(y_train.squeeze().to(torch.long), y_pred.argmax(dim = 1))\n",
        "        optimizer.zero_grad()\n",
        "        loss.backward()\n",
        "        optimizer.step()\n",
        "\n",
        "        model.eval()\n",
        "        with torch.inference_mode():\n",
        "            test_y_pred = model(x_test.to(dtype=torch.float64))\n",
        "            test_loss = loss_fn(test_y_pred, y_test.squeeze().to(torch.long))\n",
        "            test_acc = accuracy_fn(y_test.squeeze().to(torch.long), test_y_pred.argmax(dim = 1))\n",
        "            if(test_acc > best_accuracy):\n",
        "                best_accuracy, best_loss, best_epoch = test_acc, test_loss, epoch\n",
        "                if(epochs % 100 == 0):\n",
        "                    result = f\"Model: PyTorch Best Epoch: {best_epoch} | Best Loss: {best_loss:.5f} | Best Acc: {best_accuracy:.2f}%  with {feature_elimination_name}, {scaler_name},{type(loss_fn).__name__}, len = {x_train.size()[1]} and {type(optimizer).__name__}, lr = {optimizer.param_groups[0]['lr']}\"\n",
        "                    print(result)\n",
        "\n",
        "    with torch.inference_mode():\n",
        "        y_test_pred_proba = model(x_test.to(dtype=torch.float64))\n",
        "        y_test_pred = y_test_pred_proba.argmax(dim=1)\n",
        "        f1 = f1_score(y_test, y_test_pred, average='weighted')\n",
        "        recall = recall_score(y_test, y_test_pred, average='weighted')\n",
        "        precision = precision_score(y_test, y_test_pred, average='weighted')\n",
        "        mcc = matthews_corrcoef(y_test, y_test_pred)\n",
        "\n",
        "    results_pytorch.append(result)\n",
        "    print(f\"END OF ITERATION WITH FEATURES LEN = {x_train.size()[1]}\")\n",
        "\n",
        "    return {\n",
        "        \"Accuracy\": best_accuracy,\n",
        "        \"F1\": f1, \"Recall\": recall, \"Precision\": precision, \"Mcc\": mcc, \"Model_Name\": \"PyTorch\",\n",
        "        \"y_true\": y_test, \"y_predict_proba\": y_test_pred_proba.detach().numpy()[:, 0],\n",
        "        \"HyperParameters\": f\"Model: PyTorch Best Epoch: {best_epoch} | Best Loss: {best_loss:.5f} | Best Acc: {best_accuracy:.2f}%  with {feature_elimination_name}, {scaler_name},{type(loss_fn).__name__}, len = {x_train.size()[1]} and {type(optimizer).__name__}, lr = {optimizer.param_groups[0]['lr']}\"\n",
        "    }"
      ]
    },
    {
      "cell_type": "markdown",
      "metadata": {},
      "source": [
        "### Method For Finding Max Accuracy's Situation Details"
      ]
    },
    {
      "cell_type": "code",
      "execution_count": 308,
      "metadata": {
        "id": "mW9YdVguWQAR"
      },
      "outputs": [],
      "source": [
        "def FindBestModel(results_list):\n",
        "    best_accuracy = 0\n",
        "    best_accuracy_index = 0\n",
        "    for i in range(len(results_list)):\n",
        "        if(results_list[i]['Accuracy'] > best_accuracy):\n",
        "            best_accuracy_index = i\n",
        "    return best_accuracy_index"
      ]
    },
    {
      "cell_type": "markdown",
      "metadata": {
        "id": "qZmeaSQZWQAQ"
      },
      "source": [
        "### Method For Running Spesific Method with Spesific Parameters"
      ]
    },
    {
      "cell_type": "code",
      "execution_count": 433,
      "metadata": {
        "id": "B2l6lrG8WQAR"
      },
      "outputs": [],
      "source": [
        "from sklearn.exceptions import DataConversionWarning\n",
        "import warnings\n",
        "from sklearn.model_selection import KFold\n",
        "\n",
        "# Ignore specific warnings\n",
        "warnings.filterwarnings(\"ignore\", category=DataConversionWarning)\n",
        "warnings.filterwarnings(\"ignore\", category=DataConversionWarning)\n",
        "\n",
        "def RunThePredictAlgorithm(df, max_feature, scaling_method, FeatureEliminationMethod, MLORDLAlgorithm,\n",
        "                           IsPytorch = False,  loss_method = None, accuracy_method = None, optimizer_method = None, lr = 0.1, version_numer = 'V1',\n",
        "                           IsTensor = False,\n",
        "                           IsMultiClass = False) -> bool | None:\n",
        "    algorithms_results = []\n",
        "    if(scaling_method == 'min-max'):\n",
        "        X, y = min_max_scaled_items[\"X\"], min_max_scaled_items[\"y\"]\n",
        "    elif(scaling_method == 'standart'):\n",
        "        X, y = stc_scaled_items[\"X\"], stc_scaled_items[\"y\"]\n",
        "    elif(scaling_method == 'robust'):\n",
        "        X, y = robust_scaled_items[\"X\"], robust_scaled_items[\"y\"]\n",
        "    else:\n",
        "        print(\"Scaling method not acceptable try acceptable scaling_method ['min-max', 'standart', 'robust']\")\n",
        "        return False\n",
        "    num_fold = 5\n",
        "    kf = KFold(n_splits=num_fold, shuffle=True, random_state=42)\n",
        "\n",
        "    if IsPytorch == False and IsTensor == False:\n",
        "        for i in range(70, max_feature):\n",
        "          feature_eliminated_df = FeatureEliminationMethod(df=df, X=X, y=y, n_features_to_select=i)\n",
        "          X_new, y_new = DFToXAndY(feature_eliminated_df)\n",
        "          test_accuracies, f1, recall, precision, mcc, auc_score = 0, 0, 0, 0, 0, 0\n",
        "          # Iterate over the k folds\n",
        "          for train_index, test_index in kf.split(feature_eliminated_df):\n",
        "            x_train, x_test = X_new.iloc[train_index], X_new.iloc[test_index]\n",
        "            y_train, y_test = y_new.iloc[train_index],y_new.iloc[test_index]\n",
        "\n",
        "            result = MLORDLAlgorithm(x_train, x_test, y_train, y_test)\n",
        "            test_accuracies +=  result[\"Accuracy\"]\n",
        "            f1 += result[\"F1\"]\n",
        "            recall += result[\"Recall\"]\n",
        "            precision += result[\"Precision\"]\n",
        "            mcc += result[\"Mcc\"]\n",
        "            auc_score += result[\"Auc_score\"]\n",
        "            result[\"FeatureEliminationMethod\"] = FeatureEliminationMethod.__name__\n",
        "\n",
        "            # Modify your SaveResults function to handle k-fold results\n",
        "            SaveResults(result, str(MLORDLAlgorithm.__name__) + \"_\" + str(FeatureEliminationMethod.__name__) + \"_\" + scaling_method +'_' + version_numer + \".txt\")\n",
        "\n",
        "            algorithms_results.append(result)\n",
        "          # Calculate means\n",
        "          mean_test_accuracy = test_accuracies / num_fold\n",
        "          mean_f1 = f1 / num_fold\n",
        "          mean_recall = recall / num_fold\n",
        "          mean_precision = precision / num_fold\n",
        "          mean_mcc = mcc / num_fold\n",
        "          mean_auc_score = auc_score / num_fold\n",
        "          if(IsMultiClass == False):\n",
        "            print(f\" Mean Test Accuracy: {mean_test_accuracy:.4f} \\n Mean f1: {mean_f1} \\n Mean_recall: {mean_recall} \\n Mean_Precision: {mean_precision} \\n Mean_Mcc: {mean_mcc} \\n Mean_Auc_Score: {mean_auc_score}\")\n",
        "          else:\n",
        "              print(f\" Mean Test Accuracy: {mean_test_accuracy:.4f} \\n Mean f1: {mean_f1} \\n Mean_recall: {mean_recall} \\n Mean_Precision: {mean_precision} \\n Mean_Mcc: {mean_mcc} \\n\")\n",
        "\n",
        "        best_model_index = FindBestModel(algorithms_results)\n",
        "        print(\"******************************************************************************\")\n",
        "\n",
        "        if(IsMultiClass == False):\n",
        "            print(f\"Best Accuracy: {algorithms_results[best_model_index]['Accuracy']:.4f} with:\\n\"\n",
        "                f\"f1: {algorithms_results[best_model_index]['F1']} \\n\"\n",
        "                f\"recall: {algorithms_results[best_model_index]['Recall']} \\n\"\n",
        "                f\"Precision: {algorithms_results[best_model_index]['Precision']} \\n\"\n",
        "                f\"Mcc: {algorithms_results[best_model_index]['Mcc']} \\n\"\n",
        "                f\"Auc_Score: {algorithms_results[best_model_index]['Auc_score']} \\n\"\n",
        "                f\"Parameters: {algorithms_results[best_model_index]['HyperParameters']}\")\n",
        "            DrawRocCurve(algorithms_results[best_model_index]['y_true'], algorithms_results[best_model_index]['y_predict_proba'])\n",
        "        else:\n",
        "            print(f\"Best Accuracy: {algorithms_results[best_model_index]['Accuracy']:.4f} with:\\n\"\n",
        "                f\"f1: {algorithms_results[best_model_index]['F1']} \\n\"\n",
        "                f\"recall: {algorithms_results[best_model_index]['Recall']} \\n\"\n",
        "                f\"Precision: {algorithms_results[best_model_index]['Precision']} \\n\"\n",
        "                f\"Mcc: {algorithms_results[best_model_index]['Mcc']} \\n\"\n",
        "                f\"Parameters: {algorithms_results[best_model_index]['HyperParameters']}\")\n",
        "\n",
        "\n",
        "    elif IsPytorch == True and IsTensor == False:\n",
        "        for i in range(70, max_feature):\n",
        "            feature_eliminated_df = FeatureEliminationMethod(df=df, X=X, y=y, n_features_to_select=i)\n",
        "            X_new, y_new = DFToXAndY(feature_eliminated_df)\n",
        "            test_accuracies, f1, recall, precision, mcc, auc_score = 0, 0, 0, 0, 0, 0\n",
        "            # Iterate over the k folds\n",
        "            for train_index, test_index in kf.split(feature_eliminated_df):\n",
        "                x_train, x_test = X_new.iloc[train_index], X_new.iloc[test_index]\n",
        "                y_train, y_test = y_new.iloc[train_index],y_new.iloc[test_index]\n",
        "\n",
        "                x_train, x_test, y_train, y_test = ConvertNumpyToTorch(x_train, x_test, y_train, y_test)\n",
        "\n",
        "                pytorch_model = PyTorchClassifier(x_train.shape[1], 256, len(y_train.unique()))\n",
        "\n",
        "                if optimizer_method == 'Adam':\n",
        "                    optimizer_fn = torch.optim.Adam(params = pytorch_model.parameters(), lr = lr)\n",
        "                elif optimizer_method == 'SGD':\n",
        "                    optimizer_fn = torch.optim.SGD(params = pytorch_model.parameters(), lr = lr)\n",
        "                else:\n",
        "                    print(\"You give a wrong optimizer name, pls try again. Accepted optimizer names = 'Adam' or 'SGD' \")\n",
        "                    return False\n",
        "\n",
        "                result = MLORDLAlgorithm(model = pytorch_model,\n",
        "                                    x_train = x_train.to(dtype=torch.float64), x_test = x_test.to(dtype=torch.float64), y_train = y_train.to(dtype=torch.float64), y_test = y_test.to(dtype=torch.float64),\n",
        "                                    loss_fn = loss_method,\n",
        "                                    accuracy_fn = accuracy_method,\n",
        "                                    optimizer = optimizer_fn,\n",
        "                                    feature_elimination_name = FeatureEliminationMethod.__name__,\n",
        "                                    scaler_name = scaling_method)\n",
        "                test_accuracies +=  result[\"Accuracy\"]\n",
        "                f1 += result[\"F1\"]\n",
        "                recall += result[\"Recall\"]\n",
        "                precision += result[\"Precision\"]\n",
        "                mcc += result[\"Mcc\"]\n",
        "                result[\"FeatureEliminationMethod\"] = FeatureEliminationMethod.__name__\n",
        "                SaveResults(result, txt_name=\"PyTorch\" + '_' + str(FeatureEliminationMethod.__name__) + '_' + str(scaling_method) + '_' + 'optimizer_method' + '_' + str(lr) + '_' + version_numer +\".txt\")\n",
        "                algorithms_results.append(result)\n",
        "            # Calculate means\n",
        "            mean_test_accuracy = test_accuracies / num_fold\n",
        "            mean_f1 = f1 / num_fold\n",
        "            mean_recall = recall / num_fold\n",
        "            mean_precision = precision / num_fold\n",
        "            mean_mcc = mcc / num_fold\n",
        "            print(f\"Mean Test Accuracy: {mean_test_accuracy:.4f} \\n Mean f1: {mean_f1} \\n Mean_recall: {mean_recall} \\n Mean_Precision: {mean_precision} \\n Mean_Mcc: {mean_mcc} \\n\")\n",
        "\n",
        "        best_model_index = FindBestModel(algorithms_results)\n",
        "        print(\"******************************************************************************\")\n",
        "        if(IsMultiClass == False):\n",
        "            print(f\"Best Accuracy: {algorithms_results[best_model_index]['Accuracy']:.4f} with:\\n\"\n",
        "                f\"f1: {algorithms_results[best_model_index]['F1']} \\n\"\n",
        "                f\"recall: {algorithms_results[best_model_index]['Recall']} \\n\"\n",
        "                f\"Precision: {algorithms_results[best_model_index]['Precision']} \\n\"\n",
        "                f\"Mcc: {algorithms_results[best_model_index]['Mcc']} \\n\"\n",
        "                f\"Parameters: {algorithms_results[best_model_index]['HyperParameters']}\")\n",
        "            DrawRocCurve(algorithms_results[best_model_index]['y_true'], algorithms_results[best_model_index]['y_predict_proba'])\n",
        "        else:\n",
        "            print(f\"Best Accuracy: {algorithms_results[best_model_index]['Accuracy']:.4f} with:\\n\"\n",
        "                f\"f1: {algorithms_results[best_model_index]['F1']} \\n\"\n",
        "                f\"recall: {algorithms_results[best_model_index]['Recall']} \\n\"\n",
        "                f\"Precision: {algorithms_results[best_model_index]['Precision']} \\n\"\n",
        "                f\"Mcc: {algorithms_results[best_model_index]['Mcc']} \\n\"\n",
        "                f\"Parameters: {algorithms_results[best_model_index]['HyperParameters']}\")\n",
        "\n",
        "    elif IsPytorch == False and IsTensor == True:\n",
        "        return True\n",
        "\n",
        "    else:\n",
        "        print(\"You can just set True IsPytorch or IsTensor at the same time, try again\")\n",
        "        return False"
      ]
    },
    {
      "cell_type": "markdown",
      "metadata": {},
      "source": [
        "### Run The Algorithms with V1 DataFrame (just null values hnadled)"
      ]
    },
    {
      "cell_type": "code",
      "execution_count": 380,
      "metadata": {
        "id": "spRsQrjqhl3Q",
        "outputId": "b5165c30-3067-493e-a6a9-f080827ea224"
      },
      "outputs": [
        {
          "name": "stdout",
          "output_type": "stream",
          "text": [
            "Best accuracy is = 0.6423895253682488, with criterion = entropy max_depth = 20 metrics and fetaure len = 70\n",
            "Best accuracy is = 0.6513911620294599, with criterion = gini max_depth = 10 metrics and fetaure len = 70\n",
            "Best accuracy is = 0.648936170212766, with criterion = gini max_depth = 15 metrics and fetaure len = 70\n",
            "Best accuracy is = 0.6560196560196561, with criterion = gini max_depth = 30 metrics and fetaure len = 70\n",
            "Best accuracy is = 0.628992628992629, with criterion = gini max_depth = 15 metrics and fetaure len = 70\n",
            " Mean Test Accuracy: 0.6455 \n",
            " Mean f1: 0.6099366209961553 \n",
            " Mean_recall: 0.6363785151019193 \n",
            " Mean_Precision: 0.6240403383921945 \n",
            " Mean_Mcc: 0.4396111529415304 \n",
            "\n",
            "Best accuracy is = 0.6448445171849427, with criterion = entropy max_depth = 35 metrics and fetaure len = 71\n",
            "Best accuracy is = 0.6497545008183306, with criterion = gini max_depth = 20 metrics and fetaure len = 71\n",
            "Best accuracy is = 0.6522094926350246, with criterion = gini max_depth = 15 metrics and fetaure len = 71\n",
            "Best accuracy is = 0.6560196560196561, with criterion = gini max_depth = 25 metrics and fetaure len = 71\n",
            "Best accuracy is = 0.6420966420966421, with criterion = gini max_depth = 20 metrics and fetaure len = 71\n",
            " Mean Test Accuracy: 0.6490 \n",
            " Mean f1: 0.6126875878435085 \n",
            " Mean_recall: 0.6375239098643354 \n",
            " Mean_Precision: 0.6251487768442342 \n",
            " Mean_Mcc: 0.4403253372568573 \n",
            "\n",
            "Best accuracy is = 0.6407528641571195, with criterion = gini max_depth = 30 metrics and fetaure len = 72\n",
            "Best accuracy is = 0.6456628477905073, with criterion = entropy max_depth = 15 metrics and fetaure len = 72\n",
            "Best accuracy is = 0.6530278232405892, with criterion = gini max_depth = 20 metrics and fetaure len = 72\n",
            "Best accuracy is = 0.6576576576576577, with criterion = gini max_depth = 20 metrics and fetaure len = 72\n",
            "Best accuracy is = 0.6273546273546273, with criterion = gini max_depth = 15 metrics and fetaure len = 72\n",
            " Mean Test Accuracy: 0.6449 \n",
            " Mean f1: 0.6060021879434068 \n",
            " Mean_recall: 0.6326131219748241 \n",
            " Mean_Precision: 0.6191979402764487 \n",
            " Mean_Mcc: 0.4332956663278734 \n",
            "\n",
            "******************************************************************************\n",
            "Best Accuracy: 0.6274 with:\n",
            "f1: 0.5876973656948071 \n",
            "recall: 0.6158886158886159 \n",
            "Precision: 0.6015481886344443 \n",
            "Mcc: 0.4061226976263748 \n",
            "Parameters: best_criterion: gini, max_depth:15 fetaure len = 72\n"
          ]
        }
      ],
      "source": [
        "RunThePredictAlgorithm(questionToMode_df, 73, 'min-max', RFEFeatureElimination, RandomForest, version_numer= 'V1', IsMultiClass = True)"
      ]
    },
    {
      "cell_type": "code",
      "execution_count": 368,
      "metadata": {
        "id": "vj0RsPK-WQAR",
        "outputId": "d7ca3678-3f44-4351-c6f6-b68d59941aaa"
      },
      "outputs": [
        {
          "name": "stdout",
          "output_type": "stream",
          "text": [
            "Best accuracy is = 0.588379705400982, with max_depth = 5\n",
            "Best accuracy is = 0.6031096563011457, with max_depth = 5\n",
            "Best accuracy is = 0.5818330605564648, with max_depth = 10\n",
            "Best accuracy is = 0.5659295659295659, with max_depth = 5\n",
            "Best accuracy is = 0.5626535626535627, with max_depth = 5\n",
            " Mean Test Accuracy: 0.5804 \n",
            " Mean f1: 0.5113420754879916 \n",
            " Mean_recall: 0.5108019639934532 \n",
            " Mean_Precision: 0.5135780130509927 \n",
            " Mean_Mcc: 0.2791369542826698 \n",
            "\n",
            "Best accuracy is = 0.588379705400982, with max_depth = 5\n",
            "Best accuracy is = 0.6031096563011457, with max_depth = 5\n",
            "Best accuracy is = 0.5761047463175123, with max_depth = 10\n",
            "Best accuracy is = 0.5659295659295659, with max_depth = 5\n",
            "Best accuracy is = 0.5626535626535627, with max_depth = 5\n",
            " Mean Test Accuracy: 0.5792 \n",
            " Mean f1: 0.517962538522777 \n",
            " Mean_recall: 0.5171895001682236 \n",
            " Mean_Precision: 0.5202875320016936 \n",
            " Mean_Mcc: 0.28935507725718274 \n",
            "\n",
            "Best accuracy is = 0.6072013093289689, with max_depth = 5\n",
            "Best accuracy is = 0.6063829787234043, with max_depth = 5\n",
            "Best accuracy is = 0.6153846153846154, with max_depth = 5\n",
            "Best accuracy is = 0.6036036036036037, with max_depth = 5\n",
            "Best accuracy is = 0.5978705978705978, with max_depth = 5\n",
            " Mean Test Accuracy: 0.6061 \n",
            " Mean f1: 0.5234527689316292 \n",
            " Mean_recall: 0.522099751886986 \n",
            " Mean_Precision: 0.5262019065236572 \n",
            " Mean_Mcc: 0.29555894335995847 \n",
            "\n",
            "******************************************************************************\n",
            "Best Accuracy: 0.5979 with:\n",
            "f1: 0.519756534234389 \n",
            "recall: 0.5143325143325144 \n",
            "Precision: 0.527634575506916 \n",
            "Mcc: 0.2915414228092084 \n",
            "Parameters: best_max_depth: 5\n"
          ]
        }
      ],
      "source": [
        "RunThePredictAlgorithm(questionToMode_df, 73, 'min-max', RFEFeatureElimination, DecisionTree, version_numer= 'V1', IsMultiClass = True)"
      ]
    },
    {
      "cell_type": "code",
      "execution_count": 397,
      "metadata": {
        "id": "Ws31btg_NVvJ"
      },
      "outputs": [
        {
          "name": "stdout",
          "output_type": "stream",
          "text": [
            "Best accuracy is = 0.5409165302782324, with 8 n_neighbors, cosine metrics and fetaure len = 70\n",
            "Best accuracy is = 0.5409165302782324, with 7 n_neighbors, cosine metrics and fetaure len = 70\n",
            "Best accuracy is = 0.5237315875613748, with 9 n_neighbors, cosine metrics and fetaure len = 70\n",
            "Best accuracy is = 0.5389025389025389, with 8 n_neighbors, cosine metrics and fetaure len = 70\n",
            "Best accuracy is = 0.552006552006552, with 9 n_neighbors, cosine metrics and fetaure len = 70\n",
            " Mean Test Accuracy: 0.5393 \n",
            " Mean f1: 0.37107677520778726 \n",
            " Mean_recall: 0.41666378474889115 \n",
            " Mean_Precision: 0.3673511478916618 \n",
            " Mean_Mcc: 0.04794971066209319 \n",
            "\n",
            "Best accuracy is = 0.544189852700491, with 8 n_neighbors, cosine metrics and fetaure len = 71\n",
            "Best accuracy is = 0.5409165302782324, with 9 n_neighbors, cosine metrics and fetaure len = 71\n",
            "Best accuracy is = 0.5261865793780688, with 9 n_neighbors, cosine metrics and fetaure len = 71\n",
            "Best accuracy is = 0.5356265356265356, with 8 n_neighbors, cosine metrics and fetaure len = 71\n",
            "Best accuracy is = 0.5536445536445537, with 9 n_neighbors, cosine metrics and fetaure len = 71\n",
            " Mean Test Accuracy: 0.5401 \n",
            " Mean f1: 0.37067666095079044 \n",
            " Mean_recall: 0.41617278638555233 \n",
            " Mean_Precision: 0.3665699397727143 \n",
            " Mean_Mcc: 0.047348378013901654 \n",
            "\n",
            "Best accuracy is = 0.5400981996726678, with 8 n_neighbors, cosine metrics and fetaure len = 72\n",
            "Best accuracy is = 0.5400981996726678, with 9 n_neighbors, cosine metrics and fetaure len = 72\n",
            "Best accuracy is = 0.5237315875613748, with 8 n_neighbors, cosine metrics and fetaure len = 72\n",
            "Best accuracy is = 0.5323505323505323, with 8 n_neighbors, cosine metrics and fetaure len = 72\n",
            "Best accuracy is = 0.5454545454545454, with 9 n_neighbors, cosine metrics and fetaure len = 72\n",
            " Mean Test Accuracy: 0.5363 \n",
            " Mean f1: 0.3701599097551925 \n",
            " Mean_recall: 0.4156819220649008 \n",
            " Mean_Precision: 0.36562236843220736 \n",
            " Mean_Mcc: 0.04650164021222276 \n",
            "\n",
            "******************************************************************************\n",
            "Best Accuracy: 0.5455 with:\n",
            "f1: 0.3889858152164886 \n",
            "recall: 0.42915642915642915 \n",
            "Precision: 0.3914105704491101 \n",
            "Mcc: 0.07524417507072301 \n",
            "Parameters: n_neighbor:9, metric:cosine, n_feature:72\n"
          ]
        }
      ],
      "source": [
        "RunThePredictAlgorithm(questionToMode_df, 73, 'min-max', RFEFeatureElimination, KNN, version_numer= 'V1', IsMultiClass = True)"
      ]
    },
    {
      "cell_type": "code",
      "execution_count": 378,
      "metadata": {
        "id": "f7ecTlkxZdmV"
      },
      "outputs": [
        {
          "name": "stdout",
          "output_type": "stream",
          "text": [
            "Best accuracy is = 0.4541734860883797, with function = rbf\n",
            "Best accuracy is = 0.47217675941080195, with function = rbf\n",
            "Best accuracy is = 0.4779050736497545, with function = rbf\n",
            "Best accuracy is = 0.4856674856674857, with function = rbf\n",
            "Best accuracy is = 0.4701064701064701, with function = rbf\n",
            " Mean Test Accuracy: 0.4720 \n",
            " Mean f1: 0.3155897169480865 \n",
            " Mean_recall: 0.38342294086974943 \n",
            " Mean_Precision: 0.32844551748577805 \n",
            " Mean_Mcc: 0.008189984227844435 \n",
            "\n",
            "Best accuracy is = 0.4541734860883797, with function = rbf\n",
            "Best accuracy is = 0.47217675941080195, with function = rbf\n",
            "Best accuracy is = 0.4779050736497545, with function = rbf\n",
            "Best accuracy is = 0.4856674856674857, with function = rbf\n",
            "Best accuracy is = 0.4701064701064701, with function = rbf\n",
            " Mean Test Accuracy: 0.4720 \n",
            " Mean f1: 0.3127891697269653 \n",
            " Mean_recall: 0.38654573335424397 \n",
            " Mean_Precision: 0.3409062975346829 \n",
            " Mean_Mcc: 0.011779799240695698 \n",
            "\n",
            "Best accuracy is = 0.4541734860883797, with function = rbf\n",
            "Best accuracy is = 0.47217675941080195, with function = rbf\n",
            "Best accuracy is = 0.4779050736497545, with function = rbf\n",
            "Best accuracy is = 0.4856674856674857, with function = rbf\n",
            "Best accuracy is = 0.4701064701064701, with function = rbf\n",
            " Mean Test Accuracy: 0.4720 \n",
            " Mean f1: 0.313055401054251 \n",
            " Mean_recall: 0.39800236183214904 \n",
            " Mean_Precision: 0.33576856945199574 \n",
            " Mean_Mcc: 0.011961548933299678 \n",
            "\n",
            "******************************************************************************\n",
            "Best Accuracy: 0.4701 with:\n",
            "f1: 0.30578670757082915 \n",
            "recall: 0.3931203931203931 \n",
            "Precision: 0.33424649888851604 \n",
            "Mcc: 0.0063454486741642765 \n",
            "Parameters: best_function: rbf\n"
          ]
        }
      ],
      "source": [
        "RunThePredictAlgorithm(questionToMode_df, 73, 'min-max', RFEFeatureElimination, NonlinearSVM, version_numer= 'V1', IsMultiClass = True)"
      ]
    },
    {
      "cell_type": "code",
      "execution_count": 386,
      "metadata": {
        "id": "2rbbBWrndTBr"
      },
      "outputs": [
        {
          "name": "stdout",
          "output_type": "stream",
          "text": [
            "Best accuracy is = 0.5801963993453355, with max_iter = 1000 best_penalty = l1 loss = squared_error  metrics and fetaure len = 70\n",
            "Best accuracy is = 0.5417348608837971, with max_iter = 1000 best_penalty = l1 loss = squared_error  metrics and fetaure len = 70\n",
            "Best accuracy is = 0.5204582651391162, with max_iter = 1000 best_penalty = elasticnet loss = squared_error  metrics and fetaure len = 70\n",
            "Best accuracy is = 0.5241605241605242, with max_iter = 1000 best_penalty = l1 loss = squared_error  metrics and fetaure len = 70\n",
            "Best accuracy is = 0.4873054873054873, with max_iter = 1000 best_penalty = l1 loss = squared_error  metrics and fetaure len = 70\n",
            " Mean Test Accuracy: 0.5308 \n",
            " Mean f1: 0.19140441645859718 \n",
            " Mean_recall: 0.30562965882114823 \n",
            " Mean_Precision: 0.4106575300024701 \n",
            " Mean_Mcc: 0.08425330511077242 \n",
            "\n",
            "Best accuracy is = 0.5270049099836334, with max_iter = 1000 best_penalty = l1 loss = squared_error  metrics and fetaure len = 71\n",
            "Best accuracy is = 0.4762684124386252, with max_iter = 1000 best_penalty = l2 loss = squared_error  metrics and fetaure len = 71\n",
            "Best accuracy is = 0.483633387888707, with max_iter = 1000 best_penalty = l2 loss = squared_error  metrics and fetaure len = 71\n",
            "Best accuracy is = 0.3013923013923014, with max_iter = 1000 best_penalty = l1 loss = squared_error  metrics and fetaure len = 71\n",
            "Best accuracy is = 0.3488943488943489, with max_iter = 1000 best_penalty = l2 loss = squared_error  metrics and fetaure len = 71\n",
            " Mean Test Accuracy: 0.4274 \n",
            " Mean f1: 0.24230303312499574 \n",
            " Mean_recall: 0.3516493282450729 \n",
            " Mean_Precision: 0.4644879541107687 \n",
            " Mean_Mcc: 0.12886183037891177 \n",
            "\n",
            "Best accuracy is = 0.5065466448445172, with max_iter = 1000 best_penalty = l1 loss = squared_error  metrics and fetaure len = 72\n",
            "Best accuracy is = 0.4787234042553192, with max_iter = 1000 best_penalty = l2 loss = squared_error  metrics and fetaure len = 72\n",
            "Best accuracy is = 0.4828150572831424, with max_iter = 1000 best_penalty = l2 loss = squared_error  metrics and fetaure len = 72\n",
            "Best accuracy is = 0.5184275184275184, with max_iter = 1000 best_penalty = l1 loss = squared_error  metrics and fetaure len = 72\n",
            "Best accuracy is = 0.542997542997543, with max_iter = 1000 best_penalty = elasticnet loss = squared_error  metrics and fetaure len = 72\n",
            " Mean Test Accuracy: 0.5059 \n",
            " Mean f1: 0.21227423126003903 \n",
            " Mean_recall: 0.32646806902126047 \n",
            " Mean_Precision: 0.4160322354011698 \n",
            " Mean_Mcc: 0.12622951048070855 \n",
            "\n",
            "******************************************************************************\n",
            "Best Accuracy: 0.5430 with:\n",
            "f1: 0.4130309368348257 \n",
            "recall: 0.542997542997543 \n",
            "Precision: 0.3332726686679511 \n",
            "Mcc: 0.30211619983325144 \n",
            "Parameters: best_max_iter: 1000, loss:squared_error, best_penalty = elasticnet\n"
          ]
        }
      ],
      "source": [
        "import warnings\n",
        "warnings.filterwarnings(\"ignore\", category=RuntimeWarning)\n",
        "RunThePredictAlgorithm(questionToMode_df, 73, 'min-max', RFEFeatureElimination, StockGradientDescent, version_numer= 'V1', IsMultiClass = True)"
      ]
    },
    {
      "cell_type": "code",
      "execution_count": 389,
      "metadata": {
        "id": "WBVboFt4h3T9"
      },
      "outputs": [
        {
          "name": "stdout",
          "output_type": "stream",
          "text": [
            "Best accuracy is = 0.4623567921440262, with alpha = 0.2\n",
            "Best accuracy is = 0.4787234042553192, with alpha = 0.3\n",
            "Best accuracy is = 0.4959083469721768, with alpha = 0.2\n",
            "Best accuracy is = 0.47665847665847666, with alpha = 0.2\n",
            "Best accuracy is = 0.49713349713349714, with alpha = 0.5\n",
            " Mean Test Accuracy: 0.4822 \n",
            " Mean f1: 0.488002793268139 \n",
            " Mean_recall: 0.4819924373115863 \n",
            " Mean_Precision: 0.503963904791569 \n",
            " Mean_Mcc: 0.2402535168780969 \n",
            "\n",
            "Best accuracy is = 0.4672667757774141, with alpha = 0.2\n",
            "Best accuracy is = 0.4959083469721768, with alpha = 0.5\n",
            "Best accuracy is = 0.502454991816694, with alpha = 0.2\n",
            "Best accuracy is = 0.4995904995904996, with alpha = 0.5\n",
            "Best accuracy is = 0.5102375102375102, with alpha = 0.5\n",
            " Mean Test Accuracy: 0.4951 \n",
            " Mean f1: 0.5025392755930657 \n",
            " Mean_recall: 0.4949279587577459 \n",
            " Mean_Precision: 0.5190446265171713 \n",
            " Mean_Mcc: 0.2623045265488101 \n",
            "\n",
            "Best accuracy is = 0.47299509001636664, with alpha = 0.2\n",
            "Best accuracy is = 0.49754500818330605, with alpha = 0.5\n",
            "Best accuracy is = 0.5065466448445172, with alpha = 0.2\n",
            "Best accuracy is = 0.4995904995904996, with alpha = 0.2\n",
            "Best accuracy is = 0.5077805077805078, with alpha = 0.2\n",
            " Mean Test Accuracy: 0.4969 \n",
            " Mean f1: 0.5040907764806496 \n",
            " Mean_recall: 0.4967278839619265 \n",
            " Mean_Precision: 0.5187650697197147 \n",
            " Mean_Mcc: 0.26597592122261643 \n",
            "\n",
            "******************************************************************************\n",
            "Best Accuracy: 0.5078 with:\n",
            "f1: 0.5153443048394604 \n",
            "recall: 0.5077805077805078 \n",
            "Precision: 0.529856942272139 \n",
            "Mcc: 0.28319253824706375 \n",
            "Parameters: best_alpha: 0.2\n"
          ]
        }
      ],
      "source": [
        "RunThePredictAlgorithm(questionToMode_df, 73, 'min-max', RFEFeatureElimination, MultinomialNaiveBayes, version_numer= 'V1', IsMultiClass = True)"
      ]
    },
    {
      "cell_type": "code",
      "execution_count": 392,
      "metadata": {
        "id": "KhdrIdHlmO0E"
      },
      "outputs": [
        {
          "name": "stdout",
          "output_type": "stream",
          "text": [
            "Best accuracy is = 0.6268412438625205, with max_depth = 3\n",
            "Best accuracy is = 0.6317512274959084, with max_depth = 3\n",
            "Best accuracy is = 0.602291325695581, with max_depth = 1\n",
            "Best accuracy is = 0.6167076167076168, with max_depth = 3\n",
            "Best accuracy is = 0.597051597051597, with max_depth = 3\n",
            " Mean Test Accuracy: 0.6149 \n",
            " Mean f1: 0.5807870720733165 \n",
            " Mean_recall: 0.5893914596042256 \n",
            " Mean_Precision: 0.5775891471730394 \n",
            " Mean_Mcc: 0.3787393355082071 \n",
            "\n",
            "Best accuracy is = 0.5965630114566285, with max_depth = 3\n",
            "Best accuracy is = 0.6382978723404256, with max_depth = 3\n",
            "Best accuracy is = 0.5990180032733224, with max_depth = 5\n",
            "Best accuracy is = 0.6150696150696151, with max_depth = 3\n",
            "Best accuracy is = 0.6011466011466011, with max_depth = 5\n",
            " Mean Test Accuracy: 0.6100 \n",
            " Mean f1: 0.5890241083829705 \n",
            " Mean_recall: 0.5970875204917758 \n",
            " Mean_Precision: 0.5858760415277889 \n",
            " Mean_Mcc: 0.3909760277675753 \n",
            "\n",
            "Best accuracy is = 0.5965630114566285, with max_depth = 3\n",
            "Best accuracy is = 0.6358428805237316, with max_depth = 3\n",
            "Best accuracy is = 0.5932896890343698, with max_depth = 5\n",
            "Best accuracy is = 0.6150696150696151, with max_depth = 3\n",
            "Best accuracy is = 0.5872235872235873, with max_depth = 5\n",
            " Mean Test Accuracy: 0.6056 \n",
            " Mean f1: 0.5853618463160954 \n",
            " Mean_recall: 0.5928297885744696 \n",
            " Mean_Precision: 0.5825061841063001 \n",
            " Mean_Mcc: 0.38562999932976727 \n",
            "\n",
            "******************************************************************************\n",
            "Best Accuracy: 0.5872 with:\n",
            "f1: 0.5787149401331015 \n",
            "recall: 0.5872235872235873 \n",
            "Precision: 0.5753953663127439 \n",
            "Mcc: 0.37746228401820525 \n",
            "Parameters: best_max_depth: 5\n"
          ]
        }
      ],
      "source": [
        "RunThePredictAlgorithm(questionToMode_df, 73, 'min-max', RFEFeatureElimination, AdaBoost, version_numer= 'V1', IsMultiClass = True)"
      ]
    },
    {
      "cell_type": "code",
      "execution_count": 396,
      "metadata": {
        "id": "xVQ36rnmNVvK"
      },
      "outputs": [
        {
          "name": "stdout",
          "output_type": "stream",
          "text": [
            "Best accuracy is = 0.644026186579378, with best_n_estimators = 200 learning_rate = 0.1 criterion = squared_error best_depth = 1 metrics and fetaure len = 70\n",
            "Best accuracy is = 0.6374795417348609, with best_n_estimators = 125 learning_rate = 0.1 criterion = squared_error best_depth = 1 metrics and fetaure len = 70\n",
            "Best accuracy is = 0.6432078559738135, with best_n_estimators = 200 learning_rate = 0.1 criterion = squared_error best_depth = 1 metrics and fetaure len = 70\n",
            "Best accuracy is = 0.6339066339066339, with best_n_estimators = 175 learning_rate = 0.1 criterion = squared_error best_depth = 1 metrics and fetaure len = 70\n",
            "Best accuracy is = 0.6216216216216216, with best_n_estimators = 200 learning_rate = 0.1 criterion = squared_error best_depth = 1 metrics and fetaure len = 70\n",
            " Mean Test Accuracy: 0.6360 \n",
            " Mean f1: 0.6181476983527198 \n",
            " Mean_recall: 0.6357210357210357 \n",
            " Mean_Precision: 0.6242256143353286 \n",
            " Mean_Mcc: 0.43938102232122456 \n",
            "\n",
            "Best accuracy is = 0.644026186579378, with best_n_estimators = 200 learning_rate = 0.1 criterion = squared_error best_depth = 1 metrics and fetaure len = 71\n",
            "Best accuracy is = 0.6374795417348609, with best_n_estimators = 125 learning_rate = 0.1 criterion = squared_error best_depth = 1 metrics and fetaure len = 71\n",
            "Best accuracy is = 0.644026186579378, with best_n_estimators = 200 learning_rate = 0.1 criterion = squared_error best_depth = 1 metrics and fetaure len = 71\n",
            "Best accuracy is = 0.6339066339066339, with best_n_estimators = 175 learning_rate = 0.1 criterion = squared_error best_depth = 1 metrics and fetaure len = 71\n",
            "Best accuracy is = 0.6216216216216216, with best_n_estimators = 200 learning_rate = 0.1 criterion = squared_error best_depth = 1 metrics and fetaure len = 71\n",
            " Mean Test Accuracy: 0.6362 \n",
            " Mean f1: 0.6181545799128407 \n",
            " Mean_recall: 0.6357209016783485 \n",
            " Mean_Precision: 0.6242455275238418 \n",
            " Mean_Mcc: 0.43937058941577395 \n",
            "\n",
            "Best accuracy is = 0.644026186579378, with best_n_estimators = 200 learning_rate = 0.1 criterion = squared_error best_depth = 1 metrics and fetaure len = 72\n",
            "Best accuracy is = 0.6374795417348609, with best_n_estimators = 125 learning_rate = 0.1 criterion = squared_error best_depth = 1 metrics and fetaure len = 72\n",
            "Best accuracy is = 0.6448445171849427, with best_n_estimators = 200 learning_rate = 0.1 criterion = squared_error best_depth = 1 metrics and fetaure len = 72\n",
            "Best accuracy is = 0.633087633087633, with best_n_estimators = 200 learning_rate = 0.1 criterion = squared_error best_depth = 1 metrics and fetaure len = 72\n",
            "Best accuracy is = 0.6208026208026208, with best_n_estimators = 200 learning_rate = 0.1 criterion = squared_error best_depth = 1 metrics and fetaure len = 72\n",
            " Mean Test Accuracy: 0.6360 \n",
            " Mean f1: 0.6185050410293025 \n",
            " Mean_recall: 0.6358844337567742 \n",
            " Mean_Precision: 0.6248625633736286 \n",
            " Mean_Mcc: 0.43962525504102673 \n",
            "\n",
            "******************************************************************************\n",
            "Best Accuracy: 0.6208 with:\n",
            "f1: 0.6018154817943008 \n",
            "recall: 0.6208026208026208 \n",
            "Precision: 0.6066204725316553 \n",
            "Mcc: 0.41670946873532017 \n",
            "Parameters: best_n_estimators: 200, loss:deviance, learning_rate = 0.1, depth = 1  criterion = squared_error\n"
          ]
        }
      ],
      "source": [
        "RunThePredictAlgorithm(questionToMode_df, 73, 'min-max', RFEFeatureElimination, GradientBoosting, version_numer= 'V1', IsMultiClass = True)"
      ]
    },
    {
      "cell_type": "code",
      "execution_count": 440,
      "metadata": {},
      "outputs": [
        {
          "name": "stdout",
          "output_type": "stream",
          "text": [
            "Accuracy with Logistic Regression: 0.5981996726677578\n",
            "Accuracy with Logistic Regression: 0.5826513911620295\n",
            "Accuracy with Logistic Regression: 0.5769230769230769\n",
            "Accuracy with Logistic Regression: 0.6036036036036037\n",
            "Accuracy with Logistic Regression: 0.5814905814905815\n",
            " Mean Test Accuracy: 0.5886 \n",
            " Mean f1: 0.5570015284221784 \n",
            " Mean_recall: 0.5885736651694099 \n",
            " Mean_Precision: 0.5787248396556249 \n",
            " Mean_Mcc: 0.360067264975281 \n",
            "\n",
            "Accuracy with Logistic Regression: 0.5965630114566285\n",
            "Accuracy with Logistic Regression: 0.5859247135842881\n",
            "Accuracy with Logistic Regression: 0.5867430441898527\n",
            "Accuracy with Logistic Regression: 0.6044226044226044\n",
            "Accuracy with Logistic Regression: 0.5864045864045864\n",
            " Mean Test Accuracy: 0.5920 \n",
            " Mean f1: 0.5623408089695057 \n",
            " Mean_recall: 0.592011592011592 \n",
            " Mean_Precision: 0.5863051005721533 \n",
            " Mean_Mcc: 0.36571065337737113 \n",
            "\n",
            "Accuracy with Logistic Regression: 0.5957446808510638\n",
            "Accuracy with Logistic Regression: 0.5842880523731587\n",
            "Accuracy with Logistic Regression: 0.5826513911620295\n",
            "Accuracy with Logistic Regression: 0.6036036036036037\n",
            "Accuracy with Logistic Regression: 0.5855855855855856\n",
            " Mean Test Accuracy: 0.5904 \n",
            " Mean f1: 0.5601374864230666 \n",
            " Mean_recall: 0.5903746627150882 \n",
            " Mean_Precision: 0.5825056881334317 \n",
            " Mean_Mcc: 0.3630085436831244 \n",
            "\n",
            "******************************************************************************\n",
            "Best Accuracy: 0.5856 with:\n",
            "f1: 0.5512717072659228 \n",
            "recall: 0.5855855855855856 \n",
            "Precision: 0.5784474241563604 \n",
            "Mcc: 0.35662865542097066 \n",
            "Parameters: Not Trying HyperParameters\n"
          ]
        }
      ],
      "source": [
        "RunThePredictAlgorithm(questionToMode_df, 73, 'min-max', RFEFeatureElimination, LogisticRegressionClassifier, version_numer= 'V1', IsMultiClass = True)"
      ]
    },
    {
      "cell_type": "code",
      "execution_count": 398,
      "metadata": {},
      "outputs": [
        {
          "name": "stdout",
          "output_type": "stream",
          "text": [
            "Model: PyTorch Best Epoch: 0 | Best Loss: 1.29184 | Best Acc: 45.34%  with RFEFeatureElimination, min-max,CrossEntropyLoss, len = 70 and Adam, lr = 0.001\n",
            "Model: PyTorch Best Epoch: 1 | Best Loss: 1.28932 | Best Acc: 45.42%  with RFEFeatureElimination, min-max,CrossEntropyLoss, len = 70 and Adam, lr = 0.001\n",
            "Model: PyTorch Best Epoch: 131 | Best Loss: 1.28968 | Best Acc: 45.50%  with RFEFeatureElimination, min-max,CrossEntropyLoss, len = 70 and Adam, lr = 0.001\n",
            "Model: PyTorch Best Epoch: 134 | Best Loss: 1.28805 | Best Acc: 45.58%  with RFEFeatureElimination, min-max,CrossEntropyLoss, len = 70 and Adam, lr = 0.001\n",
            "Model: PyTorch Best Epoch: 135 | Best Loss: 1.28481 | Best Acc: 45.83%  with RFEFeatureElimination, min-max,CrossEntropyLoss, len = 70 and Adam, lr = 0.001\n",
            "END OF ITERATION WITH FEATURES LEN = 70\n",
            "Model: PyTorch Best Epoch: 0 | Best Loss: 1.27608 | Best Acc: 47.22%  with RFEFeatureElimination, min-max,CrossEntropyLoss, len = 70 and Adam, lr = 0.001\n",
            "Model: PyTorch Best Epoch: 1 | Best Loss: 1.27156 | Best Acc: 47.30%  with RFEFeatureElimination, min-max,CrossEntropyLoss, len = 70 and Adam, lr = 0.001\n",
            "END OF ITERATION WITH FEATURES LEN = 70\n",
            "Model: PyTorch Best Epoch: 0 | Best Loss: 1.60646 | Best Acc: 13.26%  with RFEFeatureElimination, min-max,CrossEntropyLoss, len = 70 and Adam, lr = 0.001\n",
            "Model: PyTorch Best Epoch: 2 | Best Loss: 1.60732 | Best Acc: 13.34%  with RFEFeatureElimination, min-max,CrossEntropyLoss, len = 70 and Adam, lr = 0.001\n",
            "Model: PyTorch Best Epoch: 3 | Best Loss: 1.60720 | Best Acc: 13.50%  with RFEFeatureElimination, min-max,CrossEntropyLoss, len = 70 and Adam, lr = 0.001\n",
            "Model: PyTorch Best Epoch: 6 | Best Loss: 1.60473 | Best Acc: 13.83%  with RFEFeatureElimination, min-max,CrossEntropyLoss, len = 70 and Adam, lr = 0.001\n",
            "Model: PyTorch Best Epoch: 7 | Best Loss: 1.60173 | Best Acc: 14.08%  with RFEFeatureElimination, min-max,CrossEntropyLoss, len = 70 and Adam, lr = 0.001\n",
            "Model: PyTorch Best Epoch: 8 | Best Loss: 1.58933 | Best Acc: 14.98%  with RFEFeatureElimination, min-max,CrossEntropyLoss, len = 70 and Adam, lr = 0.001\n",
            "Model: PyTorch Best Epoch: 9 | Best Loss: 1.27076 | Best Acc: 47.79%  with RFEFeatureElimination, min-max,CrossEntropyLoss, len = 70 and Adam, lr = 0.001\n",
            "END OF ITERATION WITH FEATURES LEN = 70\n",
            "Model: PyTorch Best Epoch: 0 | Best Loss: 1.47340 | Best Acc: 25.72%  with RFEFeatureElimination, min-max,CrossEntropyLoss, len = 70 and Adam, lr = 0.001\n",
            "Model: PyTorch Best Epoch: 1 | Best Loss: 1.47148 | Best Acc: 26.04%  with RFEFeatureElimination, min-max,CrossEntropyLoss, len = 70 and Adam, lr = 0.001\n",
            "Model: PyTorch Best Epoch: 2 | Best Loss: 1.46008 | Best Acc: 26.37%  with RFEFeatureElimination, min-max,CrossEntropyLoss, len = 70 and Adam, lr = 0.001\n",
            "Model: PyTorch Best Epoch: 3 | Best Loss: 1.26669 | Best Acc: 48.57%  with RFEFeatureElimination, min-max,CrossEntropyLoss, len = 70 and Adam, lr = 0.001\n",
            "END OF ITERATION WITH FEATURES LEN = 70\n",
            "Model: PyTorch Best Epoch: 0 | Best Loss: 1.48272 | Best Acc: 25.06%  with RFEFeatureElimination, min-max,CrossEntropyLoss, len = 70 and Adam, lr = 0.001\n",
            "Model: PyTorch Best Epoch: 1 | Best Loss: 1.28070 | Best Acc: 47.01%  with RFEFeatureElimination, min-max,CrossEntropyLoss, len = 70 and Adam, lr = 0.001\n",
            "Model: PyTorch Best Epoch: 68 | Best Loss: 1.27449 | Best Acc: 47.09%  with RFEFeatureElimination, min-max,CrossEntropyLoss, len = 70 and Adam, lr = 0.001\n",
            "Model: PyTorch Best Epoch: 170 | Best Loss: 1.27178 | Best Acc: 47.26%  with RFEFeatureElimination, min-max,CrossEntropyLoss, len = 70 and Adam, lr = 0.001\n",
            "END OF ITERATION WITH FEATURES LEN = 70\n",
            "Mean Test Accuracy: 47.3479 \n",
            " Mean f1: 0.30305792879425775 \n",
            " Mean_recall: 0.47200598902726565 \n",
            " Mean_Precision: 0.2517223296530849 \n",
            " Mean_Mcc: 0.003306762815965486 \n",
            "\n",
            "Model: PyTorch Best Epoch: 0 | Best Loss: 1.28789 | Best Acc: 45.42%  with RFEFeatureElimination, min-max,CrossEntropyLoss, len = 71 and Adam, lr = 0.001\n",
            "Model: PyTorch Best Epoch: 93 | Best Loss: 1.28774 | Best Acc: 45.66%  with RFEFeatureElimination, min-max,CrossEntropyLoss, len = 71 and Adam, lr = 0.001\n",
            "Model: PyTorch Best Epoch: 94 | Best Loss: 1.28290 | Best Acc: 45.74%  with RFEFeatureElimination, min-max,CrossEntropyLoss, len = 71 and Adam, lr = 0.001\n",
            "Model: PyTorch Best Epoch: 95 | Best Loss: 1.27886 | Best Acc: 46.48%  with RFEFeatureElimination, min-max,CrossEntropyLoss, len = 71 and Adam, lr = 0.001\n",
            "END OF ITERATION WITH FEATURES LEN = 71\n",
            "Model: PyTorch Best Epoch: 0 | Best Loss: 1.27129 | Best Acc: 47.22%  with RFEFeatureElimination, min-max,CrossEntropyLoss, len = 71 and Adam, lr = 0.001\n",
            "END OF ITERATION WITH FEATURES LEN = 71\n",
            "Model: PyTorch Best Epoch: 0 | Best Loss: 1.48469 | Best Acc: 24.55%  with RFEFeatureElimination, min-max,CrossEntropyLoss, len = 71 and Adam, lr = 0.001\n",
            "Model: PyTorch Best Epoch: 3 | Best Loss: 1.27314 | Best Acc: 47.79%  with RFEFeatureElimination, min-max,CrossEntropyLoss, len = 71 and Adam, lr = 0.001\n",
            "END OF ITERATION WITH FEATURES LEN = 71\n",
            "Model: PyTorch Best Epoch: 0 | Best Loss: 1.25978 | Best Acc: 48.57%  with RFEFeatureElimination, min-max,CrossEntropyLoss, len = 71 and Adam, lr = 0.001\n",
            "END OF ITERATION WITH FEATURES LEN = 71\n",
            "Model: PyTorch Best Epoch: 0 | Best Loss: 1.27584 | Best Acc: 47.01%  with RFEFeatureElimination, min-max,CrossEntropyLoss, len = 71 and Adam, lr = 0.001\n",
            "END OF ITERATION WITH FEATURES LEN = 71\n",
            "Mean Test Accuracy: 47.4134 \n",
            " Mean f1: 0.3026611266679683 \n",
            " Mean_recall: 0.4716785227423525 \n",
            " Mean_Precision: 0.22285373934744088 \n",
            " Mean_Mcc: -0.0033789954284492744 \n",
            "\n",
            "Model: PyTorch Best Epoch: 0 | Best Loss: 1.28991 | Best Acc: 45.42%  with RFEFeatureElimination, min-max,CrossEntropyLoss, len = 72 and Adam, lr = 0.001\n",
            "Model: PyTorch Best Epoch: 83 | Best Loss: 1.28958 | Best Acc: 45.50%  with RFEFeatureElimination, min-max,CrossEntropyLoss, len = 72 and Adam, lr = 0.001\n",
            "Model: PyTorch Best Epoch: 84 | Best Loss: 1.28911 | Best Acc: 45.58%  with RFEFeatureElimination, min-max,CrossEntropyLoss, len = 72 and Adam, lr = 0.001\n",
            "Model: PyTorch Best Epoch: 87 | Best Loss: 1.28544 | Best Acc: 45.74%  with RFEFeatureElimination, min-max,CrossEntropyLoss, len = 72 and Adam, lr = 0.001\n",
            "Model: PyTorch Best Epoch: 89 | Best Loss: 1.28473 | Best Acc: 45.91%  with RFEFeatureElimination, min-max,CrossEntropyLoss, len = 72 and Adam, lr = 0.001\n",
            "Model: PyTorch Best Epoch: 107 | Best Loss: 1.28091 | Best Acc: 46.07%  with RFEFeatureElimination, min-max,CrossEntropyLoss, len = 72 and Adam, lr = 0.001\n",
            "END OF ITERATION WITH FEATURES LEN = 72\n",
            "Model: PyTorch Best Epoch: 0 | Best Loss: 1.29002 | Best Acc: 47.30%  with RFEFeatureElimination, min-max,CrossEntropyLoss, len = 72 and Adam, lr = 0.001\n",
            "END OF ITERATION WITH FEATURES LEN = 72\n",
            "Model: PyTorch Best Epoch: 0 | Best Loss: 1.27293 | Best Acc: 47.79%  with RFEFeatureElimination, min-max,CrossEntropyLoss, len = 72 and Adam, lr = 0.001\n",
            "Model: PyTorch Best Epoch: 117 | Best Loss: 1.26553 | Best Acc: 47.87%  with RFEFeatureElimination, min-max,CrossEntropyLoss, len = 72 and Adam, lr = 0.001\n",
            "END OF ITERATION WITH FEATURES LEN = 72\n",
            "Model: PyTorch Best Epoch: 0 | Best Loss: 1.26312 | Best Acc: 48.57%  with RFEFeatureElimination, min-max,CrossEntropyLoss, len = 72 and Adam, lr = 0.001\n",
            "END OF ITERATION WITH FEATURES LEN = 72\n",
            "Model: PyTorch Best Epoch: 0 | Best Loss: 1.54826 | Best Acc: 14.82%  with RFEFeatureElimination, min-max,CrossEntropyLoss, len = 72 and Adam, lr = 0.001\n",
            "Model: PyTorch Best Epoch: 1 | Best Loss: 1.27512 | Best Acc: 47.01%  with RFEFeatureElimination, min-max,CrossEntropyLoss, len = 72 and Adam, lr = 0.001\n",
            "END OF ITERATION WITH FEATURES LEN = 72\n",
            "Mean Test Accuracy: 47.3643 \n",
            " Mean f1: 0.3026986610748662 \n",
            " Mean_recall: 0.4718421888634655 \n",
            " Mean_Precision: 0.22285727130077476 \n",
            " Mean_Mcc: -0.0033021431416310697 \n",
            "\n",
            "******************************************************************************\n",
            "Best Accuracy: 47.0106 with:\n",
            "f1: 0.3006586226641937 \n",
            "recall: 0.4701064701064701 \n",
            "Precision: 0.22100009323596548 \n",
            "Mcc: 0.0 \n",
            "Parameters: Model: PyTorch Best Epoch: 1 | Best Loss: 1.27512 | Best Acc: 47.01%  with RFEFeatureElimination, min-max,CrossEntropyLoss, len = 72 and Adam, lr = 0.001\n"
          ]
        }
      ],
      "source": [
        "RunThePredictAlgorithm(questionToMode_df, 73, 'min-max', RFEFeatureElimination, PyTorch_TrainTest_Step,\n",
        "                       True, accuracy_method= accuracy_fn, loss_method=nn.CrossEntropyLoss(), optimizer_method='Adam', lr = 0.001, version_numer='V1', IsMultiClass = True)"
      ]
    },
    {
      "cell_type": "markdown",
      "metadata": {
        "id": "HqE9bF6OG_ai"
      },
      "source": [
        "### Combine Target Values Method"
      ]
    },
    {
      "cell_type": "code",
      "execution_count": 399,
      "metadata": {
        "id": "u_J6BdZIG_qC"
      },
      "outputs": [],
      "source": [
        "from sklearn.neighbors import KNeighborsClassifier\n",
        "import pandas as pd\n",
        "\n",
        "def CombineTargets(X, y):\n",
        "    count = 0\n",
        "    knn = KNeighborsClassifier(n_neighbors=75)\n",
        "    knn.fit(X, y)\n",
        "\n",
        "    y_pred = knn.predict(X)\n",
        "    y_copy = y.copy()\n",
        "    drop_indices = []\n",
        "    for i in range(len(y_copy)):\n",
        "        if y_copy.iloc[i, 0] in [2, 3]:\n",
        "            # Find the indices of the 5 nearest neighbors\n",
        "            indices = knn.kneighbors([X.iloc[i, :]], 75, return_distance=False)[0]\n",
        "            if(pd.Series(y_pred[indices]).mode().iloc[0] in [2,3]):\n",
        "                drop_indices.append(i)\n",
        "                count += 1\n",
        "            else:\n",
        "                # Replace the value with the majority class among neighbors\n",
        "                majority_class = pd.Series(y_pred[indices]).mode().iloc[0]\n",
        "                y_copy.iloc[i, 0] = majority_class\n",
        "    print(f\"Will Dropped {count}s sample from 2 and 3 because, most of sample in the 2 and 3 class most similar samples equals to the class 0 and 1, so we convert 2 and 3 to 0 and 1\")\n",
        "    return y_copy, drop_indices"
      ]
    },
    {
      "cell_type": "markdown",
      "metadata": {
        "id": "vPdQhniHhl3R"
      },
      "source": [
        "### Fix The Imbalance Data"
      ]
    },
    {
      "cell_type": "code",
      "execution_count": 400,
      "metadata": {},
      "outputs": [
        {
          "name": "stdout",
          "output_type": "stream",
          "text": [
            "Lenght of 0's 2883\n",
            "Lenght of 1's 2883\n",
            "Lenght of 2's 2883\n",
            "Lenght of 3's 2883\n"
          ]
        }
      ],
      "source": [
        "from imblearn.over_sampling import SMOTEN\n",
        "warnings.filterwarnings(\"ignore\", category=UserWarning, module=\"sklearn\")\n",
        "\n",
        "def XAndYToDF(X, y):\n",
        "    df = pd.concat([X, y], axis = 1)\n",
        "    return df\n",
        "\n",
        "def OverSampling(X, y, random_state=None, k_neighbors=5):\n",
        "    oversample = SMOTEN(random_state=random_state, k_neighbors=k_neighbors)\n",
        "    X_oversampled, y_oversampled = oversample.fit_resample(X, y)\n",
        "    return X_oversampled, y_oversampled\n",
        "\n",
        "X, y = DFToXAndY(questionToMode_df)\n",
        "X_oversampled, y_oversampled = OverSampling(X, y, random_state=42, k_neighbors=5)\n",
        "oversampling_df = XAndYToDF(X_oversampled, y_oversampled)\n",
        "PrintTheTargetColumnsRange(oversampling_df)"
      ]
    },
    {
      "cell_type": "markdown",
      "metadata": {},
      "source": [
        "### Run The Algorithms with V2 DataFrame (Null values handled and oversampling added to the dataframe)"
      ]
    },
    {
      "cell_type": "code",
      "execution_count": 401,
      "metadata": {},
      "outputs": [
        {
          "name": "stdout",
          "output_type": "stream",
          "text": [
            "Best accuracy is = 0.8075422626788037, with criterion = gini max_depth = 30 metrics and fetaure len = 70\n",
            "Best accuracy is = 0.8075422626788037, with criterion = gini max_depth = 35 metrics and fetaure len = 70\n",
            "Best accuracy is = 0.8104943625325238, with criterion = gini max_depth = 35 metrics and fetaure len = 70\n",
            "Best accuracy is = 0.800520381613183, with criterion = gini max_depth = 30 metrics and fetaure len = 70\n",
            "Best accuracy is = 0.810928013876843, with criterion = entropy max_depth = 30 metrics and fetaure len = 70\n",
            " Mean Test Accuracy: 0.8074 \n",
            " Mean f1: 0.8016872245130164 \n",
            " Mean_recall: 0.8006419994804455 \n",
            " Mean_Precision: 0.8038730199467828 \n",
            " Mean_Mcc: 0.7344543841496115 \n",
            "\n",
            "Best accuracy is = 0.8027741655830082, with criterion = gini max_depth = 25 metrics and fetaure len = 71\n",
            "Best accuracy is = 0.8058084091894235, with criterion = gini max_depth = 45 metrics and fetaure len = 71\n",
            "Best accuracy is = 0.8078924544666088, with criterion = gini max_depth = 45 metrics and fetaure len = 71\n",
            "Best accuracy is = 0.8044232437120555, with criterion = gini max_depth = 35 metrics and fetaure len = 71\n",
            "Best accuracy is = 0.810928013876843, with criterion = gini max_depth = 30 metrics and fetaure len = 71\n",
            " Mean Test Accuracy: 0.8064 \n",
            " Mean f1: 0.801873311888072 \n",
            " Mean_recall: 0.8008156103957524 \n",
            " Mean_Precision: 0.8041323380042946 \n",
            " Mean_Mcc: 0.7347242874828288 \n",
            "\n",
            "Best accuracy is = 0.8053749458170785, with criterion = entropy max_depth = 30 metrics and fetaure len = 72\n",
            "Best accuracy is = 0.8079757260511486, with criterion = gini max_depth = 45 metrics and fetaure len = 72\n",
            "Best accuracy is = 0.808326105810928, with criterion = gini max_depth = 35 metrics and fetaure len = 72\n",
            "Best accuracy is = 0.7996530789245446, with criterion = gini max_depth = 30 metrics and fetaure len = 72\n",
            "Best accuracy is = 0.8100607111882047, with criterion = entropy max_depth = 30 metrics and fetaure len = 72\n",
            " Mean Test Accuracy: 0.8063 \n",
            " Mean f1: 0.8008588316227648 \n",
            " Mean_recall: 0.799688229683707 \n",
            " Mean_Precision: 0.8033440319167224 \n",
            " Mean_Mcc: 0.7332635835674262 \n",
            "\n",
            "******************************************************************************\n",
            "Best Accuracy: 0.8101 with:\n",
            "f1: 0.8009395383275257 \n",
            "recall: 0.7996530789245446 \n",
            "Precision: 0.8027835251740314 \n",
            "Mcc: 0.7330061314207951 \n",
            "Parameters: best_criterion: entropy, max_depth:30 fetaure len = 72\n"
          ]
        }
      ],
      "source": [
        "RunThePredictAlgorithm(oversampling_df, 73, 'min-max', RFEFeatureElimination, RandomForest, version_numer= 'V2', IsMultiClass = True)"
      ]
    },
    {
      "cell_type": "code",
      "execution_count": 402,
      "metadata": {},
      "outputs": [
        {
          "name": "stdout",
          "output_type": "stream",
          "text": [
            "Best accuracy is = 0.706111833550065, with max_depth = 17\n",
            "Best accuracy is = 0.7091460771564803, with max_depth = 17\n",
            "Best accuracy is = 0.7103209019947961, with max_depth = 17\n",
            "Best accuracy is = 0.694275802254987, with max_depth = 17\n",
            "Best accuracy is = 0.696877710320902, with max_depth = 17\n",
            " Mean Test Accuracy: 0.7033 \n",
            " Mean f1: 0.7013453177083824 \n",
            " Mean_recall: 0.7033464650554461 \n",
            " Mean_Precision: 0.7010230921379952 \n",
            " Mean_Mcc: 0.6049314060443696 \n",
            "\n",
            "Best accuracy is = 0.7087126137841352, with max_depth = 17\n",
            "Best accuracy is = 0.7043779800606849, with max_depth = 17\n",
            "Best accuracy is = 0.7059843885516045, with max_depth = 17\n",
            "Best accuracy is = 0.6925411968777103, with max_depth = 17\n",
            "Best accuracy is = 0.6999132697311362, with max_depth = 17\n",
            " Mean Test Accuracy: 0.7023 \n",
            " Mean f1: 0.7001425662383071 \n",
            " Mean_recall: 0.7023058898010542 \n",
            " Mean_Precision: 0.6997492200584965 \n",
            " Mean_Mcc: 0.6035313918583947 \n",
            "\n",
            "Best accuracy is = 0.7065452969224101, with max_depth = 17\n",
            "Best accuracy is = 0.706111833550065, with max_depth = 17\n",
            "Best accuracy is = 0.6999132697311362, with max_depth = 17\n",
            "Best accuracy is = 0.6873373807458804, with max_depth = 17\n",
            "Best accuracy is = 0.7055507372072853, with max_depth = 17\n",
            " Mean Test Accuracy: 0.7011 \n",
            " Mean f1: 0.6987471458050086 \n",
            " Mean_recall: 0.7010917036313554 \n",
            " Mean_Precision: 0.6984094322083634 \n",
            " Mean_Mcc: 0.6019711866266343 \n",
            "\n",
            "******************************************************************************\n",
            "Best Accuracy: 0.7056 with:\n",
            "f1: 0.702912426954992 \n",
            "recall: 0.7055507372072853 \n",
            "Precision: 0.701877154292455 \n",
            "Mcc: 0.6077880144975393 \n",
            "Parameters: best_max_depth: 17\n"
          ]
        }
      ],
      "source": [
        "RunThePredictAlgorithm(oversampling_df, 73, 'min-max', RFEFeatureElimination, DecisionTree, version_numer= 'V2', IsMultiClass = True)"
      ]
    },
    {
      "cell_type": "code",
      "execution_count": 408,
      "metadata": {},
      "outputs": [
        {
          "name": "stdout",
          "output_type": "stream",
          "text": [
            "Best accuracy is = 0.716514954486346, with 4 n_neighbors, cosine metrics and fetaure len = 70\n",
            "Best accuracy is = 0.7030775899436498, with 2 n_neighbors, manhattan metrics and fetaure len = 70\n",
            "Best accuracy is = 0.707285342584562, with 1 n_neighbors, cosine metrics and fetaure len = 70\n",
            "Best accuracy is = 0.694275802254987, with 1 n_neighbors, cosine metrics and fetaure len = 70\n",
            "Best accuracy is = 0.7215958369470945, with 2 n_neighbors, manhattan metrics and fetaure len = 70\n",
            " Mean Test Accuracy: 0.7085 \n",
            " Mean f1: 0.64809816488875 \n",
            " Mean_recall: 0.6542659299669056 \n",
            " Mean_Precision: 0.6472538950362573 \n",
            " Mean_Mcc: 0.5405557061818402 \n",
            "\n",
            "******************************************************************************\n",
            "Best Accuracy: 0.7216 with:\n",
            "f1: 0.6602314671000074 \n",
            "recall: 0.6665221162185603 \n",
            "Precision: 0.6581525205154047 \n",
            "Mcc: 0.5564075594657275 \n",
            "Parameters: n_neighbor:2, metric:manhattan, n_feature:70\n"
          ]
        }
      ],
      "source": [
        "RunThePredictAlgorithm(oversampling_df, 71, 'min-max', RFEFeatureElimination, KNN, version_numer= 'V2', IsMultiClass = True)"
      ]
    },
    {
      "cell_type": "code",
      "execution_count": 407,
      "metadata": {},
      "outputs": [
        {
          "name": "stdout",
          "output_type": "stream",
          "text": [
            "Best accuracy is = 0.3658430862592111, with function = rbf\n",
            "Best accuracy is = 0.36757693974859124, with function = rbf\n",
            "Best accuracy is = 0.3668690372940156, with function = rbf\n",
            "Best accuracy is = 0.3690372940156115, with function = rbf\n",
            "Best accuracy is = 0.3746747614917606, with function = rbf\n",
            " Mean Test Accuracy: 0.3688 \n",
            " Mean f1: 0.2088621814812311 \n",
            " Mean_recall: 0.2553777841938878 \n",
            " Mean_Precision: 0.29545397914606936 \n",
            " Mean_Mcc: 0.012009575119365944 \n",
            "\n",
            "******************************************************************************\n",
            "Best Accuracy: 0.3747 with:\n",
            "f1: 0.2086027119636104 \n",
            "recall: 0.25498699045967044 \n",
            "Precision: 0.31551730443353926 \n",
            "Mcc: 0.016236626558511248 \n",
            "Parameters: best_function: rbf\n"
          ]
        }
      ],
      "source": [
        "RunThePredictAlgorithm(oversampling_df, 71, 'min-max', RFEFeatureElimination, NonlinearSVM, version_numer= 'V2', IsMultiClass = True)"
      ]
    },
    {
      "cell_type": "code",
      "execution_count": 410,
      "metadata": {},
      "outputs": [
        {
          "name": "stdout",
          "output_type": "stream",
          "text": [
            "Best accuracy is = 0.6051148677936714, with max_iter = 1000 best_penalty = l1 loss = squared_error  metrics and fetaure len = 70\n",
            "Best accuracy is = 0.5743389683571738, with max_iter = 1000 best_penalty = l1 loss = squared_error  metrics and fetaure len = 70\n",
            "Best accuracy is = 0.5676496097137901, with max_iter = 1000 best_penalty = l1 loss = squared_error  metrics and fetaure len = 70\n",
            "Best accuracy is = 0.5333911535125759, with max_iter = 1000 best_penalty = l1 loss = squared_error  metrics and fetaure len = 70\n",
            "Best accuracy is = 0.5524718126626192, with max_iter = 1000 best_penalty = l1 loss = squared_error  metrics and fetaure len = 70\n",
            " Mean Test Accuracy: 0.5666 \n",
            " Mean f1: 0.30677038288228564 \n",
            " Mean_recall: 0.3818159295721645 \n",
            " Mean_Precision: 0.6699746458981506 \n",
            " Mean_Mcc: 0.25829351066306766 \n",
            "\n",
            "Best accuracy is = 0.5869094061551798, with max_iter = 1000 best_penalty = l1 loss = squared_error  metrics and fetaure len = 71\n",
            "Best accuracy is = 0.5739055049848287, with max_iter = 1000 best_penalty = l1 loss = squared_error  metrics and fetaure len = 71\n",
            "Best accuracy is = 0.5568083261058109, with max_iter = 1000 best_penalty = l1 loss = squared_error  metrics and fetaure len = 71\n",
            "Best accuracy is = 0.5919340849956635, with max_iter = 1000 best_penalty = l1 loss = squared_error  metrics and fetaure len = 71\n",
            "Best accuracy is = 0.5095403295750217, with max_iter = 1000 best_penalty = l1 loss = squared_error  metrics and fetaure len = 71\n",
            " Mean Test Accuracy: 0.5638 \n",
            " Mean f1: 0.32728411026793003 \n",
            " Mean_recall: 0.39662827151123076 \n",
            " Mean_Precision: 0.5708005353136467 \n",
            " Mean_Mcc: 0.25993684245610205 \n",
            "\n",
            "Best accuracy is = 0.4811443433029909, with max_iter = 1000 best_penalty = l1 loss = squared_error  metrics and fetaure len = 72\n",
            "Best accuracy is = 0.5188556566970091, with max_iter = 1000 best_penalty = l1 loss = squared_error  metrics and fetaure len = 72\n",
            "Best accuracy is = 0.5251517779705117, with max_iter = 1000 best_penalty = l1 loss = squared_error  metrics and fetaure len = 72\n",
            "Best accuracy is = 0.5555073720728534, with max_iter = 1000 best_penalty = l1 loss = squared_error  metrics and fetaure len = 72\n",
            "Best accuracy is = 0.5372940156114484, with max_iter = 1000 best_penalty = l1 loss = squared_error  metrics and fetaure len = 72\n",
            " Mean Test Accuracy: 0.5236 \n",
            " Mean f1: 0.3166933498219412 \n",
            " Mean_recall: 0.3955860045090717 \n",
            " Mean_Precision: 0.5646534194619862 \n",
            " Mean_Mcc: 0.25878823249986793 \n",
            "\n",
            "******************************************************************************\n",
            "Best Accuracy: 0.5373 with:\n",
            "f1: 0.3040300325356824 \n",
            "recall: 0.3855160450997398 \n",
            "Precision: 0.612963825314987 \n",
            "Mcc: 0.24504453197874398 \n",
            "Parameters: best_max_iter: 1000, loss:squared_error, best_penalty = l1\n"
          ]
        }
      ],
      "source": [
        "RunThePredictAlgorithm(oversampling_df, 73, 'min-max', RFEFeatureElimination, StockGradientDescent, version_numer= 'V2', IsMultiClass = True)"
      ]
    },
    {
      "cell_type": "code",
      "execution_count": 415,
      "metadata": {},
      "outputs": [
        {
          "name": "stdout",
          "output_type": "stream",
          "text": [
            "Best accuracy is = 0.45600346770697875, with alpha = 0.2\n",
            "Best accuracy is = 0.4317295188556567, with alpha = 0.2\n",
            "Best accuracy is = 0.4388551604509974, with alpha = 0.2\n",
            "Best accuracy is = 0.4570685169124024, with alpha = 0.2\n",
            "Best accuracy is = 0.4427580225498699, with alpha = 0.2\n",
            " Mean Test Accuracy: 0.4453 \n",
            " Mean f1: 0.4213069621823314 \n",
            " Mean_recall: 0.4450227840829844 \n",
            " Mean_Precision: 0.4300814530825988 \n",
            " Mean_Mcc: 0.2658414080189115 \n",
            "\n",
            "Best accuracy is = 0.45600346770697875, with alpha = 0.2\n",
            "Best accuracy is = 0.43259644560034677, with alpha = 0.2\n",
            "Best accuracy is = 0.44362532523850823, with alpha = 0.2\n",
            "Best accuracy is = 0.4570685169124024, with alpha = 0.2\n",
            "Best accuracy is = 0.44319167389418906, with alpha = 0.2\n",
            " Mean Test Accuracy: 0.4465 \n",
            " Mean f1: 0.42252850041281514 \n",
            " Mean_recall: 0.4462369702526832 \n",
            " Mean_Precision: 0.4312008549575593 \n",
            " Mean_Mcc: 0.2674766978117126 \n",
            "\n",
            "Best accuracy is = 0.46380580840918945, with alpha = 0.2\n",
            "Best accuracy is = 0.43693107932379716, with alpha = 0.2\n",
            "Best accuracy is = 0.44752818733738076, with alpha = 0.2\n",
            "Best accuracy is = 0.45967042497831745, with alpha = 0.2\n",
            "Best accuracy is = 0.4505637467476149, with alpha = 0.2\n",
            " Mean Test Accuracy: 0.4517 \n",
            " Mean f1: 0.42650023964755557 \n",
            " Mean_recall: 0.45143977133585284 \n",
            " Mean_Precision: 0.434648866037885 \n",
            " Mean_Mcc: 0.2746892973871228 \n",
            "\n",
            "******************************************************************************\n",
            "Best Accuracy: 0.4506 with:\n",
            "f1: 0.4240603816802231 \n",
            "recall: 0.4505637467476149 \n",
            "Precision: 0.435317166934582 \n",
            "Mcc: 0.277259769396479 \n",
            "Parameters: best_alpha: 0.2\n"
          ]
        }
      ],
      "source": [
        "RunThePredictAlgorithm(oversampling_df, 73, 'min-max', RFEFeatureElimination, MultinomialNaiveBayes, version_numer= 'V2', IsMultiClass = True)"
      ]
    },
    {
      "cell_type": "code",
      "execution_count": 417,
      "metadata": {},
      "outputs": [
        {
          "name": "stdout",
          "output_type": "stream",
          "text": [
            "Best accuracy is = 0.6410923276983095, with max_depth = 5\n",
            "Best accuracy is = 0.6393584742089293, with max_depth = 5\n",
            "Best accuracy is = 0.6626192541196878, with max_depth = 5\n",
            "Best accuracy is = 0.6431049436253252, with max_depth = 5\n",
            "Best accuracy is = 0.6283607979184735, with max_depth = 5\n",
            " Mean Test Accuracy: 0.6429 \n",
            " Mean f1: 0.6412877699785577 \n",
            " Mean_recall: 0.6429071595141451 \n",
            " Mean_Precision: 0.6418352624210254 \n",
            " Mean_Mcc: 0.5244620826381459 \n",
            "\n",
            "Best accuracy is = 0.6393584742089293, with max_depth = 5\n",
            "Best accuracy is = 0.6584308625921109, with max_depth = 5\n",
            "Best accuracy is = 0.6626192541196878, with max_depth = 5\n",
            "Best accuracy is = 0.6418039895923677, with max_depth = 5\n",
            "Best accuracy is = 0.6331309627059843, with max_depth = 5\n",
            " Mean Test Accuracy: 0.6471 \n",
            " Mean f1: 0.645849891559447 \n",
            " Mean_recall: 0.647068708643816 \n",
            " Mean_Precision: 0.6466151306997713 \n",
            " Mean_Mcc: 0.5299551591690669 \n",
            "\n",
            "Best accuracy is = 0.64629388816645, with max_depth = 5\n",
            "Best accuracy is = 0.6527958387516255, with max_depth = 5\n",
            "Best accuracy is = 0.6461405030355594, with max_depth = 5\n",
            "Best accuracy is = 0.6431049436253252, with max_depth = 5\n",
            "Best accuracy is = 0.6183868169991327, with max_depth = 5\n",
            " Mean Test Accuracy: 0.6413 \n",
            " Mean f1: 0.6403596635458734 \n",
            " Mean_recall: 0.6413443981156185 \n",
            " Mean_Precision: 0.6415519535059735 \n",
            " Mean_Mcc: 0.5223338791457013 \n",
            "\n",
            "******************************************************************************\n",
            "Best Accuracy: 0.6184 with:\n",
            "f1: 0.6153962810990713 \n",
            "recall: 0.6183868169991327 \n",
            "Precision: 0.615647468254421 \n",
            "Mcc: 0.4923181407295078 \n",
            "Parameters: best_max_depth: 5\n"
          ]
        }
      ],
      "source": [
        "RunThePredictAlgorithm(oversampling_df, 73, 'min-max', RFEFeatureElimination, AdaBoost, version_numer= 'V2', IsMultiClass = True)"
      ]
    },
    {
      "cell_type": "code",
      "execution_count": 418,
      "metadata": {},
      "outputs": [
        {
          "name": "stdout",
          "output_type": "stream",
          "text": [
            "Best accuracy is = 0.6415711947626841, with best_n_estimators = 175 learning_rate = 0.1 criterion = squared_error best_depth = 1 metrics and fetaure len = 70\n",
            "Best accuracy is = 0.6374795417348609, with best_n_estimators = 125 learning_rate = 0.1 criterion = squared_error best_depth = 1 metrics and fetaure len = 70\n",
            "Best accuracy is = 0.6456628477905073, with best_n_estimators = 125 learning_rate = 0.1 criterion = squared_error best_depth = 1 metrics and fetaure len = 70\n",
            "Best accuracy is = 0.633087633087633, with best_n_estimators = 200 learning_rate = 0.1 criterion = squared_error best_depth = 1 metrics and fetaure len = 70\n",
            "Best accuracy is = 0.6216216216216216, with best_n_estimators = 200 learning_rate = 0.1 criterion = squared_error best_depth = 1 metrics and fetaure len = 70\n",
            " Mean Test Accuracy: 0.6359 \n",
            " Mean f1: 0.6182395248393864 \n",
            " Mean_recall: 0.6353935694361226 \n",
            " Mean_Precision: 0.6244243454729123 \n",
            " Mean_Mcc: 0.43897729431666777 \n",
            "\n",
            "******************************************************************************\n",
            "Best Accuracy: 0.6216 with:\n",
            "f1: 0.6038340452658129 \n",
            "recall: 0.6216216216216216 \n",
            "Precision: 0.608435259252533 \n",
            "Mcc: 0.41854547783418766 \n",
            "Parameters: best_n_estimators: 200, loss:deviance, learning_rate = 0.1, depth = 1  criterion = squared_error\n"
          ]
        }
      ],
      "source": [
        "RunThePredictAlgorithm(questionToMode_df, 71, 'min-max', RFEFeatureElimination, GradientBoosting, version_numer= 'V2', IsMultiClass = True)"
      ]
    },
    {
      "cell_type": "code",
      "execution_count": 441,
      "metadata": {},
      "outputs": [
        {
          "name": "stdout",
          "output_type": "stream",
          "text": [
            "Accuracy with Logistic Regression: 0.5851063829787234\n",
            "Accuracy with Logistic Regression: 0.5801963993453355\n",
            "Accuracy with Logistic Regression: 0.5842880523731587\n",
            "Accuracy with Logistic Regression: 0.6044226044226044\n",
            "Accuracy with Logistic Regression: 0.5872235872235873\n",
            " Mean Test Accuracy: 0.5882 \n",
            " Mean f1: 0.5588024541089669 \n",
            " Mean_recall: 0.5882474052686819 \n",
            " Mean_Precision: 0.5795617221244712 \n",
            " Mean_Mcc: 0.3612946260896288 \n",
            "\n",
            "Accuracy with Logistic Regression: 0.5801963993453355\n",
            "Accuracy with Logistic Regression: 0.5810147299509002\n",
            "Accuracy with Logistic Regression: 0.5834697217675942\n",
            "Accuracy with Logistic Regression: 0.6027846027846028\n",
            "Accuracy with Logistic Regression: 0.5847665847665847\n",
            " Mean Test Accuracy: 0.5864 \n",
            " Mean f1: 0.5517146543582605 \n",
            " Mean_recall: 0.5864464077230035 \n",
            " Mean_Precision: 0.5741691823820705 \n",
            " Mean_Mcc: 0.3568613790414978 \n",
            "\n",
            "Accuracy with Logistic Regression: 0.5924713584288053\n",
            "Accuracy with Logistic Regression: 0.5851063829787234\n",
            "Accuracy with Logistic Regression: 0.5834697217675942\n",
            "Accuracy with Logistic Regression: 0.6060606060606061\n",
            "Accuracy with Logistic Regression: 0.5888615888615889\n",
            " Mean Test Accuracy: 0.5912 \n",
            " Mean f1: 0.5601714286567557 \n",
            " Mean_recall: 0.5911939316194635 \n",
            " Mean_Precision: 0.581177379707544 \n",
            " Mean_Mcc: 0.36521079115298266 \n",
            "\n",
            "******************************************************************************\n",
            "Best Accuracy: 0.5889 with:\n",
            "f1: 0.5555813486223246 \n",
            "recall: 0.5888615888615889 \n",
            "Precision: 0.5846616107686892 \n",
            "Mcc: 0.3622621626021617 \n",
            "Parameters: Not Trying HyperParameters\n"
          ]
        }
      ],
      "source": [
        "RunThePredictAlgorithm(questionToMode_df, 73, 'min-max', RFEFeatureElimination, LogisticRegressionClassifier, version_numer= 'V2', IsMultiClass = True)"
      ]
    },
    {
      "cell_type": "code",
      "execution_count": 419,
      "metadata": {},
      "outputs": [
        {
          "name": "stdout",
          "output_type": "stream",
          "text": [
            "Model: PyTorch Best Epoch: 0 | Best Loss: 1.28976 | Best Acc: 45.42%  with RFEFeatureElimination, min-max,CrossEntropyLoss, len = 70 and Adam, lr = 0.001\n",
            "Model: PyTorch Best Epoch: 153 | Best Loss: 1.28868 | Best Acc: 45.50%  with RFEFeatureElimination, min-max,CrossEntropyLoss, len = 70 and Adam, lr = 0.001\n",
            "Model: PyTorch Best Epoch: 154 | Best Loss: 1.28632 | Best Acc: 45.66%  with RFEFeatureElimination, min-max,CrossEntropyLoss, len = 70 and Adam, lr = 0.001\n",
            "END OF ITERATION WITH FEATURES LEN = 70\n",
            "Model: PyTorch Best Epoch: 0 | Best Loss: 1.27101 | Best Acc: 47.22%  with RFEFeatureElimination, min-max,CrossEntropyLoss, len = 70 and Adam, lr = 0.001\n",
            "END OF ITERATION WITH FEATURES LEN = 70\n",
            "Model: PyTorch Best Epoch: 0 | Best Loss: 1.27079 | Best Acc: 47.79%  with RFEFeatureElimination, min-max,CrossEntropyLoss, len = 70 and Adam, lr = 0.001\n",
            "END OF ITERATION WITH FEATURES LEN = 70\n",
            "Model: PyTorch Best Epoch: 0 | Best Loss: 1.47175 | Best Acc: 26.04%  with RFEFeatureElimination, min-max,CrossEntropyLoss, len = 70 and Adam, lr = 0.001\n",
            "Model: PyTorch Best Epoch: 1 | Best Loss: 1.43855 | Best Acc: 26.54%  with RFEFeatureElimination, min-max,CrossEntropyLoss, len = 70 and Adam, lr = 0.001\n",
            "Model: PyTorch Best Epoch: 2 | Best Loss: 1.26055 | Best Acc: 48.57%  with RFEFeatureElimination, min-max,CrossEntropyLoss, len = 70 and Adam, lr = 0.001\n",
            "END OF ITERATION WITH FEATURES LEN = 70\n",
            "Model: PyTorch Best Epoch: 0 | Best Loss: 1.60215 | Best Acc: 13.51%  with RFEFeatureElimination, min-max,CrossEntropyLoss, len = 70 and Adam, lr = 0.001\n",
            "Model: PyTorch Best Epoch: 2 | Best Loss: 1.59185 | Best Acc: 14.41%  with RFEFeatureElimination, min-max,CrossEntropyLoss, len = 70 and Adam, lr = 0.001\n",
            "Model: PyTorch Best Epoch: 5 | Best Loss: 1.59381 | Best Acc: 14.50%  with RFEFeatureElimination, min-max,CrossEntropyLoss, len = 70 and Adam, lr = 0.001\n",
            "Model: PyTorch Best Epoch: 12 | Best Loss: 1.59603 | Best Acc: 14.58%  with RFEFeatureElimination, min-max,CrossEntropyLoss, len = 70 and Adam, lr = 0.001\n",
            "Model: PyTorch Best Epoch: 14 | Best Loss: 1.59478 | Best Acc: 14.74%  with RFEFeatureElimination, min-max,CrossEntropyLoss, len = 70 and Adam, lr = 0.001\n",
            "Model: PyTorch Best Epoch: 15 | Best Loss: 1.59356 | Best Acc: 14.91%  with RFEFeatureElimination, min-max,CrossEntropyLoss, len = 70 and Adam, lr = 0.001\n",
            "Model: PyTorch Best Epoch: 17 | Best Loss: 1.58804 | Best Acc: 14.99%  with RFEFeatureElimination, min-max,CrossEntropyLoss, len = 70 and Adam, lr = 0.001\n",
            "Model: PyTorch Best Epoch: 18 | Best Loss: 1.57896 | Best Acc: 15.97%  with RFEFeatureElimination, min-max,CrossEntropyLoss, len = 70 and Adam, lr = 0.001\n",
            "Model: PyTorch Best Epoch: 19 | Best Loss: 1.28379 | Best Acc: 47.01%  with RFEFeatureElimination, min-max,CrossEntropyLoss, len = 70 and Adam, lr = 0.001\n",
            "END OF ITERATION WITH FEATURES LEN = 70\n",
            "Mean Test Accuracy: 47.2497 \n",
            " Mean f1: 0.3025578952644721 \n",
            " Mean_recall: 0.47151485662123954 \n",
            " Mean_Precision: 0.2227759926349968 \n",
            " Mean_Mcc: -0.0085915964194157 \n",
            "\n",
            "******************************************************************************\n",
            "Best Accuracy: 47.0106 with:\n",
            "f1: 0.3006586226641937 \n",
            "recall: 0.4701064701064701 \n",
            "Precision: 0.22100009323596548 \n",
            "Mcc: 0.0 \n",
            "Parameters: Model: PyTorch Best Epoch: 19 | Best Loss: 1.28379 | Best Acc: 47.01%  with RFEFeatureElimination, min-max,CrossEntropyLoss, len = 70 and Adam, lr = 0.001\n"
          ]
        }
      ],
      "source": [
        "RunThePredictAlgorithm(questionToMode_df, 71, 'min-max', RFEFeatureElimination, PyTorch_TrainTest_Step,\n",
        "                       True, accuracy_method= accuracy_fn, loss_method=nn.CrossEntropyLoss(), optimizer_method='Adam', lr = 0.001, version_numer='V2', IsMultiClass = True)"
      ]
    },
    {
      "cell_type": "markdown",
      "metadata": {},
      "source": [
        "### Run The Algorithms with V3 DataFrame (Null values handled, 2 target class type reduced and added converted to best neigherst and then oversampling added to the dataframe)"
      ]
    },
    {
      "cell_type": "code",
      "execution_count": 420,
      "metadata": {},
      "outputs": [
        {
          "name": "stdout",
          "output_type": "stream",
          "text": [
            "Will Dropped 0s sample from 2 and 3 because, most of sample in the 2 and 3 class most similar samples equals to the class 0 and 1, so we convert 2 and 3 to 0 and 1\n",
            "Lenght of 0's 4570\n",
            "Lenght of 1's 1538\n",
            "Lenght of 2's 0\n",
            "Lenght of 3's 0\n",
            "-----------------------------\n",
            "Lenght of 0's 4570\n",
            "Lenght of 1's 4570\n",
            "Lenght of 2's 0\n",
            "Lenght of 3's 0\n"
          ]
        }
      ],
      "source": [
        "warnings.filterwarnings(\"ignore\", category=UserWarning, module=\"sklearn\")\n",
        "\n",
        "X, y = DFToXAndY(questionToMode_df)\n",
        "y, indices_to_drop = CombineTargets(X, y)\n",
        "combined_df = XAndYToDF(X, y)\n",
        "PrintTheTargetColumnsRange(combined_df)\n",
        "print(\"-----------------------------\")\n",
        "X = X.drop(indices_to_drop)\n",
        "y = y.drop(indices_to_drop)\n",
        "\n",
        "X_oversampled2, y_oversampled2 = OverSampling(X, y, random_state=42, k_neighbors=5)\n",
        "oversampling_df2 = XAndYToDF(X_oversampled2, y_oversampled2)\n",
        "PrintTheTargetColumnsRange(oversampling_df2)"
      ]
    },
    {
      "cell_type": "code",
      "execution_count": 421,
      "metadata": {
        "colab": {
          "base_uri": "https://localhost:8080/"
        },
        "id": "x_sesDjFhl3R",
        "outputId": "cbfa651e-8a93-4494-bd7a-4abed002f919"
      },
      "outputs": [
        {
          "name": "stdout",
          "output_type": "stream",
          "text": [
            "Best accuracy is = 0.8484682713347921, with criterion = entropy max_depth = 35 metrics and fetaure len = 70\n",
            "Best accuracy is = 0.8358862144420132, with criterion = gini max_depth = 35 metrics and fetaure len = 70\n",
            "Best accuracy is = 0.8440919037199125, with criterion = gini max_depth = 25 metrics and fetaure len = 70\n",
            "Best accuracy is = 0.8402625820568927, with criterion = entropy max_depth = 45 metrics and fetaure len = 70\n",
            "Best accuracy is = 0.8315098468271335, with criterion = entropy max_depth = 25 metrics and fetaure len = 70\n",
            " Mean Test Accuracy: 0.8400 \n",
            " Mean f1: 0.835155924792103 \n",
            " Mean_recall: 0.8358862144420132 \n",
            " Mean_Precision: 0.8425154024365955 \n",
            " Mean_Mcc: 0.6781951111369449 \n",
            " Mean_Auc_Score: 0.9171702617269556\n",
            "Best accuracy is = 0.8583150984682714, with criterion = entropy max_depth = 30 metrics and fetaure len = 71\n",
            "Best accuracy is = 0.8369803063457331, with criterion = gini max_depth = 30 metrics and fetaure len = 71\n",
            "Best accuracy is = 0.8484682713347921, with criterion = entropy max_depth = 20 metrics and fetaure len = 71\n",
            "Best accuracy is = 0.8364332603938731, with criterion = gini max_depth = 30 metrics and fetaure len = 71\n",
            "Best accuracy is = 0.8320568927789934, with criterion = entropy max_depth = 25 metrics and fetaure len = 71\n",
            " Mean Test Accuracy: 0.8425 \n",
            " Mean f1: 0.8354020714971627 \n",
            " Mean_recall: 0.8361050328227572 \n",
            " Mean_Precision: 0.8425829275209875 \n",
            " Mean_Mcc: 0.678490643333122 \n",
            " Mean_Auc_Score: 0.9178804032558968\n",
            "Best accuracy is = 0.850109409190372, with criterion = gini max_depth = 35 metrics and fetaure len = 72\n",
            "Best accuracy is = 0.8419037199124726, with criterion = gini max_depth = 35 metrics and fetaure len = 72\n",
            "Best accuracy is = 0.8468271334792122, with criterion = entropy max_depth = None metrics and fetaure len = 72\n",
            "Best accuracy is = 0.8397155361050328, with criterion = gini max_depth = 35 metrics and fetaure len = 72\n",
            "Best accuracy is = 0.8309628008752735, with criterion = gini max_depth = 20 metrics and fetaure len = 72\n",
            " Mean Test Accuracy: 0.8419 \n",
            " Mean f1: 0.8381644315806362 \n",
            " Mean_recall: 0.838840262582057 \n",
            " Mean_Precision: 0.8450452429000077 \n",
            " Mean_Mcc: 0.6836443405542837 \n",
            " Mean_Auc_Score: 0.9181202483734715\n",
            "******************************************************************************\n",
            "Best Accuracy: 0.8310 with:\n",
            "f1: 0.8270663214402878 \n",
            "recall: 0.8276805251641138 \n",
            "Precision: 0.8319795404953504 \n",
            "Mcc: 0.659552283920971 \n",
            "Auc_Score: 0.9093191122602887 \n",
            "Parameters: best_criterion: gini, max_depth:20 fetaure len = 72\n"
          ]
        },
        {
          "data": {
            "image/png": "[encoded data removed]",
            "text/plain": [
              "<Figure size 576x432 with 1 Axes>"
            ]
          },
          "metadata": {
            "needs_background": "light"
          },
          "output_type": "display_data"
        }
      ],
      "source": [
        "RunThePredictAlgorithm(oversampling_df2, 73, 'min-max', RFEFeatureElimination, RandomForest, version_numer= 'V3')"
      ]
    },
    {
      "cell_type": "code",
      "execution_count": 423,
      "metadata": {
        "colab": {
          "base_uri": "https://localhost:8080/",
          "height": 374
        },
        "id": "gB9WE_8Chl3R",
        "outputId": "486ce4da-cf36-40a4-912d-981561d7fbb7"
      },
      "outputs": [
        {
          "name": "stdout",
          "output_type": "stream",
          "text": [
            "Best accuracy is = 0.7702407002188184, with max_depth = 17\n",
            "Best accuracy is = 0.7636761487964989, with max_depth = 12\n",
            "Best accuracy is = 0.7653172866520788, with max_depth = 12\n",
            "Best accuracy is = 0.7653172866520788, with max_depth = 12\n",
            "Best accuracy is = 0.7702407002188184, with max_depth = 10\n",
            " Mean Test Accuracy: 0.7670 \n",
            " Mean f1: 0.7615063768845184 \n",
            " Mean_recall: 0.7618161925601751 \n",
            " Mean_Precision: 0.7636647755954498 \n",
            " Mean_Mcc: 0.5251841850859065 \n",
            " Mean_Auc_Score: 0.7214805941462566\n",
            "Best accuracy is = 0.7718818380743983, with max_depth = 17\n",
            "Best accuracy is = 0.763129102844639, with max_depth = 10\n",
            "Best accuracy is = 0.7675054704595186, with max_depth = 17\n",
            "Best accuracy is = 0.7620350109409191, with max_depth = 17\n",
            "Best accuracy is = 0.7669584245076586, with max_depth = 17\n",
            " Mean Test Accuracy: 0.7663 \n",
            " Mean f1: 0.7652665695891175 \n",
            " Mean_recall: 0.7654266958424508 \n",
            " Mean_Precision: 0.7664783817860527 \n",
            " Mean_Mcc: 0.5315599101496098 \n",
            " Mean_Auc_Score: 0.726050129837319\n",
            "Best accuracy is = 0.7658643326039387, with max_depth = 17\n",
            "Best accuracy is = 0.7609409190371991, with max_depth = 12\n",
            "Best accuracy is = 0.7592997811816192, with max_depth = 12\n",
            "Best accuracy is = 0.7554704595185996, with max_depth = 17\n",
            "Best accuracy is = 0.7729759299781181, with max_depth = 10\n",
            " Mean Test Accuracy: 0.7629 \n",
            " Mean f1: 0.7588806694606998 \n",
            " Mean_recall: 0.7591903719912473 \n",
            " Mean_Precision: 0.7609867518333662 \n",
            " Mean_Mcc: 0.519861078300779 \n",
            " Mean_Auc_Score: 0.7174566124885327\n",
            "******************************************************************************\n",
            "Best Accuracy: 0.7730 with:\n",
            "f1: 0.7650737158175509 \n",
            "recall: 0.7653172866520788 \n",
            "Precision: 0.7666541832755147 \n",
            "Mcc: 0.5320317733741455 \n",
            "Auc_Score: 0.7266932413991238 \n",
            "Parameters: best_max_depth: 10\n"
          ]
        },
        {
          "data": {
            "image/png": "[encoded data removed]",
            "text/plain": [
              "<Figure size 576x432 with 1 Axes>"
            ]
          },
          "metadata": {
            "needs_background": "light"
          },
          "output_type": "display_data"
        }
      ],
      "source": [
        "RunThePredictAlgorithm(oversampling_df2, 73, 'min-max', RFEFeatureElimination, DecisionTree, version_numer= 'V3')"
      ]
    },
    {
      "cell_type": "code",
      "execution_count": 425,
      "metadata": {},
      "outputs": [
        {
          "name": "stdout",
          "output_type": "stream",
          "text": [
            "Best accuracy is = 0.7680525164113785, with 2 n_neighbors, manhattan metrics and fetaure len = 70\n",
            "Best accuracy is = 0.7817286652078774, with 2 n_neighbors, manhattan metrics and fetaure len = 70\n",
            "Best accuracy is = 0.7822757111597374, with 2 n_neighbors, manhattan metrics and fetaure len = 70\n",
            "Best accuracy is = 0.7751641137855579, with 2 n_neighbors, manhattan metrics and fetaure len = 70\n",
            "Best accuracy is = 0.7571115973741794, with 2 n_neighbors, manhattan metrics and fetaure len = 70\n",
            " Mean Test Accuracy: 0.7729 \n",
            " Mean f1: 0.7180189572240335 \n",
            " Mean_recall: 0.7191466083150986 \n",
            " Mean_Precision: 0.7229652706800099 \n",
            " Mean_Mcc: 0.44168732979475767 \n",
            " Mean_Auc_Score: 0.8218792538355558\n",
            "******************************************************************************\n",
            "Best Accuracy: 0.7571 with:\n",
            "f1: 0.698033015699276 \n",
            "recall: 0.6991247264770241 \n",
            "Precision: 0.7024346223954081 \n",
            "Mcc: 0.4016997184714548 \n",
            "Auc_Score: 0.8068088773971127 \n",
            "Parameters: n_neighbor:2, metric:manhattan, n_feature:70\n"
          ]
        },
        {
          "data": {
            "image/png": "[encoded data removed]",
            "text/plain": [
              "<Figure size 576x432 with 1 Axes>"
            ]
          },
          "metadata": {
            "needs_background": "light"
          },
          "output_type": "display_data"
        }
      ],
      "source": [
        "RunThePredictAlgorithm(oversampling_df2, 71, 'min-max', RFEFeatureElimination, KNN, version_numer= 'V3')"
      ]
    },
    {
      "cell_type": "code",
      "execution_count": 427,
      "metadata": {},
      "outputs": [
        {
          "name": "stdout",
          "output_type": "stream",
          "text": [
            "Best accuracy is = 0.6482494529540481, with function = rbf\n",
            "Best accuracy is = 0.6471553610503282, with function = rbf\n",
            "Best accuracy is = 0.6717724288840262, with function = rbf\n",
            "Best accuracy is = 0.6548140043763676, with function = rbf\n",
            "Best accuracy is = 0.6427789934354485, with function = rbf\n",
            " Mean Test Accuracy: 0.6530 \n",
            " Mean f1: 0.4404105374221589 \n",
            " Mean_recall: 0.4403719912472647 \n",
            " Mean_Precision: 0.4410574411387559 \n",
            " Mean_Mcc: -0.11876105010699907 \n",
            " Mean_Auc_Score: 0.5407162413132631\n",
            "******************************************************************************\n",
            "Best Accuracy: 0.6428 with:\n",
            "f1: 0.4310722100656455 \n",
            "recall: 0.4310722100656455 \n",
            "Precision: 0.4310887226835225 \n",
            "Mcc: -0.13783906725083195 \n",
            "Auc_Score: 0.5714537096890038 \n",
            "Parameters: best_function: rbf\n"
          ]
        },
        {
          "data": {
            "image/png": "[encoded data removed]",
            "text/plain": [
              "<Figure size 576x432 with 1 Axes>"
            ]
          },
          "metadata": {
            "needs_background": "light"
          },
          "output_type": "display_data"
        }
      ],
      "source": [
        "RunThePredictAlgorithm(oversampling_df2, 71, 'min-max', RFEFeatureElimination, NonlinearSVM, version_numer= 'V3')"
      ]
    },
    {
      "cell_type": "code",
      "execution_count": 428,
      "metadata": {},
      "outputs": [
        {
          "name": "stdout",
          "output_type": "stream",
          "text": [
            "Best accuracy is = 0.6033916849015317, with max_iter = 1000 best_penalty = l1 loss = squared_error  metrics and fetaure len = 70\n",
            "Best accuracy is = 0.600109409190372, with max_iter = 1000 best_penalty = elasticnet loss = squared_error  metrics and fetaure len = 70\n",
            "Best accuracy is = 0.6187089715536105, with max_iter = 1000 best_penalty = l1 loss = squared_error  metrics and fetaure len = 70\n",
            "Best accuracy is = 0.5557986870897156, with max_iter = 1000 best_penalty = l1 loss = squared_error  metrics and fetaure len = 70\n",
            "Best accuracy is = 0.5678336980306345, with max_iter = 1000 best_penalty = l2 loss = squared_error  metrics and fetaure len = 70\n",
            " Mean Test Accuracy: 0.5892 \n",
            " Mean f1: 0.41557654511884257 \n",
            " Mean_recall: 0.5359956236323852 \n",
            " Mean_Precision: 0.49130356852058704 \n",
            " Mean_Mcc: 0.08913824389029203 \n",
            " Mean_Auc_Score: 0.5311225158534353\n",
            "Best accuracy is = 0.6559080962800875, with max_iter = 1000 best_penalty = l2 loss = squared_error  metrics and fetaure len = 71\n",
            "Best accuracy is = 0.6055798687089715, with max_iter = 1000 best_penalty = l1 loss = squared_error  metrics and fetaure len = 71\n",
            "Best accuracy is = 0.6608315098468271, with max_iter = 1000 best_penalty = l1 loss = squared_error  metrics and fetaure len = 71\n",
            "Best accuracy is = 0.5683807439824945, with max_iter = 1000 best_penalty = l1 loss = squared_error  metrics and fetaure len = 71\n",
            "Best accuracy is = 0.5793216630196937, with max_iter = 1000 best_penalty = l1 loss = squared_error  metrics and fetaure len = 71\n",
            " Mean Test Accuracy: 0.6140 \n",
            " Mean f1: 0.4709466900999873 \n",
            " Mean_recall: 0.5525164113785557 \n",
            " Mean_Precision: 0.6357441679707073 \n",
            " Mean_Mcc: 0.16786894408727723 \n",
            " Mean_Auc_Score: 0.5538382919051996\n",
            "Best accuracy is = 0.7056892778993435, with max_iter = 1000 best_penalty = l1 loss = squared_error  metrics and fetaure len = 72\n",
            "Best accuracy is = 0.5733041575492341, with max_iter = 1000 best_penalty = elasticnet loss = squared_error  metrics and fetaure len = 72\n",
            "Best accuracy is = 0.6816192560175055, with max_iter = 1000 best_penalty = elasticnet loss = squared_error  metrics and fetaure len = 72\n",
            "Best accuracy is = 0.6849015317286652, with max_iter = 1000 best_penalty = elasticnet loss = squared_error  metrics and fetaure len = 72\n",
            "Best accuracy is = 0.5831509846827133, with max_iter = 1000 best_penalty = l1 loss = squared_error  metrics and fetaure len = 72\n",
            " Mean Test Accuracy: 0.6457 \n",
            " Mean f1: 0.5029607612326666 \n",
            " Mean_recall: 0.5839168490153173 \n",
            " Mean_Precision: 0.5011287640813822 \n",
            " Mean_Mcc: 0.189388851257485 \n",
            " Mean_Auc_Score: 0.5881677079484214\n",
            "******************************************************************************\n",
            "Best Accuracy: 0.5832 with:\n",
            "f1: 0.33090485955823934 \n",
            "recall: 0.49781181619256015 \n",
            "Precision: 0.2478166043409353 \n",
            "Mcc: 0.0 \n",
            "Auc_Score: 0.5 \n",
            "Parameters: best_max_iter: 1000, loss:squared_error, best_penalty = l1\n"
          ]
        },
        {
          "data": {
            "image/png": "[encoded data removed]",
            "text/plain": [
              "<Figure size 576x432 with 1 Axes>"
            ]
          },
          "metadata": {
            "needs_background": "light"
          },
          "output_type": "display_data"
        }
      ],
      "source": [
        "RunThePredictAlgorithm(oversampling_df2, 73, 'min-max', RFEFeatureElimination, StockGradientDescent, version_numer= 'V3')"
      ]
    },
    {
      "cell_type": "code",
      "execution_count": 429,
      "metadata": {},
      "outputs": [
        {
          "name": "stdout",
          "output_type": "stream",
          "text": [
            "Best accuracy is = 0.6411378555798687, with alpha = 0.2\n",
            "Best accuracy is = 0.6444201312910285, with alpha = 0.2\n",
            "Best accuracy is = 0.6608315098468271, with alpha = 0.2\n",
            "Best accuracy is = 0.6553610503282276, with alpha = 0.2\n",
            "Best accuracy is = 0.6362144420131292, with alpha = 0.2\n",
            " Mean Test Accuracy: 0.6476 \n",
            " Mean f1: 0.6462839549783439 \n",
            " Mean_recall: 0.6475929978118162 \n",
            " Mean_Precision: 0.6499451454414891 \n",
            " Mean_Mcc: 0.29698355723910336 \n",
            " Mean_Auc_Score: 0.6736071735579449\n",
            "Best accuracy is = 0.6416849015317286, with alpha = 0.2\n",
            "Best accuracy is = 0.6444201312910285, with alpha = 0.2\n",
            "Best accuracy is = 0.6591903719912473, with alpha = 0.2\n",
            "Best accuracy is = 0.6548140043763676, with alpha = 0.2\n",
            "Best accuracy is = 0.6362144420131292, with alpha = 0.2\n",
            " Mean Test Accuracy: 0.6473 \n",
            " Mean f1: 0.6457685743003729 \n",
            " Mean_recall: 0.6470459518599563 \n",
            " Mean_Precision: 0.6493523377293245 \n",
            " Mean_Mcc: 0.29585096144907036 \n",
            " Mean_Auc_Score: 0.6733943113332581\n",
            "Best accuracy is = 0.6416849015317286, with alpha = 0.2\n",
            "Best accuracy is = 0.6438730853391685, with alpha = 0.2\n",
            "Best accuracy is = 0.6591903719912473, with alpha = 0.2\n",
            "Best accuracy is = 0.6548140043763676, with alpha = 0.2\n",
            "Best accuracy is = 0.637308533916849, with alpha = 0.2\n",
            " Mean Test Accuracy: 0.6474 \n",
            " Mean f1: 0.6460728061086679 \n",
            " Mean_recall: 0.6473741794310722 \n",
            " Mean_Precision: 0.6497154274095075 \n",
            " Mean_Mcc: 0.2965350783293715 \n",
            " Mean_Auc_Score: 0.6739075987032898\n",
            "******************************************************************************\n",
            "Best Accuracy: 0.6373 with:\n",
            "f1: 0.6362436057353453 \n",
            "recall: 0.637308533916849 \n",
            "Precision: 0.6392539612999485 \n",
            "Mcc: 0.2767217904101233 \n",
            "Auc_Score: 0.656565874212933 \n",
            "Parameters: best_alpha: 0.2\n"
          ]
        },
        {
          "data": {
            "image/png": "[encoded data removed]",
            "text/plain": [
              "<Figure size 576x432 with 1 Axes>"
            ]
          },
          "metadata": {
            "needs_background": "light"
          },
          "output_type": "display_data"
        }
      ],
      "source": [
        "RunThePredictAlgorithm(oversampling_df2, 73, 'min-max', RFEFeatureElimination, MultinomialNaiveBayes, version_numer= 'V3')"
      ]
    },
    {
      "cell_type": "code",
      "execution_count": 430,
      "metadata": {},
      "outputs": [
        {
          "name": "stdout",
          "output_type": "stream",
          "text": [
            "Best accuracy is = 0.774617067833698, with max_depth = 5\n",
            "Best accuracy is = 0.7773522975929978, with max_depth = 5\n",
            "Best accuracy is = 0.7921225382932167, with max_depth = 5\n",
            "Best accuracy is = 0.7675054704595186, with max_depth = 5\n",
            "Best accuracy is = 0.7669584245076586, with max_depth = 5\n",
            " Mean Test Accuracy: 0.7757 \n",
            " Mean f1: 0.7756989198831322 \n",
            " Mean_recall: 0.775711159737418 \n",
            " Mean_Precision: 0.7760835548530993 \n",
            " Mean_Mcc: 0.5514588981942644 \n",
            " Mean_Auc_Score: 0.8474028425552937\n",
            "Best accuracy is = 0.774070021881838, with max_depth = 5\n",
            "Best accuracy is = 0.7800875273522976, with max_depth = 5\n",
            "Best accuracy is = 0.7921225382932167, with max_depth = 5\n",
            "Best accuracy is = 0.776258205689278, with max_depth = 5\n",
            "Best accuracy is = 0.7636761487964989, with max_depth = 5\n",
            " Mean Test Accuracy: 0.7772 \n",
            " Mean f1: 0.777204162169898 \n",
            " Mean_recall: 0.7772428884026258 \n",
            " Mean_Precision: 0.7775989178408966 \n",
            " Mean_Mcc: 0.554474838044489 \n",
            " Mean_Auc_Score: 0.8483630726791823\n",
            "Best accuracy is = 0.7735229759299781, with max_depth = 5\n",
            "Best accuracy is = 0.776258205689278, with max_depth = 5\n",
            "Best accuracy is = 0.7915754923413567, with max_depth = 5\n",
            "Best accuracy is = 0.7850109409190372, with max_depth = 5\n",
            "Best accuracy is = 0.7735229759299781, with max_depth = 5\n",
            " Mean Test Accuracy: 0.7800 \n",
            " Mean f1: 0.7799317820575381 \n",
            " Mean_recall: 0.7799781181619256 \n",
            " Mean_Precision: 0.7807191057089693 \n",
            " Mean_Mcc: 0.5604385842548999 \n",
            " Mean_Auc_Score: 0.856017463362225\n",
            "******************************************************************************\n",
            "Best Accuracy: 0.7735 with:\n",
            "f1: 0.7733545152866091 \n",
            "recall: 0.7735229759299781 \n",
            "Precision: 0.7745393237513278 \n",
            "Mcc: 0.5481113518494661 \n",
            "Auc_Score: 0.8531530560942325 \n",
            "Parameters: best_max_depth: 5\n"
          ]
        },
        {
          "data": {
            "image/png": "[encoded data removed]",
            "text/plain": [
              "<Figure size 576x432 with 1 Axes>"
            ]
          },
          "metadata": {
            "needs_background": "light"
          },
          "output_type": "display_data"
        }
      ],
      "source": [
        "RunThePredictAlgorithm(oversampling_df2, 73, 'min-max', RFEFeatureElimination, AdaBoost, version_numer= 'V3')"
      ]
    },
    {
      "cell_type": "code",
      "execution_count": 431,
      "metadata": {},
      "outputs": [
        {
          "name": "stdout",
          "output_type": "stream",
          "text": [
            "Best accuracy is = 0.7713347921225383, with best_n_estimators = 200 learning_rate = 0.1 criterion = squared_error best_depth = 1 metrics and fetaure len = 70\n",
            "Best accuracy is = 0.774070021881838, with best_n_estimators = 200 learning_rate = 0.1 criterion = squared_error best_depth = 1 metrics and fetaure len = 70\n",
            "Best accuracy is = 0.776258205689278, with best_n_estimators = 200 learning_rate = 0.1 criterion = squared_error best_depth = 1 metrics and fetaure len = 70\n",
            "Best accuracy is = 0.7729759299781181, with best_n_estimators = 200 learning_rate = 0.1 criterion = squared_error best_depth = 1 metrics and fetaure len = 70\n",
            "Best accuracy is = 0.7483588621444202, with best_n_estimators = 200 learning_rate = 0.1 criterion = squared_error best_depth = 1 metrics and fetaure len = 70\n",
            " Mean Test Accuracy: 0.7686 \n",
            " Mean f1: 0.7685767526933747 \n",
            " Mean_recall: 0.7685995623632385 \n",
            " Mean_Precision: 0.7691650967209224 \n",
            " Mean_Mcc: 0.5374799479431062 \n",
            " Mean_Auc_Score: 0.8462271218518259\n",
            "Best accuracy is = 0.7713347921225383, with best_n_estimators = 200 learning_rate = 0.1 criterion = squared_error best_depth = 1 metrics and fetaure len = 71\n",
            "Best accuracy is = 0.774070021881838, with best_n_estimators = 200 learning_rate = 0.1 criterion = squared_error best_depth = 1 metrics and fetaure len = 71\n",
            "Best accuracy is = 0.776258205689278, with best_n_estimators = 200 learning_rate = 0.1 criterion = squared_error best_depth = 1 metrics and fetaure len = 71\n",
            "Best accuracy is = 0.7729759299781181, with best_n_estimators = 200 learning_rate = 0.1 criterion = squared_error best_depth = 1 metrics and fetaure len = 71\n",
            "Best accuracy is = 0.7483588621444202, with best_n_estimators = 200 learning_rate = 0.1 criterion = squared_error best_depth = 1 metrics and fetaure len = 71\n",
            " Mean Test Accuracy: 0.7686 \n",
            " Mean f1: 0.7685767526933747 \n",
            " Mean_recall: 0.7685995623632385 \n",
            " Mean_Precision: 0.7691650967209224 \n",
            " Mean_Mcc: 0.5374799479431062 \n",
            " Mean_Auc_Score: 0.8462271218518259\n",
            "Best accuracy is = 0.7713347921225383, with best_n_estimators = 200 learning_rate = 0.1 criterion = squared_error best_depth = 1 metrics and fetaure len = 72\n",
            "Best accuracy is = 0.774070021881838, with best_n_estimators = 200 learning_rate = 0.1 criterion = squared_error best_depth = 1 metrics and fetaure len = 72\n",
            "Best accuracy is = 0.776258205689278, with best_n_estimators = 200 learning_rate = 0.1 criterion = squared_error best_depth = 1 metrics and fetaure len = 72\n",
            "Best accuracy is = 0.7729759299781181, with best_n_estimators = 200 learning_rate = 0.1 criterion = squared_error best_depth = 1 metrics and fetaure len = 72\n",
            "Best accuracy is = 0.7483588621444202, with best_n_estimators = 200 learning_rate = 0.1 criterion = squared_error best_depth = 1 metrics and fetaure len = 72\n",
            " Mean Test Accuracy: 0.7686 \n",
            " Mean f1: 0.7685767526933747 \n",
            " Mean_recall: 0.7685995623632385 \n",
            " Mean_Precision: 0.7691650967209224 \n",
            " Mean_Mcc: 0.5374799479431062 \n",
            " Mean_Auc_Score: 0.8462271218518259\n",
            "******************************************************************************\n",
            "Best Accuracy: 0.7484 with:\n",
            "f1: 0.748239531247694 \n",
            "recall: 0.7483588621444202 \n",
            "Precision: 0.7489886464050477 \n",
            "Mcc: 0.49739055308216096 \n",
            "Auc_Score: 0.8256218726806962 \n",
            "Parameters: best_n_estimators: 200, loss:deviance, learning_rate = 0.1, depth = 1  criterion = squared_error\n"
          ]
        },
        {
          "data": {
            "image/png": "[encoded data removed]",
            "text/plain": [
              "<Figure size 576x432 with 1 Axes>"
            ]
          },
          "metadata": {
            "needs_background": "light"
          },
          "output_type": "display_data"
        }
      ],
      "source": [
        "RunThePredictAlgorithm(oversampling_df2, 73, 'min-max', RFEFeatureElimination, GradientBoosting, version_numer= 'V3')"
      ]
    },
    {
      "cell_type": "code",
      "execution_count": 443,
      "metadata": {},
      "outputs": [
        {
          "name": "stdout",
          "output_type": "stream",
          "text": [
            "Accuracy with Logistic Regression: 0.7478118161925602\n",
            "Accuracy with Logistic Regression: 0.7352297592997812\n",
            "Accuracy with Logistic Regression: 0.7456236323851203\n",
            "Accuracy with Logistic Regression: 0.7450765864332604\n",
            "Accuracy with Logistic Regression: 0.7346827133479212\n",
            " Mean Test Accuracy: 0.7417 \n",
            " Mean f1: 0.7416752545448893 \n",
            " Mean_recall: 0.7416849015317286 \n",
            " Mean_Precision: 0.7422786199303288 \n",
            " Mean_Mcc: 0.4836809905870453 \n",
            " Mean_Auc_Score: 0.8064762427100799\n",
            "Accuracy with Logistic Regression: 0.7461706783369803\n",
            "Accuracy with Logistic Regression: 0.7445295404814004\n",
            "Accuracy with Logistic Regression: 0.7478118161925602\n",
            "Accuracy with Logistic Regression: 0.7489059080962801\n",
            "Accuracy with Logistic Regression: 0.7330415754923414\n",
            " Mean Test Accuracy: 0.7441 \n",
            " Mean f1: 0.7441309685636499 \n",
            " Mean_recall: 0.7440919037199125 \n",
            " Mean_Precision: 0.7447173827565058 \n",
            " Mean_Mcc: 0.4886016161881808 \n",
            " Mean_Auc_Score: 0.8060338961459446\n",
            "Accuracy with Logistic Regression: 0.7319474835886215\n",
            "Accuracy with Logistic Regression: 0.7363238512035011\n",
            "Accuracy with Logistic Regression: 0.7439824945295405\n",
            "Accuracy with Logistic Regression: 0.7467177242888403\n",
            "Accuracy with Logistic Regression: 0.7275711159737418\n",
            " Mean Test Accuracy: 0.7373 \n",
            " Mean f1: 0.7372998671354761 \n",
            " Mean_recall: 0.737308533916849 \n",
            " Mean_Precision: 0.7377659649517279 \n",
            " Mean_Mcc: 0.47474623066728955 \n",
            " Mean_Auc_Score: 0.80085475258699\n",
            "******************************************************************************\n",
            "Best Accuracy: 0.7276 with:\n",
            "f1: 0.7275173004448869 \n",
            "recall: 0.7275711159737418 \n",
            "Precision: 0.7278556490752125 \n",
            "Mcc: 0.4554553975190448 \n",
            "Auc_Score: 0.800387847446671 \n",
            "Parameters: Not Trying HyperParameters\n"
          ]
        },
        {
          "data": {
            "image/png": "[encoded data removed]",
            "text/plain": [
              "<Figure size 576x432 with 1 Axes>"
            ]
          },
          "metadata": {
            "needs_background": "light"
          },
          "output_type": "display_data"
        }
      ],
      "source": [
        "RunThePredictAlgorithm(oversampling_df2, 73, 'min-max', RFEFeatureElimination, LogisticRegressionClassifier, version_numer= 'V3')"
      ]
    },
    {
      "cell_type": "code",
      "execution_count": 434,
      "metadata": {},
      "outputs": [
        {
          "name": "stdout",
          "output_type": "stream",
          "text": [
            "Model: PyTorch Best Epoch: 0 | Best Loss: 1.27268 | Best Acc: 48.19%  with RFEFeatureElimination, min-max,CrossEntropyLoss, len = 70 and Adam, lr = 0.001\n",
            "Model: PyTorch Best Epoch: 38 | Best Loss: 1.26123 | Best Acc: 48.25%  with RFEFeatureElimination, min-max,CrossEntropyLoss, len = 70 and Adam, lr = 0.001\n",
            "Model: PyTorch Best Epoch: 52 | Best Loss: 1.26069 | Best Acc: 48.30%  with RFEFeatureElimination, min-max,CrossEntropyLoss, len = 70 and Adam, lr = 0.001\n",
            "Model: PyTorch Best Epoch: 60 | Best Loss: 1.26023 | Best Acc: 48.36%  with RFEFeatureElimination, min-max,CrossEntropyLoss, len = 70 and Adam, lr = 0.001\n",
            "Model: PyTorch Best Epoch: 63 | Best Loss: 1.25991 | Best Acc: 48.41%  with RFEFeatureElimination, min-max,CrossEntropyLoss, len = 70 and Adam, lr = 0.001\n",
            "Model: PyTorch Best Epoch: 66 | Best Loss: 1.25952 | Best Acc: 48.47%  with RFEFeatureElimination, min-max,CrossEntropyLoss, len = 70 and Adam, lr = 0.001\n",
            "Model: PyTorch Best Epoch: 77 | Best Loss: 1.25751 | Best Acc: 48.58%  with RFEFeatureElimination, min-max,CrossEntropyLoss, len = 70 and Adam, lr = 0.001\n",
            "Model: PyTorch Best Epoch: 78 | Best Loss: 1.25717 | Best Acc: 48.63%  with RFEFeatureElimination, min-max,CrossEntropyLoss, len = 70 and Adam, lr = 0.001\n",
            "Model: PyTorch Best Epoch: 82 | Best Loss: 1.25624 | Best Acc: 48.69%  with RFEFeatureElimination, min-max,CrossEntropyLoss, len = 70 and Adam, lr = 0.001\n",
            "Model: PyTorch Best Epoch: 83 | Best Loss: 1.25602 | Best Acc: 48.74%  with RFEFeatureElimination, min-max,CrossEntropyLoss, len = 70 and Adam, lr = 0.001\n",
            "Model: PyTorch Best Epoch: 84 | Best Loss: 1.25608 | Best Acc: 48.85%  with RFEFeatureElimination, min-max,CrossEntropyLoss, len = 70 and Adam, lr = 0.001\n",
            "Model: PyTorch Best Epoch: 85 | Best Loss: 1.25555 | Best Acc: 48.91%  with RFEFeatureElimination, min-max,CrossEntropyLoss, len = 70 and Adam, lr = 0.001\n",
            "Model: PyTorch Best Epoch: 86 | Best Loss: 1.25507 | Best Acc: 49.02%  with RFEFeatureElimination, min-max,CrossEntropyLoss, len = 70 and Adam, lr = 0.001\n",
            "Model: PyTorch Best Epoch: 90 | Best Loss: 1.25427 | Best Acc: 49.07%  with RFEFeatureElimination, min-max,CrossEntropyLoss, len = 70 and Adam, lr = 0.001\n",
            "Model: PyTorch Best Epoch: 94 | Best Loss: 1.25347 | Best Acc: 49.18%  with RFEFeatureElimination, min-max,CrossEntropyLoss, len = 70 and Adam, lr = 0.001\n",
            "Model: PyTorch Best Epoch: 96 | Best Loss: 1.23747 | Best Acc: 49.73%  with RFEFeatureElimination, min-max,CrossEntropyLoss, len = 70 and Adam, lr = 0.001\n",
            "Model: PyTorch Best Epoch: 97 | Best Loss: 1.21766 | Best Acc: 52.57%  with RFEFeatureElimination, min-max,CrossEntropyLoss, len = 70 and Adam, lr = 0.001\n",
            "Model: PyTorch Best Epoch: 117 | Best Loss: 1.21801 | Best Acc: 52.63%  with RFEFeatureElimination, min-max,CrossEntropyLoss, len = 70 and Adam, lr = 0.001\n",
            "Model: PyTorch Best Epoch: 119 | Best Loss: 1.21759 | Best Acc: 52.68%  with RFEFeatureElimination, min-max,CrossEntropyLoss, len = 70 and Adam, lr = 0.001\n",
            "Model: PyTorch Best Epoch: 154 | Best Loss: 1.21682 | Best Acc: 52.74%  with RFEFeatureElimination, min-max,CrossEntropyLoss, len = 70 and Adam, lr = 0.001\n",
            "Model: PyTorch Best Epoch: 194 | Best Loss: 1.21637 | Best Acc: 52.79%  with RFEFeatureElimination, min-max,CrossEntropyLoss, len = 70 and Adam, lr = 0.001\n",
            "Model: PyTorch Best Epoch: 198 | Best Loss: 1.21337 | Best Acc: 53.06%  with RFEFeatureElimination, min-max,CrossEntropyLoss, len = 70 and Adam, lr = 0.001\n",
            "END OF ITERATION WITH FEATURES LEN = 70\n",
            "Model: PyTorch Best Epoch: 0 | Best Loss: 1.26210 | Best Acc: 49.51%  with RFEFeatureElimination, min-max,CrossEntropyLoss, len = 70 and Adam, lr = 0.001\n",
            "Model: PyTorch Best Epoch: 1 | Best Loss: 1.25382 | Best Acc: 49.84%  with RFEFeatureElimination, min-max,CrossEntropyLoss, len = 70 and Adam, lr = 0.001\n",
            "Model: PyTorch Best Epoch: 2 | Best Loss: 1.24938 | Best Acc: 49.95%  with RFEFeatureElimination, min-max,CrossEntropyLoss, len = 70 and Adam, lr = 0.001\n",
            "Model: PyTorch Best Epoch: 3 | Best Loss: 1.24700 | Best Acc: 50.11%  with RFEFeatureElimination, min-max,CrossEntropyLoss, len = 70 and Adam, lr = 0.001\n",
            "Model: PyTorch Best Epoch: 4 | Best Loss: 1.24555 | Best Acc: 50.27%  with RFEFeatureElimination, min-max,CrossEntropyLoss, len = 70 and Adam, lr = 0.001\n",
            "Model: PyTorch Best Epoch: 44 | Best Loss: 1.24144 | Best Acc: 50.38%  with RFEFeatureElimination, min-max,CrossEntropyLoss, len = 70 and Adam, lr = 0.001\n",
            "Model: PyTorch Best Epoch: 60 | Best Loss: 1.23951 | Best Acc: 50.49%  with RFEFeatureElimination, min-max,CrossEntropyLoss, len = 70 and Adam, lr = 0.001\n",
            "Model: PyTorch Best Epoch: 61 | Best Loss: 1.20942 | Best Acc: 52.41%  with RFEFeatureElimination, min-max,CrossEntropyLoss, len = 70 and Adam, lr = 0.001\n",
            "Model: PyTorch Best Epoch: 132 | Best Loss: 1.20697 | Best Acc: 53.12%  with RFEFeatureElimination, min-max,CrossEntropyLoss, len = 70 and Adam, lr = 0.001\n",
            "END OF ITERATION WITH FEATURES LEN = 70\n",
            "Model: PyTorch Best Epoch: 0 | Best Loss: 1.26238 | Best Acc: 49.07%  with RFEFeatureElimination, min-max,CrossEntropyLoss, len = 70 and Adam, lr = 0.001\n",
            "Model: PyTorch Best Epoch: 46 | Best Loss: 1.25196 | Best Acc: 49.18%  with RFEFeatureElimination, min-max,CrossEntropyLoss, len = 70 and Adam, lr = 0.001\n",
            "Model: PyTorch Best Epoch: 47 | Best Loss: 1.25158 | Best Acc: 49.23%  with RFEFeatureElimination, min-max,CrossEntropyLoss, len = 70 and Adam, lr = 0.001\n",
            "Model: PyTorch Best Epoch: 49 | Best Loss: 1.25138 | Best Acc: 49.29%  with RFEFeatureElimination, min-max,CrossEntropyLoss, len = 70 and Adam, lr = 0.001\n",
            "Model: PyTorch Best Epoch: 52 | Best Loss: 1.25107 | Best Acc: 49.34%  with RFEFeatureElimination, min-max,CrossEntropyLoss, len = 70 and Adam, lr = 0.001\n",
            "Model: PyTorch Best Epoch: 58 | Best Loss: 1.25043 | Best Acc: 49.40%  with RFEFeatureElimination, min-max,CrossEntropyLoss, len = 70 and Adam, lr = 0.001\n",
            "Model: PyTorch Best Epoch: 66 | Best Loss: 1.24922 | Best Acc: 49.51%  with RFEFeatureElimination, min-max,CrossEntropyLoss, len = 70 and Adam, lr = 0.001\n",
            "Model: PyTorch Best Epoch: 71 | Best Loss: 1.24838 | Best Acc: 49.56%  with RFEFeatureElimination, min-max,CrossEntropyLoss, len = 70 and Adam, lr = 0.001\n",
            "Model: PyTorch Best Epoch: 72 | Best Loss: 1.24807 | Best Acc: 49.62%  with RFEFeatureElimination, min-max,CrossEntropyLoss, len = 70 and Adam, lr = 0.001\n",
            "Model: PyTorch Best Epoch: 73 | Best Loss: 1.24573 | Best Acc: 49.78%  with RFEFeatureElimination, min-max,CrossEntropyLoss, len = 70 and Adam, lr = 0.001\n",
            "Model: PyTorch Best Epoch: 74 | Best Loss: 1.21836 | Best Acc: 52.30%  with RFEFeatureElimination, min-max,CrossEntropyLoss, len = 70 and Adam, lr = 0.001\n",
            "Model: PyTorch Best Epoch: 75 | Best Loss: 1.20596 | Best Acc: 53.45%  with RFEFeatureElimination, min-max,CrossEntropyLoss, len = 70 and Adam, lr = 0.001\n",
            "END OF ITERATION WITH FEATURES LEN = 70\n",
            "Model: PyTorch Best Epoch: 0 | Best Loss: 1.27831 | Best Acc: 49.73%  with RFEFeatureElimination, min-max,CrossEntropyLoss, len = 70 and Adam, lr = 0.001\n",
            "Model: PyTorch Best Epoch: 1 | Best Loss: 1.23693 | Best Acc: 52.30%  with RFEFeatureElimination, min-max,CrossEntropyLoss, len = 70 and Adam, lr = 0.001\n",
            "Model: PyTorch Best Epoch: 2 | Best Loss: 1.22968 | Best Acc: 52.74%  with RFEFeatureElimination, min-max,CrossEntropyLoss, len = 70 and Adam, lr = 0.001\n",
            "Model: PyTorch Best Epoch: 29 | Best Loss: 1.21591 | Best Acc: 52.79%  with RFEFeatureElimination, min-max,CrossEntropyLoss, len = 70 and Adam, lr = 0.001\n",
            "Model: PyTorch Best Epoch: 30 | Best Loss: 1.21584 | Best Acc: 52.84%  with RFEFeatureElimination, min-max,CrossEntropyLoss, len = 70 and Adam, lr = 0.001\n",
            "Model: PyTorch Best Epoch: 41 | Best Loss: 1.21503 | Best Acc: 52.90%  with RFEFeatureElimination, min-max,CrossEntropyLoss, len = 70 and Adam, lr = 0.001\n",
            "Model: PyTorch Best Epoch: 42 | Best Loss: 1.21493 | Best Acc: 52.95%  with RFEFeatureElimination, min-max,CrossEntropyLoss, len = 70 and Adam, lr = 0.001\n",
            "Model: PyTorch Best Epoch: 51 | Best Loss: 1.21396 | Best Acc: 53.01%  with RFEFeatureElimination, min-max,CrossEntropyLoss, len = 70 and Adam, lr = 0.001\n",
            "Model: PyTorch Best Epoch: 54 | Best Loss: 1.21361 | Best Acc: 53.06%  with RFEFeatureElimination, min-max,CrossEntropyLoss, len = 70 and Adam, lr = 0.001\n",
            "Model: PyTorch Best Epoch: 56 | Best Loss: 1.21337 | Best Acc: 53.12%  with RFEFeatureElimination, min-max,CrossEntropyLoss, len = 70 and Adam, lr = 0.001\n",
            "Model: PyTorch Best Epoch: 58 | Best Loss: 1.21301 | Best Acc: 53.23%  with RFEFeatureElimination, min-max,CrossEntropyLoss, len = 70 and Adam, lr = 0.001\n",
            "Model: PyTorch Best Epoch: 123 | Best Loss: 1.21119 | Best Acc: 53.28%  with RFEFeatureElimination, min-max,CrossEntropyLoss, len = 70 and Adam, lr = 0.001\n",
            "Model: PyTorch Best Epoch: 126 | Best Loss: 1.21065 | Best Acc: 53.34%  with RFEFeatureElimination, min-max,CrossEntropyLoss, len = 70 and Adam, lr = 0.001\n",
            "Model: PyTorch Best Epoch: 144 | Best Loss: 1.20989 | Best Acc: 53.39%  with RFEFeatureElimination, min-max,CrossEntropyLoss, len = 70 and Adam, lr = 0.001\n",
            "Model: PyTorch Best Epoch: 156 | Best Loss: 1.20962 | Best Acc: 53.45%  with RFEFeatureElimination, min-max,CrossEntropyLoss, len = 70 and Adam, lr = 0.001\n",
            "Model: PyTorch Best Epoch: 166 | Best Loss: 1.20896 | Best Acc: 53.56%  with RFEFeatureElimination, min-max,CrossEntropyLoss, len = 70 and Adam, lr = 0.001\n",
            "Model: PyTorch Best Epoch: 168 | Best Loss: 1.20796 | Best Acc: 53.67%  with RFEFeatureElimination, min-max,CrossEntropyLoss, len = 70 and Adam, lr = 0.001\n",
            "Model: PyTorch Best Epoch: 171 | Best Loss: 1.20696 | Best Acc: 53.72%  with RFEFeatureElimination, min-max,CrossEntropyLoss, len = 70 and Adam, lr = 0.001\n",
            "Model: PyTorch Best Epoch: 175 | Best Loss: 1.20495 | Best Acc: 53.83%  with RFEFeatureElimination, min-max,CrossEntropyLoss, len = 70 and Adam, lr = 0.001\n",
            "Model: PyTorch Best Epoch: 178 | Best Loss: 1.20116 | Best Acc: 54.16%  with RFEFeatureElimination, min-max,CrossEntropyLoss, len = 70 and Adam, lr = 0.001\n",
            "Model: PyTorch Best Epoch: 181 | Best Loss: 1.19499 | Best Acc: 54.70%  with RFEFeatureElimination, min-max,CrossEntropyLoss, len = 70 and Adam, lr = 0.001\n",
            "END OF ITERATION WITH FEATURES LEN = 70\n",
            "Model: PyTorch Best Epoch: 0 | Best Loss: 1.62158 | Best Acc: 0.55%  with RFEFeatureElimination, min-max,CrossEntropyLoss, len = 70 and Adam, lr = 0.001\n",
            "Model: PyTorch Best Epoch: 1 | Best Loss: 1.22400 | Best Acc: 50.22%  with RFEFeatureElimination, min-max,CrossEntropyLoss, len = 70 and Adam, lr = 0.001\n",
            "Model: PyTorch Best Epoch: 9 | Best Loss: 1.18651 | Best Acc: 50.27%  with RFEFeatureElimination, min-max,CrossEntropyLoss, len = 70 and Adam, lr = 0.001\n",
            "Model: PyTorch Best Epoch: 10 | Best Loss: 1.17116 | Best Acc: 50.60%  with RFEFeatureElimination, min-max,CrossEntropyLoss, len = 70 and Adam, lr = 0.001\n",
            "Model: PyTorch Best Epoch: 14 | Best Loss: 1.20877 | Best Acc: 50.66%  with RFEFeatureElimination, min-max,CrossEntropyLoss, len = 70 and Adam, lr = 0.001\n",
            "Model: PyTorch Best Epoch: 15 | Best Loss: 1.22175 | Best Acc: 50.71%  with RFEFeatureElimination, min-max,CrossEntropyLoss, len = 70 and Adam, lr = 0.001\n",
            "Model: PyTorch Best Epoch: 26 | Best Loss: 1.23374 | Best Acc: 50.82%  with RFEFeatureElimination, min-max,CrossEntropyLoss, len = 70 and Adam, lr = 0.001\n",
            "Model: PyTorch Best Epoch: 33 | Best Loss: 1.22771 | Best Acc: 50.93%  with RFEFeatureElimination, min-max,CrossEntropyLoss, len = 70 and Adam, lr = 0.001\n",
            "Model: PyTorch Best Epoch: 34 | Best Loss: 1.22555 | Best Acc: 51.31%  with RFEFeatureElimination, min-max,CrossEntropyLoss, len = 70 and Adam, lr = 0.001\n",
            "Model: PyTorch Best Epoch: 35 | Best Loss: 1.22275 | Best Acc: 51.81%  with RFEFeatureElimination, min-max,CrossEntropyLoss, len = 70 and Adam, lr = 0.001\n",
            "Model: PyTorch Best Epoch: 36 | Best Loss: 1.21896 | Best Acc: 51.91%  with RFEFeatureElimination, min-max,CrossEntropyLoss, len = 70 and Adam, lr = 0.001\n",
            "Model: PyTorch Best Epoch: 37 | Best Loss: 1.21347 | Best Acc: 52.30%  with RFEFeatureElimination, min-max,CrossEntropyLoss, len = 70 and Adam, lr = 0.001\n",
            "Model: PyTorch Best Epoch: 38 | Best Loss: 1.20521 | Best Acc: 52.84%  with RFEFeatureElimination, min-max,CrossEntropyLoss, len = 70 and Adam, lr = 0.001\n",
            "Model: PyTorch Best Epoch: 39 | Best Loss: 1.19355 | Best Acc: 54.32%  with RFEFeatureElimination, min-max,CrossEntropyLoss, len = 70 and Adam, lr = 0.001\n",
            "Model: PyTorch Best Epoch: 40 | Best Loss: 1.16890 | Best Acc: 56.18%  with RFEFeatureElimination, min-max,CrossEntropyLoss, len = 70 and Adam, lr = 0.001\n",
            "Model: PyTorch Best Epoch: 58 | Best Loss: 1.16567 | Best Acc: 57.11%  with RFEFeatureElimination, min-max,CrossEntropyLoss, len = 70 and Adam, lr = 0.001\n",
            "Model: PyTorch Best Epoch: 59 | Best Loss: 1.13316 | Best Acc: 59.96%  with RFEFeatureElimination, min-max,CrossEntropyLoss, len = 70 and Adam, lr = 0.001\n",
            "END OF ITERATION WITH FEATURES LEN = 70\n",
            "Mean Test Accuracy: 54.8578 \n",
            " Mean f1: 0.3808363611188018 \n",
            " Mean_recall: 0.5249452954048139 \n",
            " Mean_Precision: 0.699485982636344 \n",
            " Mean_Mcc: 0.0977751144245113 \n",
            "\n",
            "Model: PyTorch Best Epoch: 0 | Best Loss: 1.26902 | Best Acc: 48.19%  with RFEFeatureElimination, min-max,CrossEntropyLoss, len = 71 and Adam, lr = 0.001\n",
            "Model: PyTorch Best Epoch: 21 | Best Loss: 1.26123 | Best Acc: 48.25%  with RFEFeatureElimination, min-max,CrossEntropyLoss, len = 71 and Adam, lr = 0.001\n",
            "Model: PyTorch Best Epoch: 33 | Best Loss: 1.26065 | Best Acc: 48.30%  with RFEFeatureElimination, min-max,CrossEntropyLoss, len = 71 and Adam, lr = 0.001\n",
            "Model: PyTorch Best Epoch: 34 | Best Loss: 1.26055 | Best Acc: 48.36%  with RFEFeatureElimination, min-max,CrossEntropyLoss, len = 71 and Adam, lr = 0.001\n",
            "Model: PyTorch Best Epoch: 41 | Best Loss: 1.25972 | Best Acc: 48.41%  with RFEFeatureElimination, min-max,CrossEntropyLoss, len = 71 and Adam, lr = 0.001\n",
            "Model: PyTorch Best Epoch: 42 | Best Loss: 1.25962 | Best Acc: 48.47%  with RFEFeatureElimination, min-max,CrossEntropyLoss, len = 71 and Adam, lr = 0.001\n",
            "Model: PyTorch Best Epoch: 47 | Best Loss: 1.25758 | Best Acc: 48.69%  with RFEFeatureElimination, min-max,CrossEntropyLoss, len = 71 and Adam, lr = 0.001\n",
            "Model: PyTorch Best Epoch: 49 | Best Loss: 1.25718 | Best Acc: 48.85%  with RFEFeatureElimination, min-max,CrossEntropyLoss, len = 71 and Adam, lr = 0.001\n",
            "Model: PyTorch Best Epoch: 55 | Best Loss: 1.25557 | Best Acc: 48.91%  with RFEFeatureElimination, min-max,CrossEntropyLoss, len = 71 and Adam, lr = 0.001\n",
            "Model: PyTorch Best Epoch: 57 | Best Loss: 1.25494 | Best Acc: 48.96%  with RFEFeatureElimination, min-max,CrossEntropyLoss, len = 71 and Adam, lr = 0.001\n",
            "Model: PyTorch Best Epoch: 58 | Best Loss: 1.25477 | Best Acc: 49.02%  with RFEFeatureElimination, min-max,CrossEntropyLoss, len = 71 and Adam, lr = 0.001\n",
            "Model: PyTorch Best Epoch: 59 | Best Loss: 1.25430 | Best Acc: 49.07%  with RFEFeatureElimination, min-max,CrossEntropyLoss, len = 71 and Adam, lr = 0.001\n",
            "Model: PyTorch Best Epoch: 61 | Best Loss: 1.25374 | Best Acc: 49.18%  with RFEFeatureElimination, min-max,CrossEntropyLoss, len = 71 and Adam, lr = 0.001\n",
            "Model: PyTorch Best Epoch: 64 | Best Loss: 1.21907 | Best Acc: 52.35%  with RFEFeatureElimination, min-max,CrossEntropyLoss, len = 71 and Adam, lr = 0.001\n",
            "Model: PyTorch Best Epoch: 65 | Best Loss: 1.22003 | Best Acc: 52.41%  with RFEFeatureElimination, min-max,CrossEntropyLoss, len = 71 and Adam, lr = 0.001\n",
            "Model: PyTorch Best Epoch: 73 | Best Loss: 1.21950 | Best Acc: 52.46%  with RFEFeatureElimination, min-max,CrossEntropyLoss, len = 71 and Adam, lr = 0.001\n",
            "Model: PyTorch Best Epoch: 74 | Best Loss: 1.21922 | Best Acc: 52.52%  with RFEFeatureElimination, min-max,CrossEntropyLoss, len = 71 and Adam, lr = 0.001\n",
            "Model: PyTorch Best Epoch: 79 | Best Loss: 1.21858 | Best Acc: 52.57%  with RFEFeatureElimination, min-max,CrossEntropyLoss, len = 71 and Adam, lr = 0.001\n",
            "Model: PyTorch Best Epoch: 93 | Best Loss: 1.21764 | Best Acc: 52.63%  with RFEFeatureElimination, min-max,CrossEntropyLoss, len = 71 and Adam, lr = 0.001\n",
            "Model: PyTorch Best Epoch: 115 | Best Loss: 1.21717 | Best Acc: 52.68%  with RFEFeatureElimination, min-max,CrossEntropyLoss, len = 71 and Adam, lr = 0.001\n",
            "Model: PyTorch Best Epoch: 138 | Best Loss: 1.21699 | Best Acc: 52.74%  with RFEFeatureElimination, min-max,CrossEntropyLoss, len = 71 and Adam, lr = 0.001\n",
            "END OF ITERATION WITH FEATURES LEN = 71\n",
            "Model: PyTorch Best Epoch: 0 | Best Loss: 1.25652 | Best Acc: 50.22%  with RFEFeatureElimination, min-max,CrossEntropyLoss, len = 71 and Adam, lr = 0.001\n",
            "Model: PyTorch Best Epoch: 19 | Best Loss: 1.24188 | Best Acc: 50.27%  with RFEFeatureElimination, min-max,CrossEntropyLoss, len = 71 and Adam, lr = 0.001\n",
            "Model: PyTorch Best Epoch: 40 | Best Loss: 1.24241 | Best Acc: 50.33%  with RFEFeatureElimination, min-max,CrossEntropyLoss, len = 71 and Adam, lr = 0.001\n",
            "Model: PyTorch Best Epoch: 52 | Best Loss: 1.23644 | Best Acc: 50.38%  with RFEFeatureElimination, min-max,CrossEntropyLoss, len = 71 and Adam, lr = 0.001\n",
            "Model: PyTorch Best Epoch: 54 | Best Loss: 1.23155 | Best Acc: 50.98%  with RFEFeatureElimination, min-max,CrossEntropyLoss, len = 71 and Adam, lr = 0.001\n",
            "Model: PyTorch Best Epoch: 55 | Best Loss: 1.22491 | Best Acc: 51.53%  with RFEFeatureElimination, min-max,CrossEntropyLoss, len = 71 and Adam, lr = 0.001\n",
            "Model: PyTorch Best Epoch: 57 | Best Loss: 1.22358 | Best Acc: 51.97%  with RFEFeatureElimination, min-max,CrossEntropyLoss, len = 71 and Adam, lr = 0.001\n",
            "Model: PyTorch Best Epoch: 58 | Best Loss: 1.21399 | Best Acc: 52.74%  with RFEFeatureElimination, min-max,CrossEntropyLoss, len = 71 and Adam, lr = 0.001\n",
            "Model: PyTorch Best Epoch: 59 | Best Loss: 1.15030 | Best Acc: 58.37%  with RFEFeatureElimination, min-max,CrossEntropyLoss, len = 71 and Adam, lr = 0.001\n",
            "Model: PyTorch Best Epoch: 180 | Best Loss: 1.10803 | Best Acc: 62.75%  with RFEFeatureElimination, min-max,CrossEntropyLoss, len = 71 and Adam, lr = 0.001\n",
            "END OF ITERATION WITH FEATURES LEN = 71\n",
            "Model: PyTorch Best Epoch: 0 | Best Loss: 1.23222 | Best Acc: 50.98%  with RFEFeatureElimination, min-max,CrossEntropyLoss, len = 71 and Adam, lr = 0.001\n",
            "Model: PyTorch Best Epoch: 2 | Best Loss: 1.23259 | Best Acc: 51.15%  with RFEFeatureElimination, min-max,CrossEntropyLoss, len = 71 and Adam, lr = 0.001\n",
            "Model: PyTorch Best Epoch: 11 | Best Loss: 1.22551 | Best Acc: 51.48%  with RFEFeatureElimination, min-max,CrossEntropyLoss, len = 71 and Adam, lr = 0.001\n",
            "Model: PyTorch Best Epoch: 12 | Best Loss: 1.22231 | Best Acc: 51.53%  with RFEFeatureElimination, min-max,CrossEntropyLoss, len = 71 and Adam, lr = 0.001\n",
            "Model: PyTorch Best Epoch: 13 | Best Loss: 1.21582 | Best Acc: 51.91%  with RFEFeatureElimination, min-max,CrossEntropyLoss, len = 71 and Adam, lr = 0.001\n",
            "Model: PyTorch Best Epoch: 14 | Best Loss: 1.19719 | Best Acc: 52.74%  with RFEFeatureElimination, min-max,CrossEntropyLoss, len = 71 and Adam, lr = 0.001\n",
            "Model: PyTorch Best Epoch: 16 | Best Loss: 1.20197 | Best Acc: 52.90%  with RFEFeatureElimination, min-max,CrossEntropyLoss, len = 71 and Adam, lr = 0.001\n",
            "Model: PyTorch Best Epoch: 35 | Best Loss: 1.20617 | Best Acc: 53.39%  with RFEFeatureElimination, min-max,CrossEntropyLoss, len = 71 and Adam, lr = 0.001\n",
            "Model: PyTorch Best Epoch: 36 | Best Loss: 1.19309 | Best Acc: 54.38%  with RFEFeatureElimination, min-max,CrossEntropyLoss, len = 71 and Adam, lr = 0.001\n",
            "Model: PyTorch Best Epoch: 37 | Best Loss: 1.15956 | Best Acc: 57.55%  with RFEFeatureElimination, min-max,CrossEntropyLoss, len = 71 and Adam, lr = 0.001\n",
            "Model: PyTorch Best Epoch: 57 | Best Loss: 1.15979 | Best Acc: 57.88%  with RFEFeatureElimination, min-max,CrossEntropyLoss, len = 71 and Adam, lr = 0.001\n",
            "Model: PyTorch Best Epoch: 58 | Best Loss: 1.13957 | Best Acc: 59.90%  with RFEFeatureElimination, min-max,CrossEntropyLoss, len = 71 and Adam, lr = 0.001\n",
            "Model: PyTorch Best Epoch: 59 | Best Loss: 1.10421 | Best Acc: 63.02%  with RFEFeatureElimination, min-max,CrossEntropyLoss, len = 71 and Adam, lr = 0.001\n",
            "Model: PyTorch Best Epoch: 61 | Best Loss: 1.10718 | Best Acc: 63.35%  with RFEFeatureElimination, min-max,CrossEntropyLoss, len = 71 and Adam, lr = 0.001\n",
            "Model: PyTorch Best Epoch: 66 | Best Loss: 1.08756 | Best Acc: 64.39%  with RFEFeatureElimination, min-max,CrossEntropyLoss, len = 71 and Adam, lr = 0.001\n",
            "Model: PyTorch Best Epoch: 68 | Best Loss: 1.08350 | Best Acc: 65.04%  with RFEFeatureElimination, min-max,CrossEntropyLoss, len = 71 and Adam, lr = 0.001\n",
            "Model: PyTorch Best Epoch: 73 | Best Loss: 1.07707 | Best Acc: 66.30%  with RFEFeatureElimination, min-max,CrossEntropyLoss, len = 71 and Adam, lr = 0.001\n",
            "Model: PyTorch Best Epoch: 82 | Best Loss: 1.07211 | Best Acc: 66.63%  with RFEFeatureElimination, min-max,CrossEntropyLoss, len = 71 and Adam, lr = 0.001\n",
            "Model: PyTorch Best Epoch: 84 | Best Loss: 1.07163 | Best Acc: 66.90%  with RFEFeatureElimination, min-max,CrossEntropyLoss, len = 71 and Adam, lr = 0.001\n",
            "Model: PyTorch Best Epoch: 88 | Best Loss: 1.06995 | Best Acc: 67.07%  with RFEFeatureElimination, min-max,CrossEntropyLoss, len = 71 and Adam, lr = 0.001\n",
            "Model: PyTorch Best Epoch: 95 | Best Loss: 1.06843 | Best Acc: 67.12%  with RFEFeatureElimination, min-max,CrossEntropyLoss, len = 71 and Adam, lr = 0.001\n",
            "Model: PyTorch Best Epoch: 96 | Best Loss: 1.06846 | Best Acc: 67.18%  with RFEFeatureElimination, min-max,CrossEntropyLoss, len = 71 and Adam, lr = 0.001\n",
            "Model: PyTorch Best Epoch: 101 | Best Loss: 1.06494 | Best Acc: 67.34%  with RFEFeatureElimination, min-max,CrossEntropyLoss, len = 71 and Adam, lr = 0.001\n",
            "Model: PyTorch Best Epoch: 103 | Best Loss: 1.06410 | Best Acc: 67.72%  with RFEFeatureElimination, min-max,CrossEntropyLoss, len = 71 and Adam, lr = 0.001\n",
            "Model: PyTorch Best Epoch: 105 | Best Loss: 1.06347 | Best Acc: 68.00%  with RFEFeatureElimination, min-max,CrossEntropyLoss, len = 71 and Adam, lr = 0.001\n",
            "Model: PyTorch Best Epoch: 187 | Best Loss: 1.06042 | Best Acc: 68.16%  with RFEFeatureElimination, min-max,CrossEntropyLoss, len = 71 and Adam, lr = 0.001\n",
            "Model: PyTorch Best Epoch: 190 | Best Loss: 1.05852 | Best Acc: 68.54%  with RFEFeatureElimination, min-max,CrossEntropyLoss, len = 71 and Adam, lr = 0.001\n",
            "Model: PyTorch Best Epoch: 199 | Best Loss: 1.05532 | Best Acc: 68.60%  with RFEFeatureElimination, min-max,CrossEntropyLoss, len = 71 and Adam, lr = 0.001\n",
            "END OF ITERATION WITH FEATURES LEN = 71\n",
            "Model: PyTorch Best Epoch: 0 | Best Loss: 1.26494 | Best Acc: 47.26%  with RFEFeatureElimination, min-max,CrossEntropyLoss, len = 71 and Adam, lr = 0.001\n",
            "Model: PyTorch Best Epoch: 3 | Best Loss: 1.25108 | Best Acc: 47.54%  with RFEFeatureElimination, min-max,CrossEntropyLoss, len = 71 and Adam, lr = 0.001\n",
            "Model: PyTorch Best Epoch: 4 | Best Loss: 1.23630 | Best Acc: 52.74%  with RFEFeatureElimination, min-max,CrossEntropyLoss, len = 71 and Adam, lr = 0.001\n",
            "Model: PyTorch Best Epoch: 26 | Best Loss: 1.21590 | Best Acc: 52.79%  with RFEFeatureElimination, min-max,CrossEntropyLoss, len = 71 and Adam, lr = 0.001\n",
            "Model: PyTorch Best Epoch: 27 | Best Loss: 1.21584 | Best Acc: 52.84%  with RFEFeatureElimination, min-max,CrossEntropyLoss, len = 71 and Adam, lr = 0.001\n",
            "Model: PyTorch Best Epoch: 37 | Best Loss: 1.21509 | Best Acc: 52.90%  with RFEFeatureElimination, min-max,CrossEntropyLoss, len = 71 and Adam, lr = 0.001\n",
            "Model: PyTorch Best Epoch: 38 | Best Loss: 1.21500 | Best Acc: 52.95%  with RFEFeatureElimination, min-max,CrossEntropyLoss, len = 71 and Adam, lr = 0.001\n",
            "Model: PyTorch Best Epoch: 46 | Best Loss: 1.21406 | Best Acc: 53.01%  with RFEFeatureElimination, min-max,CrossEntropyLoss, len = 71 and Adam, lr = 0.001\n",
            "Model: PyTorch Best Epoch: 49 | Best Loss: 1.21365 | Best Acc: 53.06%  with RFEFeatureElimination, min-max,CrossEntropyLoss, len = 71 and Adam, lr = 0.001\n",
            "Model: PyTorch Best Epoch: 51 | Best Loss: 1.21337 | Best Acc: 53.12%  with RFEFeatureElimination, min-max,CrossEntropyLoss, len = 71 and Adam, lr = 0.001\n",
            "Model: PyTorch Best Epoch: 54 | Best Loss: 1.21289 | Best Acc: 53.17%  with RFEFeatureElimination, min-max,CrossEntropyLoss, len = 71 and Adam, lr = 0.001\n",
            "Model: PyTorch Best Epoch: 55 | Best Loss: 1.21320 | Best Acc: 53.28%  with RFEFeatureElimination, min-max,CrossEntropyLoss, len = 71 and Adam, lr = 0.001\n",
            "Model: PyTorch Best Epoch: 56 | Best Loss: 1.21374 | Best Acc: 53.50%  with RFEFeatureElimination, min-max,CrossEntropyLoss, len = 71 and Adam, lr = 0.001\n",
            "Model: PyTorch Best Epoch: 69 | Best Loss: 1.15262 | Best Acc: 58.59%  with RFEFeatureElimination, min-max,CrossEntropyLoss, len = 71 and Adam, lr = 0.001\n",
            "END OF ITERATION WITH FEATURES LEN = 71\n",
            "Model: PyTorch Best Epoch: 1 | Best Loss: 1.67838 | Best Acc: 0.16%  with RFEFeatureElimination, min-max,CrossEntropyLoss, len = 71 and Adam, lr = 0.001\n",
            "Model: PyTorch Best Epoch: 2 | Best Loss: 1.23815 | Best Acc: 50.22%  with RFEFeatureElimination, min-max,CrossEntropyLoss, len = 71 and Adam, lr = 0.001\n",
            "Model: PyTorch Best Epoch: 6 | Best Loss: 1.23211 | Best Acc: 50.33%  with RFEFeatureElimination, min-max,CrossEntropyLoss, len = 71 and Adam, lr = 0.001\n",
            "Model: PyTorch Best Epoch: 7 | Best Loss: 1.22716 | Best Acc: 50.49%  with RFEFeatureElimination, min-max,CrossEntropyLoss, len = 71 and Adam, lr = 0.001\n",
            "Model: PyTorch Best Epoch: 8 | Best Loss: 1.21348 | Best Acc: 50.93%  with RFEFeatureElimination, min-max,CrossEntropyLoss, len = 71 and Adam, lr = 0.001\n",
            "Model: PyTorch Best Epoch: 11 | Best Loss: 1.17846 | Best Acc: 54.21%  with RFEFeatureElimination, min-max,CrossEntropyLoss, len = 71 and Adam, lr = 0.001\n",
            "Model: PyTorch Best Epoch: 143 | Best Loss: 1.18158 | Best Acc: 54.65%  with RFEFeatureElimination, min-max,CrossEntropyLoss, len = 71 and Adam, lr = 0.001\n",
            "END OF ITERATION WITH FEATURES LEN = 71\n",
            "Mean Test Accuracy: 59.4639 \n",
            " Mean f1: 0.41830163089401184 \n",
            " Mean_recall: 0.5480306345733041 \n",
            " Mean_Precision: 0.43375312185712767 \n",
            " Mean_Mcc: 0.09199838660531588 \n",
            "\n",
            "Model: PyTorch Best Epoch: 0 | Best Loss: 1.28418 | Best Acc: 48.19%  with RFEFeatureElimination, min-max,CrossEntropyLoss, len = 72 and Adam, lr = 0.001\n",
            "Model: PyTorch Best Epoch: 31 | Best Loss: 1.26121 | Best Acc: 48.25%  with RFEFeatureElimination, min-max,CrossEntropyLoss, len = 72 and Adam, lr = 0.001\n",
            "Model: PyTorch Best Epoch: 44 | Best Loss: 1.26044 | Best Acc: 48.36%  with RFEFeatureElimination, min-max,CrossEntropyLoss, len = 72 and Adam, lr = 0.001\n",
            "Model: PyTorch Best Epoch: 49 | Best Loss: 1.25992 | Best Acc: 48.41%  with RFEFeatureElimination, min-max,CrossEntropyLoss, len = 72 and Adam, lr = 0.001\n",
            "Model: PyTorch Best Epoch: 51 | Best Loss: 1.25947 | Best Acc: 48.52%  with RFEFeatureElimination, min-max,CrossEntropyLoss, len = 72 and Adam, lr = 0.001\n",
            "Model: PyTorch Best Epoch: 58 | Best Loss: 1.25777 | Best Acc: 48.58%  with RFEFeatureElimination, min-max,CrossEntropyLoss, len = 72 and Adam, lr = 0.001\n",
            "Model: PyTorch Best Epoch: 63 | Best Loss: 1.25679 | Best Acc: 48.74%  with RFEFeatureElimination, min-max,CrossEntropyLoss, len = 72 and Adam, lr = 0.001\n",
            "Model: PyTorch Best Epoch: 68 | Best Loss: 1.25594 | Best Acc: 48.91%  with RFEFeatureElimination, min-max,CrossEntropyLoss, len = 72 and Adam, lr = 0.001\n",
            "Model: PyTorch Best Epoch: 72 | Best Loss: 1.25522 | Best Acc: 48.96%  with RFEFeatureElimination, min-max,CrossEntropyLoss, len = 72 and Adam, lr = 0.001\n",
            "Model: PyTorch Best Epoch: 74 | Best Loss: 1.25492 | Best Acc: 49.02%  with RFEFeatureElimination, min-max,CrossEntropyLoss, len = 72 and Adam, lr = 0.001\n",
            "Model: PyTorch Best Epoch: 83 | Best Loss: 1.25362 | Best Acc: 49.07%  with RFEFeatureElimination, min-max,CrossEntropyLoss, len = 72 and Adam, lr = 0.001\n",
            "Model: PyTorch Best Epoch: 86 | Best Loss: 1.25330 | Best Acc: 49.12%  with RFEFeatureElimination, min-max,CrossEntropyLoss, len = 72 and Adam, lr = 0.001\n",
            "Model: PyTorch Best Epoch: 98 | Best Loss: 1.25258 | Best Acc: 49.23%  with RFEFeatureElimination, min-max,CrossEntropyLoss, len = 72 and Adam, lr = 0.001\n",
            "Model: PyTorch Best Epoch: 101 | Best Loss: 1.24716 | Best Acc: 49.56%  with RFEFeatureElimination, min-max,CrossEntropyLoss, len = 72 and Adam, lr = 0.001\n",
            "Model: PyTorch Best Epoch: 102 | Best Loss: 1.21378 | Best Acc: 52.95%  with RFEFeatureElimination, min-max,CrossEntropyLoss, len = 72 and Adam, lr = 0.001\n",
            "Model: PyTorch Best Epoch: 104 | Best Loss: 1.21264 | Best Acc: 53.12%  with RFEFeatureElimination, min-max,CrossEntropyLoss, len = 72 and Adam, lr = 0.001\n",
            "Model: PyTorch Best Epoch: 105 | Best Loss: 1.20286 | Best Acc: 53.77%  with RFEFeatureElimination, min-max,CrossEntropyLoss, len = 72 and Adam, lr = 0.001\n",
            "Model: PyTorch Best Epoch: 106 | Best Loss: 1.16245 | Best Acc: 57.93%  with RFEFeatureElimination, min-max,CrossEntropyLoss, len = 72 and Adam, lr = 0.001\n",
            "END OF ITERATION WITH FEATURES LEN = 72\n",
            "Model: PyTorch Best Epoch: 0 | Best Loss: 1.23776 | Best Acc: 50.05%  with RFEFeatureElimination, min-max,CrossEntropyLoss, len = 72 and Adam, lr = 0.001\n",
            "Model: PyTorch Best Epoch: 12 | Best Loss: 1.21446 | Best Acc: 50.22%  with RFEFeatureElimination, min-max,CrossEntropyLoss, len = 72 and Adam, lr = 0.001\n",
            "Model: PyTorch Best Epoch: 13 | Best Loss: 1.18470 | Best Acc: 51.75%  with RFEFeatureElimination, min-max,CrossEntropyLoss, len = 72 and Adam, lr = 0.001\n",
            "Model: PyTorch Best Epoch: 84 | Best Loss: 1.21804 | Best Acc: 52.63%  with RFEFeatureElimination, min-max,CrossEntropyLoss, len = 72 and Adam, lr = 0.001\n",
            "Model: PyTorch Best Epoch: 85 | Best Loss: 1.18254 | Best Acc: 55.96%  with RFEFeatureElimination, min-max,CrossEntropyLoss, len = 72 and Adam, lr = 0.001\n",
            "Model: PyTorch Best Epoch: 117 | Best Loss: 1.12020 | Best Acc: 61.87%  with RFEFeatureElimination, min-max,CrossEntropyLoss, len = 72 and Adam, lr = 0.001\n",
            "END OF ITERATION WITH FEATURES LEN = 72\n",
            "Model: PyTorch Best Epoch: 0 | Best Loss: 1.26219 | Best Acc: 48.85%  with RFEFeatureElimination, min-max,CrossEntropyLoss, len = 72 and Adam, lr = 0.001\n",
            "Model: PyTorch Best Epoch: 1 | Best Loss: 1.25907 | Best Acc: 49.07%  with RFEFeatureElimination, min-max,CrossEntropyLoss, len = 72 and Adam, lr = 0.001\n",
            "Model: PyTorch Best Epoch: 51 | Best Loss: 1.25218 | Best Acc: 49.12%  with RFEFeatureElimination, min-max,CrossEntropyLoss, len = 72 and Adam, lr = 0.001\n",
            "Model: PyTorch Best Epoch: 54 | Best Loss: 1.25133 | Best Acc: 49.29%  with RFEFeatureElimination, min-max,CrossEntropyLoss, len = 72 and Adam, lr = 0.001\n",
            "Model: PyTorch Best Epoch: 56 | Best Loss: 1.25117 | Best Acc: 49.34%  with RFEFeatureElimination, min-max,CrossEntropyLoss, len = 72 and Adam, lr = 0.001\n",
            "Model: PyTorch Best Epoch: 67 | Best Loss: 1.25008 | Best Acc: 49.40%  with RFEFeatureElimination, min-max,CrossEntropyLoss, len = 72 and Adam, lr = 0.001\n",
            "Model: PyTorch Best Epoch: 70 | Best Loss: 1.24992 | Best Acc: 49.45%  with RFEFeatureElimination, min-max,CrossEntropyLoss, len = 72 and Adam, lr = 0.001\n",
            "Model: PyTorch Best Epoch: 78 | Best Loss: 1.24875 | Best Acc: 49.51%  with RFEFeatureElimination, min-max,CrossEntropyLoss, len = 72 and Adam, lr = 0.001\n",
            "Model: PyTorch Best Epoch: 82 | Best Loss: 1.24823 | Best Acc: 49.56%  with RFEFeatureElimination, min-max,CrossEntropyLoss, len = 72 and Adam, lr = 0.001\n",
            "Model: PyTorch Best Epoch: 86 | Best Loss: 1.24800 | Best Acc: 49.62%  with RFEFeatureElimination, min-max,CrossEntropyLoss, len = 72 and Adam, lr = 0.001\n",
            "Model: PyTorch Best Epoch: 89 | Best Loss: 1.24772 | Best Acc: 49.67%  with RFEFeatureElimination, min-max,CrossEntropyLoss, len = 72 and Adam, lr = 0.001\n",
            "Model: PyTorch Best Epoch: 102 | Best Loss: 1.24551 | Best Acc: 49.84%  with RFEFeatureElimination, min-max,CrossEntropyLoss, len = 72 and Adam, lr = 0.001\n",
            "Model: PyTorch Best Epoch: 103 | Best Loss: 1.24202 | Best Acc: 50.16%  with RFEFeatureElimination, min-max,CrossEntropyLoss, len = 72 and Adam, lr = 0.001\n",
            "Model: PyTorch Best Epoch: 104 | Best Loss: 1.23875 | Best Acc: 50.38%  with RFEFeatureElimination, min-max,CrossEntropyLoss, len = 72 and Adam, lr = 0.001\n",
            "Model: PyTorch Best Epoch: 105 | Best Loss: 1.20595 | Best Acc: 53.50%  with RFEFeatureElimination, min-max,CrossEntropyLoss, len = 72 and Adam, lr = 0.001\n",
            "END OF ITERATION WITH FEATURES LEN = 72\n",
            "Model: PyTorch Best Epoch: 0 | Best Loss: 1.26365 | Best Acc: 47.26%  with RFEFeatureElimination, min-max,CrossEntropyLoss, len = 72 and Adam, lr = 0.001\n",
            "Model: PyTorch Best Epoch: 3 | Best Loss: 1.26256 | Best Acc: 47.59%  with RFEFeatureElimination, min-max,CrossEntropyLoss, len = 72 and Adam, lr = 0.001\n",
            "Model: PyTorch Best Epoch: 5 | Best Loss: 1.25732 | Best Acc: 47.70%  with RFEFeatureElimination, min-max,CrossEntropyLoss, len = 72 and Adam, lr = 0.001\n",
            "Model: PyTorch Best Epoch: 6 | Best Loss: 1.24957 | Best Acc: 47.76%  with RFEFeatureElimination, min-max,CrossEntropyLoss, len = 72 and Adam, lr = 0.001\n",
            "Model: PyTorch Best Epoch: 7 | Best Loss: 1.22421 | Best Acc: 49.29%  with RFEFeatureElimination, min-max,CrossEntropyLoss, len = 72 and Adam, lr = 0.001\n",
            "Model: PyTorch Best Epoch: 8 | Best Loss: 1.23088 | Best Acc: 52.74%  with RFEFeatureElimination, min-max,CrossEntropyLoss, len = 72 and Adam, lr = 0.001\n",
            "Model: PyTorch Best Epoch: 18 | Best Loss: 1.21649 | Best Acc: 52.79%  with RFEFeatureElimination, min-max,CrossEntropyLoss, len = 72 and Adam, lr = 0.001\n",
            "Model: PyTorch Best Epoch: 21 | Best Loss: 1.21603 | Best Acc: 52.84%  with RFEFeatureElimination, min-max,CrossEntropyLoss, len = 72 and Adam, lr = 0.001\n",
            "Model: PyTorch Best Epoch: 35 | Best Loss: 1.21498 | Best Acc: 52.90%  with RFEFeatureElimination, min-max,CrossEntropyLoss, len = 72 and Adam, lr = 0.001\n",
            "Model: PyTorch Best Epoch: 38 | Best Loss: 1.21474 | Best Acc: 52.95%  with RFEFeatureElimination, min-max,CrossEntropyLoss, len = 72 and Adam, lr = 0.001\n",
            "Model: PyTorch Best Epoch: 46 | Best Loss: 1.21393 | Best Acc: 53.01%  with RFEFeatureElimination, min-max,CrossEntropyLoss, len = 72 and Adam, lr = 0.001\n",
            "Model: PyTorch Best Epoch: 50 | Best Loss: 1.21335 | Best Acc: 53.06%  with RFEFeatureElimination, min-max,CrossEntropyLoss, len = 72 and Adam, lr = 0.001\n",
            "Model: PyTorch Best Epoch: 51 | Best Loss: 1.21324 | Best Acc: 53.12%  with RFEFeatureElimination, min-max,CrossEntropyLoss, len = 72 and Adam, lr = 0.001\n",
            "Model: PyTorch Best Epoch: 52 | Best Loss: 1.21327 | Best Acc: 53.17%  with RFEFeatureElimination, min-max,CrossEntropyLoss, len = 72 and Adam, lr = 0.001\n",
            "Model: PyTorch Best Epoch: 58 | Best Loss: 1.21273 | Best Acc: 53.23%  with RFEFeatureElimination, min-max,CrossEntropyLoss, len = 72 and Adam, lr = 0.001\n",
            "Model: PyTorch Best Epoch: 66 | Best Loss: 1.21153 | Best Acc: 53.28%  with RFEFeatureElimination, min-max,CrossEntropyLoss, len = 72 and Adam, lr = 0.001\n",
            "Model: PyTorch Best Epoch: 68 | Best Loss: 1.21122 | Best Acc: 53.34%  with RFEFeatureElimination, min-max,CrossEntropyLoss, len = 72 and Adam, lr = 0.001\n",
            "Model: PyTorch Best Epoch: 76 | Best Loss: 1.21035 | Best Acc: 53.39%  with RFEFeatureElimination, min-max,CrossEntropyLoss, len = 72 and Adam, lr = 0.001\n",
            "Model: PyTorch Best Epoch: 80 | Best Loss: 1.21005 | Best Acc: 53.45%  with RFEFeatureElimination, min-max,CrossEntropyLoss, len = 72 and Adam, lr = 0.001\n",
            "Model: PyTorch Best Epoch: 84 | Best Loss: 1.20990 | Best Acc: 53.56%  with RFEFeatureElimination, min-max,CrossEntropyLoss, len = 72 and Adam, lr = 0.001\n",
            "Model: PyTorch Best Epoch: 165 | Best Loss: 1.20772 | Best Acc: 53.61%  with RFEFeatureElimination, min-max,CrossEntropyLoss, len = 72 and Adam, lr = 0.001\n",
            "Model: PyTorch Best Epoch: 166 | Best Loss: 1.20680 | Best Acc: 53.94%  with RFEFeatureElimination, min-max,CrossEntropyLoss, len = 72 and Adam, lr = 0.001\n",
            "END OF ITERATION WITH FEATURES LEN = 72\n",
            "Model: PyTorch Best Epoch: 0 | Best Loss: 1.25922 | Best Acc: 49.89%  with RFEFeatureElimination, min-max,CrossEntropyLoss, len = 72 and Adam, lr = 0.001\n",
            "Model: PyTorch Best Epoch: 46 | Best Loss: 1.24440 | Best Acc: 50.00%  with RFEFeatureElimination, min-max,CrossEntropyLoss, len = 72 and Adam, lr = 0.001\n",
            "Model: PyTorch Best Epoch: 61 | Best Loss: 1.24299 | Best Acc: 50.11%  with RFEFeatureElimination, min-max,CrossEntropyLoss, len = 72 and Adam, lr = 0.001\n",
            "Model: PyTorch Best Epoch: 62 | Best Loss: 1.24281 | Best Acc: 50.16%  with RFEFeatureElimination, min-max,CrossEntropyLoss, len = 72 and Adam, lr = 0.001\n",
            "Model: PyTorch Best Epoch: 64 | Best Loss: 1.24214 | Best Acc: 50.22%  with RFEFeatureElimination, min-max,CrossEntropyLoss, len = 72 and Adam, lr = 0.001\n",
            "Model: PyTorch Best Epoch: 66 | Best Loss: 1.24117 | Best Acc: 50.33%  with RFEFeatureElimination, min-max,CrossEntropyLoss, len = 72 and Adam, lr = 0.001\n",
            "Model: PyTorch Best Epoch: 67 | Best Loss: 1.24101 | Best Acc: 50.38%  with RFEFeatureElimination, min-max,CrossEntropyLoss, len = 72 and Adam, lr = 0.001\n",
            "Model: PyTorch Best Epoch: 84 | Best Loss: 1.23932 | Best Acc: 50.44%  with RFEFeatureElimination, min-max,CrossEntropyLoss, len = 72 and Adam, lr = 0.001\n",
            "Model: PyTorch Best Epoch: 86 | Best Loss: 1.23619 | Best Acc: 50.88%  with RFEFeatureElimination, min-max,CrossEntropyLoss, len = 72 and Adam, lr = 0.001\n",
            "Model: PyTorch Best Epoch: 87 | Best Loss: 1.22349 | Best Acc: 51.53%  with RFEFeatureElimination, min-max,CrossEntropyLoss, len = 72 and Adam, lr = 0.001\n",
            "Model: PyTorch Best Epoch: 90 | Best Loss: 1.20904 | Best Acc: 53.39%  with RFEFeatureElimination, min-max,CrossEntropyLoss, len = 72 and Adam, lr = 0.001\n",
            "Model: PyTorch Best Epoch: 91 | Best Loss: 1.17782 | Best Acc: 56.24%  with RFEFeatureElimination, min-max,CrossEntropyLoss, len = 72 and Adam, lr = 0.001\n",
            "END OF ITERATION WITH FEATURES LEN = 72\n",
            "Mean Test Accuracy: 56.6958 \n",
            " Mean f1: 0.3490617458935113 \n",
            " Mean_recall: 0.5055798687089715 \n",
            " Mean_Precision: 0.6562881963585857 \n",
            " Mean_Mcc: 0.057995285610079904 \n",
            "\n",
            "******************************************************************************\n",
            "Best Accuracy: 56.2363 with:\n",
            "f1: 0.34861440083201706 \n",
            "recall: 0.5054704595185996 \n",
            "Precision: 0.7205315221644181 \n",
            "Mcc: 0.08181171658581872 \n",
            "Parameters: Model: PyTorch Best Epoch: 91 | Best Loss: 1.17782 | Best Acc: 56.24%  with RFEFeatureElimination, min-max,CrossEntropyLoss, len = 72 and Adam, lr = 0.001\n"
          ]
        },
        {
          "data": {
            "image/png": "[encoded data removed]",
            "text/plain": [
              "<Figure size 576x432 with 1 Axes>"
            ]
          },
          "metadata": {
            "needs_background": "light"
          },
          "output_type": "display_data"
        }
      ],
      "source": [
        "RunThePredictAlgorithm(oversampling_df2, 73, 'min-max', RFEFeatureElimination, PyTorch_TrainTest_Step,\n",
        "                       True, accuracy_method= accuracy_fn, loss_method=nn.CrossEntropyLoss(), optimizer_method='Adam', lr = 0.001, version_numer='V3')"
      ]
    },
    {
      "cell_type": "markdown",
      "metadata": {},
      "source": [
        "### Confusion Matrix For Our Best Algorithm (Random Forest)"
      ]
    },
    {
      "cell_type": "code",
      "execution_count": 444,
      "metadata": {},
      "outputs": [
        {
          "name": "stdout",
          "output_type": "stream",
          "text": [
            "Accuracy with RandomForest: 0.8429978118161926, with criterion=gini, max_depth=20, feature_len=72\n"
          ]
        },
        {
          "data": {
            "image/png": "[encoded data removed]",
            "text/plain": [
              "<Figure size 576x432 with 1 Axes>"
            ]
          },
          "metadata": {
            "needs_background": "light"
          },
          "output_type": "display_data"
        }
      ],
      "source": [
        "from sklearn.ensemble import RandomForestClassifier\n",
        "from sklearn.metrics import accuracy_score\n",
        "\n",
        "def RandomForest(X_train, X_test, y_train, y_test, criterion='gini', max_depth=None, feature_len=None):\n",
        "\n",
        "    rf_model = RandomForestClassifier(criterion=criterion, max_depth=max_depth, random_state=42)\n",
        "    rf_model.fit(X_train, y_train)\n",
        "    y_pred = rf_model.predict(X_test)\n",
        "    accuracy = accuracy_score(y_test, y_pred)\n",
        "\n",
        "    print(f\"Accuracy with RandomForest: {accuracy}, with criterion={criterion}, max_depth={max_depth}, feature_len={feature_len}\")\n",
        "\n",
        "    return rf_model\n",
        "\n",
        "X, y = DFToXAndY(oversampling_df2)\n",
        "X_train, X_test, y_train, y_test = train_test_split(X, y, test_size=0.2, random_state=42)\n",
        "\n",
        "rf_model = RandomForest(X_train, X_test, y_train, y_test, max_depth=20, feature_len = 72)\n",
        "y_pred = rf_model.predict(X_test)\n",
        "\n",
        "cm = confusion_matrix(y_test, y_pred)\n",
        "\n",
        "plt.figure(figsize=(8, 6))\n",
        "sns.heatmap(cm, annot=True, fmt=\"d\", cmap=\"Blues\", cbar=False)\n",
        "plt.xlabel(\"Predicted Labels\")\n",
        "plt.ylabel(\"True Labels\")\n",
        "plt.title(\"Confusion Matrix\")\n",
        "plt.show()"
      ]
    }
  ],
  "metadata": {
    "accelerator": "TPU",
    "colab": {
      "provenance": []
    },
    "kernelspec": {
      "display_name": "Python 3",
      "name": "python3"
    },
    "language_info": {
      "codemirror_mode": {
        "name": "ipython",
        "version": 3
      },
      "file_extension": ".py",
      "mimetype": "text/x-python",
      "name": "python",
      "nbconvert_exporter": "python",
      "pygments_lexer": "ipython3",
      "version": "3.10.4"
    }
  },
  "nbformat": 4,
  "nbformat_minor": 0
}
